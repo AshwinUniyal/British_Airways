{
 "cells": [
  {
   "cell_type": "markdown",
   "metadata": {},
   "source": [
    "# Task 2\n",
    "\n",
    "---\n",
    "\n",
    "## Predictive modeling of customer bookings\n",
    "\n",
    "This Jupyter notebook includes some code to get you started with this predictive modeling task. We will use various packages for data manipulation, feature engineering and machine learning.\n",
    "\n",
    "### Exploratory data analysis\n",
    "\n",
    "First, we must explore the data in order to better understand what we have and the statistical properties of the dataset."
   ]
  },
  {
   "cell_type": "code",
   "execution_count": 20,
   "metadata": {},
   "outputs": [],
   "source": [
    "import pandas as pd\n",
    "from sklearn import preprocessing"
   ]
  },
  {
   "cell_type": "code",
   "execution_count": 3,
   "metadata": {},
   "outputs": [
    {
     "data": {
      "text/html": [
       "<div>\n",
       "<style scoped>\n",
       "    .dataframe tbody tr th:only-of-type {\n",
       "        vertical-align: middle;\n",
       "    }\n",
       "\n",
       "    .dataframe tbody tr th {\n",
       "        vertical-align: top;\n",
       "    }\n",
       "\n",
       "    .dataframe thead th {\n",
       "        text-align: right;\n",
       "    }\n",
       "</style>\n",
       "<table border=\"1\" class=\"dataframe\">\n",
       "  <thead>\n",
       "    <tr style=\"text-align: right;\">\n",
       "      <th></th>\n",
       "      <th>num_passengers</th>\n",
       "      <th>sales_channel</th>\n",
       "      <th>trip_type</th>\n",
       "      <th>purchase_lead</th>\n",
       "      <th>length_of_stay</th>\n",
       "      <th>flight_hour</th>\n",
       "      <th>flight_day</th>\n",
       "      <th>route</th>\n",
       "      <th>booking_origin</th>\n",
       "      <th>wants_extra_baggage</th>\n",
       "      <th>wants_preferred_seat</th>\n",
       "      <th>wants_in_flight_meals</th>\n",
       "      <th>flight_duration</th>\n",
       "      <th>booking_complete</th>\n",
       "    </tr>\n",
       "  </thead>\n",
       "  <tbody>\n",
       "    <tr>\n",
       "      <th>0</th>\n",
       "      <td>2</td>\n",
       "      <td>Internet</td>\n",
       "      <td>RoundTrip</td>\n",
       "      <td>262</td>\n",
       "      <td>19</td>\n",
       "      <td>7</td>\n",
       "      <td>Sat</td>\n",
       "      <td>AKLDEL</td>\n",
       "      <td>New Zealand</td>\n",
       "      <td>1</td>\n",
       "      <td>0</td>\n",
       "      <td>0</td>\n",
       "      <td>5.52</td>\n",
       "      <td>0</td>\n",
       "    </tr>\n",
       "    <tr>\n",
       "      <th>1</th>\n",
       "      <td>1</td>\n",
       "      <td>Internet</td>\n",
       "      <td>RoundTrip</td>\n",
       "      <td>112</td>\n",
       "      <td>20</td>\n",
       "      <td>3</td>\n",
       "      <td>Sat</td>\n",
       "      <td>AKLDEL</td>\n",
       "      <td>New Zealand</td>\n",
       "      <td>0</td>\n",
       "      <td>0</td>\n",
       "      <td>0</td>\n",
       "      <td>5.52</td>\n",
       "      <td>0</td>\n",
       "    </tr>\n",
       "    <tr>\n",
       "      <th>2</th>\n",
       "      <td>2</td>\n",
       "      <td>Internet</td>\n",
       "      <td>RoundTrip</td>\n",
       "      <td>243</td>\n",
       "      <td>22</td>\n",
       "      <td>17</td>\n",
       "      <td>Wed</td>\n",
       "      <td>AKLDEL</td>\n",
       "      <td>India</td>\n",
       "      <td>1</td>\n",
       "      <td>1</td>\n",
       "      <td>0</td>\n",
       "      <td>5.52</td>\n",
       "      <td>0</td>\n",
       "    </tr>\n",
       "    <tr>\n",
       "      <th>3</th>\n",
       "      <td>1</td>\n",
       "      <td>Internet</td>\n",
       "      <td>RoundTrip</td>\n",
       "      <td>96</td>\n",
       "      <td>31</td>\n",
       "      <td>4</td>\n",
       "      <td>Sat</td>\n",
       "      <td>AKLDEL</td>\n",
       "      <td>New Zealand</td>\n",
       "      <td>0</td>\n",
       "      <td>0</td>\n",
       "      <td>1</td>\n",
       "      <td>5.52</td>\n",
       "      <td>0</td>\n",
       "    </tr>\n",
       "    <tr>\n",
       "      <th>4</th>\n",
       "      <td>2</td>\n",
       "      <td>Internet</td>\n",
       "      <td>RoundTrip</td>\n",
       "      <td>68</td>\n",
       "      <td>22</td>\n",
       "      <td>15</td>\n",
       "      <td>Wed</td>\n",
       "      <td>AKLDEL</td>\n",
       "      <td>India</td>\n",
       "      <td>1</td>\n",
       "      <td>0</td>\n",
       "      <td>1</td>\n",
       "      <td>5.52</td>\n",
       "      <td>0</td>\n",
       "    </tr>\n",
       "  </tbody>\n",
       "</table>\n",
       "</div>"
      ],
      "text/plain": [
       "   num_passengers sales_channel  trip_type  purchase_lead  length_of_stay  \\\n",
       "0               2      Internet  RoundTrip            262              19   \n",
       "1               1      Internet  RoundTrip            112              20   \n",
       "2               2      Internet  RoundTrip            243              22   \n",
       "3               1      Internet  RoundTrip             96              31   \n",
       "4               2      Internet  RoundTrip             68              22   \n",
       "\n",
       "   flight_hour flight_day   route booking_origin  wants_extra_baggage  \\\n",
       "0            7        Sat  AKLDEL    New Zealand                    1   \n",
       "1            3        Sat  AKLDEL    New Zealand                    0   \n",
       "2           17        Wed  AKLDEL          India                    1   \n",
       "3            4        Sat  AKLDEL    New Zealand                    0   \n",
       "4           15        Wed  AKLDEL          India                    1   \n",
       "\n",
       "   wants_preferred_seat  wants_in_flight_meals  flight_duration  \\\n",
       "0                     0                      0             5.52   \n",
       "1                     0                      0             5.52   \n",
       "2                     1                      0             5.52   \n",
       "3                     0                      1             5.52   \n",
       "4                     0                      1             5.52   \n",
       "\n",
       "   booking_complete  \n",
       "0                 0  \n",
       "1                 0  \n",
       "2                 0  \n",
       "3                 0  \n",
       "4                 0  "
      ]
     },
     "execution_count": 3,
     "metadata": {},
     "output_type": "execute_result"
    }
   ],
   "source": [
    "df = pd.read_csv(\"customer_booking.csv\", encoding=\"ISO-8859-1\")\n",
    "df.head()"
   ]
  },
  {
   "cell_type": "markdown",
   "metadata": {},
   "source": [
    "The `.head()` method allows us to view the first 5 rows in the dataset, this is useful for visual inspection of our columns"
   ]
  },
  {
   "cell_type": "code",
   "execution_count": 4,
   "metadata": {},
   "outputs": [
    {
     "name": "stdout",
     "output_type": "stream",
     "text": [
      "<class 'pandas.core.frame.DataFrame'>\n",
      "RangeIndex: 50000 entries, 0 to 49999\n",
      "Data columns (total 14 columns):\n",
      " #   Column                 Non-Null Count  Dtype  \n",
      "---  ------                 --------------  -----  \n",
      " 0   num_passengers         50000 non-null  int64  \n",
      " 1   sales_channel          50000 non-null  object \n",
      " 2   trip_type              50000 non-null  object \n",
      " 3   purchase_lead          50000 non-null  int64  \n",
      " 4   length_of_stay         50000 non-null  int64  \n",
      " 5   flight_hour            50000 non-null  int64  \n",
      " 6   flight_day             50000 non-null  object \n",
      " 7   route                  50000 non-null  object \n",
      " 8   booking_origin         50000 non-null  object \n",
      " 9   wants_extra_baggage    50000 non-null  int64  \n",
      " 10  wants_preferred_seat   50000 non-null  int64  \n",
      " 11  wants_in_flight_meals  50000 non-null  int64  \n",
      " 12  flight_duration        50000 non-null  float64\n",
      " 13  booking_complete       50000 non-null  int64  \n",
      "dtypes: float64(1), int64(8), object(5)\n",
      "memory usage: 5.3+ MB\n"
     ]
    }
   ],
   "source": [
    "df.info()"
   ]
  },
  {
   "cell_type": "markdown",
   "metadata": {},
   "source": [
    "The `.info()` method gives us a data description, telling us the names of the columns, their data types and how many null values we have. Fortunately, we have no null values. It looks like some of these columns should be converted into different data types, e.g. flight_day.\n",
    "\n",
    "To provide more context, below is a more detailed data description, explaining exactly what each column means:\n",
    "\n",
    "- `num_passengers` = number of passengers travelling\n",
    "- `sales_channel` = sales channel booking was made on\n",
    "- `trip_type` = trip Type (Round Trip, One Way, Circle Trip)\n",
    "- `purchase_lead` = number of days between travel date and booking date\n",
    "- `length_of_stay` = number of days spent at destination\n",
    "- `flight_hour` = hour of flight departure\n",
    "- `flight_day` = day of week of flight departure\n",
    "- `route` = origin -> destination flight route\n",
    "- `booking_origin` = country from where booking was made\n",
    "- `wants_extra_baggage` = if the customer wanted extra baggage in the booking\n",
    "- `wants_preferred_seat` = if the customer wanted a preferred seat in the booking\n",
    "- `wants_in_flight_meals` = if the customer wanted in-flight meals in the booking\n",
    "- `flight_duration` = total duration of flight (in hours)\n",
    "- `booking_complete` = flag indicating if the customer completed the booking\n",
    "\n",
    "Before we compute any statistics on the data, lets do any necessary data conversion"
   ]
  },
  {
   "cell_type": "code",
   "execution_count": 5,
   "metadata": {},
   "outputs": [
    {
     "data": {
      "text/plain": [
       "array(['Sat', 'Wed', 'Thu', 'Mon', 'Sun', 'Tue', 'Fri'], dtype=object)"
      ]
     },
     "execution_count": 5,
     "metadata": {},
     "output_type": "execute_result"
    }
   ],
   "source": [
    "df[\"flight_day\"].unique()"
   ]
  },
  {
   "cell_type": "code",
   "execution_count": 6,
   "metadata": {},
   "outputs": [],
   "source": [
    "mapping = {\n",
    "    \"Mon\": 1,\n",
    "    \"Tue\": 2,\n",
    "    \"Wed\": 3,\n",
    "    \"Thu\": 4,\n",
    "    \"Fri\": 5,\n",
    "    \"Sat\": 6,\n",
    "    \"Sun\": 7,\n",
    "}\n",
    "\n",
    "df[\"flight_day\"] = df[\"flight_day\"].map(mapping)"
   ]
  },
  {
   "cell_type": "code",
   "execution_count": 7,
   "metadata": {},
   "outputs": [
    {
     "data": {
      "text/plain": [
       "array([6, 3, 4, 1, 7, 2, 5], dtype=int64)"
      ]
     },
     "execution_count": 7,
     "metadata": {},
     "output_type": "execute_result"
    }
   ],
   "source": [
    "df[\"flight_day\"].unique()"
   ]
  },
  {
   "cell_type": "code",
   "execution_count": 8,
   "metadata": {},
   "outputs": [
    {
     "data": {
      "text/html": [
       "<div>\n",
       "<style scoped>\n",
       "    .dataframe tbody tr th:only-of-type {\n",
       "        vertical-align: middle;\n",
       "    }\n",
       "\n",
       "    .dataframe tbody tr th {\n",
       "        vertical-align: top;\n",
       "    }\n",
       "\n",
       "    .dataframe thead th {\n",
       "        text-align: right;\n",
       "    }\n",
       "</style>\n",
       "<table border=\"1\" class=\"dataframe\">\n",
       "  <thead>\n",
       "    <tr style=\"text-align: right;\">\n",
       "      <th></th>\n",
       "      <th>num_passengers</th>\n",
       "      <th>purchase_lead</th>\n",
       "      <th>length_of_stay</th>\n",
       "      <th>flight_hour</th>\n",
       "      <th>flight_day</th>\n",
       "      <th>wants_extra_baggage</th>\n",
       "      <th>wants_preferred_seat</th>\n",
       "      <th>wants_in_flight_meals</th>\n",
       "      <th>flight_duration</th>\n",
       "      <th>booking_complete</th>\n",
       "    </tr>\n",
       "  </thead>\n",
       "  <tbody>\n",
       "    <tr>\n",
       "      <th>count</th>\n",
       "      <td>50000.000000</td>\n",
       "      <td>50000.000000</td>\n",
       "      <td>50000.00000</td>\n",
       "      <td>50000.00000</td>\n",
       "      <td>50000.000000</td>\n",
       "      <td>50000.000000</td>\n",
       "      <td>50000.000000</td>\n",
       "      <td>50000.000000</td>\n",
       "      <td>50000.000000</td>\n",
       "      <td>50000.000000</td>\n",
       "    </tr>\n",
       "    <tr>\n",
       "      <th>mean</th>\n",
       "      <td>1.591240</td>\n",
       "      <td>84.940480</td>\n",
       "      <td>23.04456</td>\n",
       "      <td>9.06634</td>\n",
       "      <td>3.814420</td>\n",
       "      <td>0.668780</td>\n",
       "      <td>0.296960</td>\n",
       "      <td>0.427140</td>\n",
       "      <td>7.277561</td>\n",
       "      <td>0.149560</td>\n",
       "    </tr>\n",
       "    <tr>\n",
       "      <th>std</th>\n",
       "      <td>1.020165</td>\n",
       "      <td>90.451378</td>\n",
       "      <td>33.88767</td>\n",
       "      <td>5.41266</td>\n",
       "      <td>1.992792</td>\n",
       "      <td>0.470657</td>\n",
       "      <td>0.456923</td>\n",
       "      <td>0.494668</td>\n",
       "      <td>1.496863</td>\n",
       "      <td>0.356643</td>\n",
       "    </tr>\n",
       "    <tr>\n",
       "      <th>min</th>\n",
       "      <td>1.000000</td>\n",
       "      <td>0.000000</td>\n",
       "      <td>0.00000</td>\n",
       "      <td>0.00000</td>\n",
       "      <td>1.000000</td>\n",
       "      <td>0.000000</td>\n",
       "      <td>0.000000</td>\n",
       "      <td>0.000000</td>\n",
       "      <td>4.670000</td>\n",
       "      <td>0.000000</td>\n",
       "    </tr>\n",
       "    <tr>\n",
       "      <th>25%</th>\n",
       "      <td>1.000000</td>\n",
       "      <td>21.000000</td>\n",
       "      <td>5.00000</td>\n",
       "      <td>5.00000</td>\n",
       "      <td>2.000000</td>\n",
       "      <td>0.000000</td>\n",
       "      <td>0.000000</td>\n",
       "      <td>0.000000</td>\n",
       "      <td>5.620000</td>\n",
       "      <td>0.000000</td>\n",
       "    </tr>\n",
       "    <tr>\n",
       "      <th>50%</th>\n",
       "      <td>1.000000</td>\n",
       "      <td>51.000000</td>\n",
       "      <td>17.00000</td>\n",
       "      <td>9.00000</td>\n",
       "      <td>4.000000</td>\n",
       "      <td>1.000000</td>\n",
       "      <td>0.000000</td>\n",
       "      <td>0.000000</td>\n",
       "      <td>7.570000</td>\n",
       "      <td>0.000000</td>\n",
       "    </tr>\n",
       "    <tr>\n",
       "      <th>75%</th>\n",
       "      <td>2.000000</td>\n",
       "      <td>115.000000</td>\n",
       "      <td>28.00000</td>\n",
       "      <td>13.00000</td>\n",
       "      <td>5.000000</td>\n",
       "      <td>1.000000</td>\n",
       "      <td>1.000000</td>\n",
       "      <td>1.000000</td>\n",
       "      <td>8.830000</td>\n",
       "      <td>0.000000</td>\n",
       "    </tr>\n",
       "    <tr>\n",
       "      <th>max</th>\n",
       "      <td>9.000000</td>\n",
       "      <td>867.000000</td>\n",
       "      <td>778.00000</td>\n",
       "      <td>23.00000</td>\n",
       "      <td>7.000000</td>\n",
       "      <td>1.000000</td>\n",
       "      <td>1.000000</td>\n",
       "      <td>1.000000</td>\n",
       "      <td>9.500000</td>\n",
       "      <td>1.000000</td>\n",
       "    </tr>\n",
       "  </tbody>\n",
       "</table>\n",
       "</div>"
      ],
      "text/plain": [
       "       num_passengers  purchase_lead  length_of_stay  flight_hour  \\\n",
       "count    50000.000000   50000.000000     50000.00000  50000.00000   \n",
       "mean         1.591240      84.940480        23.04456      9.06634   \n",
       "std          1.020165      90.451378        33.88767      5.41266   \n",
       "min          1.000000       0.000000         0.00000      0.00000   \n",
       "25%          1.000000      21.000000         5.00000      5.00000   \n",
       "50%          1.000000      51.000000        17.00000      9.00000   \n",
       "75%          2.000000     115.000000        28.00000     13.00000   \n",
       "max          9.000000     867.000000       778.00000     23.00000   \n",
       "\n",
       "         flight_day  wants_extra_baggage  wants_preferred_seat  \\\n",
       "count  50000.000000         50000.000000          50000.000000   \n",
       "mean       3.814420             0.668780              0.296960   \n",
       "std        1.992792             0.470657              0.456923   \n",
       "min        1.000000             0.000000              0.000000   \n",
       "25%        2.000000             0.000000              0.000000   \n",
       "50%        4.000000             1.000000              0.000000   \n",
       "75%        5.000000             1.000000              1.000000   \n",
       "max        7.000000             1.000000              1.000000   \n",
       "\n",
       "       wants_in_flight_meals  flight_duration  booking_complete  \n",
       "count           50000.000000     50000.000000      50000.000000  \n",
       "mean                0.427140         7.277561          0.149560  \n",
       "std                 0.494668         1.496863          0.356643  \n",
       "min                 0.000000         4.670000          0.000000  \n",
       "25%                 0.000000         5.620000          0.000000  \n",
       "50%                 0.000000         7.570000          0.000000  \n",
       "75%                 1.000000         8.830000          0.000000  \n",
       "max                 1.000000         9.500000          1.000000  "
      ]
     },
     "execution_count": 8,
     "metadata": {},
     "output_type": "execute_result"
    }
   ],
   "source": [
    "df.describe()"
   ]
  },
  {
   "cell_type": "markdown",
   "metadata": {},
   "source": [
    "The `.describe()` method gives us a summary of descriptive statistics over the entire dataset (only works for numeric columns). This gives us a quick overview of a few things such as the mean, min, max and overall distribution of each column.\n",
    "\n",
    "From this point, you should continue exploring the dataset with some visualisations and other metrics that you think may be useful. Then, you should prepare your dataset for predictive modelling. Finally, you should train your machine learning model, evaluate it with performance metrics and output visualisations for the contributing variables. All of this analysis should be summarised in your single slide."
   ]
  },
  {
   "cell_type": "markdown",
   "metadata": {},
   "source": []
  },
  {
   "cell_type": "code",
   "execution_count": 9,
   "metadata": {},
   "outputs": [
    {
     "data": {
      "text/plain": [
       "array(['Internet', 'Mobile'], dtype=object)"
      ]
     },
     "execution_count": 9,
     "metadata": {},
     "output_type": "execute_result"
    }
   ],
   "source": [
    "df[\"sales_channel\"].unique()"
   ]
  },
  {
   "cell_type": "code",
   "execution_count": 10,
   "metadata": {},
   "outputs": [],
   "source": [
    "mapping = {\n",
    "    \"Internet\": 1,\n",
    "    \"Mobile\": 2\n",
    "\n",
    "}\n",
    "\n",
    "df[\"sales_channel\"] = df[\"sales_channel\"].map(mapping)"
   ]
  },
  {
   "cell_type": "code",
   "execution_count": 11,
   "metadata": {},
   "outputs": [
    {
     "data": {
      "text/plain": [
       "array(['RoundTrip', 'CircleTrip', 'OneWay'], dtype=object)"
      ]
     },
     "execution_count": 11,
     "metadata": {},
     "output_type": "execute_result"
    }
   ],
   "source": [
    "df[\"trip_type\"].unique()"
   ]
  },
  {
   "cell_type": "code",
   "execution_count": 12,
   "metadata": {},
   "outputs": [],
   "source": [
    "mapping = {\n",
    "    \"RoundTrip\": 1,\n",
    "    \"CircleTrip\": 2,\n",
    "    'OneWay':3\n",
    "\n",
    "}\n",
    "\n",
    "df[\"trip_type\"] = df[\"trip_type\"].map(mapping)"
   ]
  },
  {
   "cell_type": "code",
   "execution_count": 13,
   "metadata": {
    "scrolled": true
   },
   "outputs": [
    {
     "data": {
      "text/html": [
       "<div>\n",
       "<style scoped>\n",
       "    .dataframe tbody tr th:only-of-type {\n",
       "        vertical-align: middle;\n",
       "    }\n",
       "\n",
       "    .dataframe tbody tr th {\n",
       "        vertical-align: top;\n",
       "    }\n",
       "\n",
       "    .dataframe thead th {\n",
       "        text-align: right;\n",
       "    }\n",
       "</style>\n",
       "<table border=\"1\" class=\"dataframe\">\n",
       "  <thead>\n",
       "    <tr style=\"text-align: right;\">\n",
       "      <th></th>\n",
       "      <th>num_passengers</th>\n",
       "      <th>sales_channel</th>\n",
       "      <th>trip_type</th>\n",
       "      <th>purchase_lead</th>\n",
       "      <th>length_of_stay</th>\n",
       "      <th>flight_hour</th>\n",
       "      <th>flight_day</th>\n",
       "      <th>route</th>\n",
       "      <th>booking_origin</th>\n",
       "      <th>wants_extra_baggage</th>\n",
       "      <th>wants_preferred_seat</th>\n",
       "      <th>wants_in_flight_meals</th>\n",
       "      <th>flight_duration</th>\n",
       "      <th>booking_complete</th>\n",
       "    </tr>\n",
       "  </thead>\n",
       "  <tbody>\n",
       "    <tr>\n",
       "      <th>0</th>\n",
       "      <td>2</td>\n",
       "      <td>1</td>\n",
       "      <td>1</td>\n",
       "      <td>262</td>\n",
       "      <td>19</td>\n",
       "      <td>7</td>\n",
       "      <td>6</td>\n",
       "      <td>AKLDEL</td>\n",
       "      <td>New Zealand</td>\n",
       "      <td>1</td>\n",
       "      <td>0</td>\n",
       "      <td>0</td>\n",
       "      <td>5.52</td>\n",
       "      <td>0</td>\n",
       "    </tr>\n",
       "    <tr>\n",
       "      <th>1</th>\n",
       "      <td>1</td>\n",
       "      <td>1</td>\n",
       "      <td>1</td>\n",
       "      <td>112</td>\n",
       "      <td>20</td>\n",
       "      <td>3</td>\n",
       "      <td>6</td>\n",
       "      <td>AKLDEL</td>\n",
       "      <td>New Zealand</td>\n",
       "      <td>0</td>\n",
       "      <td>0</td>\n",
       "      <td>0</td>\n",
       "      <td>5.52</td>\n",
       "      <td>0</td>\n",
       "    </tr>\n",
       "    <tr>\n",
       "      <th>2</th>\n",
       "      <td>2</td>\n",
       "      <td>1</td>\n",
       "      <td>1</td>\n",
       "      <td>243</td>\n",
       "      <td>22</td>\n",
       "      <td>17</td>\n",
       "      <td>3</td>\n",
       "      <td>AKLDEL</td>\n",
       "      <td>India</td>\n",
       "      <td>1</td>\n",
       "      <td>1</td>\n",
       "      <td>0</td>\n",
       "      <td>5.52</td>\n",
       "      <td>0</td>\n",
       "    </tr>\n",
       "    <tr>\n",
       "      <th>3</th>\n",
       "      <td>1</td>\n",
       "      <td>1</td>\n",
       "      <td>1</td>\n",
       "      <td>96</td>\n",
       "      <td>31</td>\n",
       "      <td>4</td>\n",
       "      <td>6</td>\n",
       "      <td>AKLDEL</td>\n",
       "      <td>New Zealand</td>\n",
       "      <td>0</td>\n",
       "      <td>0</td>\n",
       "      <td>1</td>\n",
       "      <td>5.52</td>\n",
       "      <td>0</td>\n",
       "    </tr>\n",
       "    <tr>\n",
       "      <th>4</th>\n",
       "      <td>2</td>\n",
       "      <td>1</td>\n",
       "      <td>1</td>\n",
       "      <td>68</td>\n",
       "      <td>22</td>\n",
       "      <td>15</td>\n",
       "      <td>3</td>\n",
       "      <td>AKLDEL</td>\n",
       "      <td>India</td>\n",
       "      <td>1</td>\n",
       "      <td>0</td>\n",
       "      <td>1</td>\n",
       "      <td>5.52</td>\n",
       "      <td>0</td>\n",
       "    </tr>\n",
       "  </tbody>\n",
       "</table>\n",
       "</div>"
      ],
      "text/plain": [
       "   num_passengers  sales_channel  trip_type  purchase_lead  length_of_stay  \\\n",
       "0               2              1          1            262              19   \n",
       "1               1              1          1            112              20   \n",
       "2               2              1          1            243              22   \n",
       "3               1              1          1             96              31   \n",
       "4               2              1          1             68              22   \n",
       "\n",
       "   flight_hour  flight_day   route booking_origin  wants_extra_baggage  \\\n",
       "0            7           6  AKLDEL    New Zealand                    1   \n",
       "1            3           6  AKLDEL    New Zealand                    0   \n",
       "2           17           3  AKLDEL          India                    1   \n",
       "3            4           6  AKLDEL    New Zealand                    0   \n",
       "4           15           3  AKLDEL          India                    1   \n",
       "\n",
       "   wants_preferred_seat  wants_in_flight_meals  flight_duration  \\\n",
       "0                     0                      0             5.52   \n",
       "1                     0                      0             5.52   \n",
       "2                     1                      0             5.52   \n",
       "3                     0                      1             5.52   \n",
       "4                     0                      1             5.52   \n",
       "\n",
       "   booking_complete  \n",
       "0                 0  \n",
       "1                 0  \n",
       "2                 0  \n",
       "3                 0  \n",
       "4                 0  "
      ]
     },
     "execution_count": 13,
     "metadata": {},
     "output_type": "execute_result"
    }
   ],
   "source": [
    "df.head()"
   ]
  },
  {
   "cell_type": "code",
   "execution_count": 17,
   "metadata": {},
   "outputs": [],
   "source": [
    "df = df.drop(['route', 'booking_origin'], axis=1)"
   ]
  },
  {
   "cell_type": "code",
   "execution_count": 19,
   "metadata": {},
   "outputs": [
    {
     "name": "stdout",
     "output_type": "stream",
     "text": [
      "(50000, 11)\n",
      "(50000, 1)\n"
     ]
    }
   ],
   "source": [
    "## random forest classifier\n",
    "\n",
    "X = df.loc[:,df.columns != 'booking_complete']\n",
    "y = df.loc[:, df.columns == 'booking_complete']\n",
    "print(X.shape)\n",
    "print(y.shape)"
   ]
  },
  {
   "cell_type": "code",
   "execution_count": 22,
   "metadata": {},
   "outputs": [],
   "source": [
    "X = preprocessing.scale(X)\n",
    "y= y.to_numpy()"
   ]
  },
  {
   "cell_type": "code",
   "execution_count": 25,
   "metadata": {},
   "outputs": [],
   "source": [
    "from sklearn.model_selection import train_test_split\n",
    "from sklearn.linear_model import LogisticRegression\n",
    "\n",
    "\n",
    "X_train,X_test, y_train,y_test = train_test_split(X,y,test_size=0.3,shuffle=True)"
   ]
  },
  {
   "cell_type": "code",
   "execution_count": 27,
   "metadata": {},
   "outputs": [
    {
     "data": {
      "text/plain": [
       "DecisionTreeClassifier(max_depth=5, random_state=1)"
      ]
     },
     "execution_count": 27,
     "metadata": {},
     "output_type": "execute_result"
    }
   ],
   "source": [
    "from sklearn.tree import DecisionTreeClassifier\n",
    "DTclf_model = DecisionTreeClassifier(criterion=\"gini\", random_state=1,max_depth=5, min_samples_leaf=1)   \n",
    "DTclf_model.fit(X_train,y_train)"
   ]
  },
  {
   "cell_type": "code",
   "execution_count": 28,
   "metadata": {},
   "outputs": [
    {
     "name": "stdout",
     "output_type": "stream",
     "text": [
      "Accuracy of classifier on training set: 0.8487\n",
      "Accuracy of Decision tree classifier on test set: 0.8552\n"
     ]
    }
   ],
   "source": [
    "y_predDT = DTclf_model.predict(X_test)\n",
    "print('Accuracy of classifier on training set: {:.4f}'.format(DTclf_model.score(X_train, y_train)))\n",
    "print('Accuracy of Decision tree classifier on test set: {:.4f}'.format(DTclf_model.score(X_test, y_test)))"
   ]
  },
  {
   "cell_type": "code",
   "execution_count": 31,
   "metadata": {},
   "outputs": [
    {
     "name": "stdout",
     "output_type": "stream",
     "text": [
      "Fitting 5 folds for each of 180 candidates, totalling 900 fits\n",
      "[CV] END .max_depth=4, max_leaf_nodes=3, min_samples_split=4; total time=   0.0s\n",
      "[CV] END .max_depth=4, max_leaf_nodes=3, min_samples_split=4; total time=   0.0s\n",
      "[CV] END .max_depth=4, max_leaf_nodes=3, min_samples_split=4; total time=   0.0s\n",
      "[CV] END .max_depth=4, max_leaf_nodes=3, min_samples_split=4; total time=   0.0s\n",
      "[CV] END .max_depth=4, max_leaf_nodes=3, min_samples_split=4; total time=   0.0s\n",
      "[CV] END .max_depth=4, max_leaf_nodes=3, min_samples_split=6; total time=   0.0s\n",
      "[CV] END .max_depth=4, max_leaf_nodes=3, min_samples_split=6; total time=   0.0s\n",
      "[CV] END .max_depth=4, max_leaf_nodes=3, min_samples_split=6; total time=   0.0s\n",
      "[CV] END .max_depth=4, max_leaf_nodes=3, min_samples_split=6; total time=   0.0s\n",
      "[CV] END .max_depth=4, max_leaf_nodes=3, min_samples_split=6; total time=   0.0s\n",
      "[CV] END .max_depth=4, max_leaf_nodes=3, min_samples_split=8; total time=   0.0s\n",
      "[CV] END .max_depth=4, max_leaf_nodes=3, min_samples_split=8; total time=   0.0s\n",
      "[CV] END .max_depth=4, max_leaf_nodes=3, min_samples_split=8; total time=   0.0s\n",
      "[CV] END .max_depth=4, max_leaf_nodes=3, min_samples_split=8; total time=   0.0s\n",
      "[CV] END .max_depth=4, max_leaf_nodes=3, min_samples_split=8; total time=   0.0s\n",
      "[CV] END max_depth=4, max_leaf_nodes=3, min_samples_split=10; total time=   0.0s\n",
      "[CV] END max_depth=4, max_leaf_nodes=3, min_samples_split=10; total time=   0.0s\n",
      "[CV] END max_depth=4, max_leaf_nodes=3, min_samples_split=10; total time=   0.0s\n",
      "[CV] END max_depth=4, max_leaf_nodes=3, min_samples_split=10; total time=   0.0s\n",
      "[CV] END max_depth=4, max_leaf_nodes=3, min_samples_split=10; total time=   0.0s\n",
      "[CV] END .max_depth=4, max_leaf_nodes=7, min_samples_split=4; total time=   0.0s\n",
      "[CV] END .max_depth=4, max_leaf_nodes=7, min_samples_split=4; total time=   0.0s\n",
      "[CV] END .max_depth=4, max_leaf_nodes=7, min_samples_split=4; total time=   0.0s\n",
      "[CV] END .max_depth=4, max_leaf_nodes=7, min_samples_split=4; total time=   0.0s\n",
      "[CV] END .max_depth=4, max_leaf_nodes=7, min_samples_split=4; total time=   0.0s\n",
      "[CV] END .max_depth=4, max_leaf_nodes=7, min_samples_split=6; total time=   0.0s\n",
      "[CV] END .max_depth=4, max_leaf_nodes=7, min_samples_split=6; total time=   0.0s\n",
      "[CV] END .max_depth=4, max_leaf_nodes=7, min_samples_split=6; total time=   0.0s\n",
      "[CV] END .max_depth=4, max_leaf_nodes=7, min_samples_split=6; total time=   0.0s\n",
      "[CV] END .max_depth=4, max_leaf_nodes=7, min_samples_split=6; total time=   0.0s\n",
      "[CV] END .max_depth=4, max_leaf_nodes=7, min_samples_split=8; total time=   0.0s\n",
      "[CV] END .max_depth=4, max_leaf_nodes=7, min_samples_split=8; total time=   0.0s\n",
      "[CV] END .max_depth=4, max_leaf_nodes=7, min_samples_split=8; total time=   0.0s\n",
      "[CV] END .max_depth=4, max_leaf_nodes=7, min_samples_split=8; total time=   0.0s\n",
      "[CV] END .max_depth=4, max_leaf_nodes=7, min_samples_split=8; total time=   0.0s\n",
      "[CV] END max_depth=4, max_leaf_nodes=7, min_samples_split=10; total time=   0.0s\n",
      "[CV] END max_depth=4, max_leaf_nodes=7, min_samples_split=10; total time=   0.0s\n",
      "[CV] END max_depth=4, max_leaf_nodes=7, min_samples_split=10; total time=   0.0s\n",
      "[CV] END max_depth=4, max_leaf_nodes=7, min_samples_split=10; total time=   0.0s\n",
      "[CV] END max_depth=4, max_leaf_nodes=7, min_samples_split=10; total time=   0.0s\n",
      "[CV] END max_depth=4, max_leaf_nodes=10, min_samples_split=4; total time=   0.0s\n",
      "[CV] END max_depth=4, max_leaf_nodes=10, min_samples_split=4; total time=   0.0s\n",
      "[CV] END max_depth=4, max_leaf_nodes=10, min_samples_split=4; total time=   0.0s\n",
      "[CV] END max_depth=4, max_leaf_nodes=10, min_samples_split=4; total time=   0.0s\n",
      "[CV] END max_depth=4, max_leaf_nodes=10, min_samples_split=4; total time=   0.0s\n",
      "[CV] END max_depth=4, max_leaf_nodes=10, min_samples_split=6; total time=   0.0s\n",
      "[CV] END max_depth=4, max_leaf_nodes=10, min_samples_split=6; total time=   0.0s\n",
      "[CV] END max_depth=4, max_leaf_nodes=10, min_samples_split=6; total time=   0.0s\n",
      "[CV] END max_depth=4, max_leaf_nodes=10, min_samples_split=6; total time=   0.0s\n",
      "[CV] END max_depth=4, max_leaf_nodes=10, min_samples_split=6; total time=   0.0s\n",
      "[CV] END max_depth=4, max_leaf_nodes=10, min_samples_split=8; total time=   0.0s\n",
      "[CV] END max_depth=4, max_leaf_nodes=10, min_samples_split=8; total time=   0.0s\n",
      "[CV] END max_depth=4, max_leaf_nodes=10, min_samples_split=8; total time=   0.0s\n",
      "[CV] END max_depth=4, max_leaf_nodes=10, min_samples_split=8; total time=   0.0s\n",
      "[CV] END max_depth=4, max_leaf_nodes=10, min_samples_split=8; total time=   0.0s\n",
      "[CV] END max_depth=4, max_leaf_nodes=10, min_samples_split=10; total time=   0.0s\n",
      "[CV] END max_depth=4, max_leaf_nodes=10, min_samples_split=10; total time=   0.0s\n",
      "[CV] END max_depth=4, max_leaf_nodes=10, min_samples_split=10; total time=   0.0s\n",
      "[CV] END max_depth=4, max_leaf_nodes=10, min_samples_split=10; total time=   0.0s\n",
      "[CV] END max_depth=4, max_leaf_nodes=10, min_samples_split=10; total time=   0.0s\n",
      "[CV] END max_depth=4, max_leaf_nodes=30, min_samples_split=4; total time=   0.0s\n",
      "[CV] END max_depth=4, max_leaf_nodes=30, min_samples_split=4; total time=   0.0s\n",
      "[CV] END max_depth=4, max_leaf_nodes=30, min_samples_split=4; total time=   0.0s\n",
      "[CV] END max_depth=4, max_leaf_nodes=30, min_samples_split=4; total time=   0.0s\n",
      "[CV] END max_depth=4, max_leaf_nodes=30, min_samples_split=4; total time=   0.0s\n",
      "[CV] END max_depth=4, max_leaf_nodes=30, min_samples_split=6; total time=   0.0s\n",
      "[CV] END max_depth=4, max_leaf_nodes=30, min_samples_split=6; total time=   0.0s\n",
      "[CV] END max_depth=4, max_leaf_nodes=30, min_samples_split=6; total time=   0.0s\n",
      "[CV] END max_depth=4, max_leaf_nodes=30, min_samples_split=6; total time=   0.0s\n",
      "[CV] END max_depth=4, max_leaf_nodes=30, min_samples_split=6; total time=   0.0s\n",
      "[CV] END max_depth=4, max_leaf_nodes=30, min_samples_split=8; total time=   0.0s\n",
      "[CV] END max_depth=4, max_leaf_nodes=30, min_samples_split=8; total time=   0.0s\n",
      "[CV] END max_depth=4, max_leaf_nodes=30, min_samples_split=8; total time=   0.0s\n",
      "[CV] END max_depth=4, max_leaf_nodes=30, min_samples_split=8; total time=   0.0s\n",
      "[CV] END max_depth=4, max_leaf_nodes=30, min_samples_split=8; total time=   0.0s\n",
      "[CV] END max_depth=4, max_leaf_nodes=30, min_samples_split=10; total time=   0.0s\n",
      "[CV] END max_depth=4, max_leaf_nodes=30, min_samples_split=10; total time=   0.0s\n",
      "[CV] END max_depth=4, max_leaf_nodes=30, min_samples_split=10; total time=   0.0s\n",
      "[CV] END max_depth=4, max_leaf_nodes=30, min_samples_split=10; total time=   0.0s\n",
      "[CV] END max_depth=4, max_leaf_nodes=30, min_samples_split=10; total time=   0.0s\n",
      "[CV] END max_depth=4, max_leaf_nodes=40, min_samples_split=4; total time=   0.0s\n",
      "[CV] END max_depth=4, max_leaf_nodes=40, min_samples_split=4; total time=   0.0s\n",
      "[CV] END max_depth=4, max_leaf_nodes=40, min_samples_split=4; total time=   0.0s\n",
      "[CV] END max_depth=4, max_leaf_nodes=40, min_samples_split=4; total time=   0.0s\n",
      "[CV] END max_depth=4, max_leaf_nodes=40, min_samples_split=4; total time=   0.0s\n",
      "[CV] END max_depth=4, max_leaf_nodes=40, min_samples_split=6; total time=   0.0s\n",
      "[CV] END max_depth=4, max_leaf_nodes=40, min_samples_split=6; total time=   0.0s\n",
      "[CV] END max_depth=4, max_leaf_nodes=40, min_samples_split=6; total time=   0.0s\n",
      "[CV] END max_depth=4, max_leaf_nodes=40, min_samples_split=6; total time=   0.0s\n",
      "[CV] END max_depth=4, max_leaf_nodes=40, min_samples_split=6; total time=   0.0s\n",
      "[CV] END max_depth=4, max_leaf_nodes=40, min_samples_split=8; total time=   0.0s\n",
      "[CV] END max_depth=4, max_leaf_nodes=40, min_samples_split=8; total time=   0.0s\n",
      "[CV] END max_depth=4, max_leaf_nodes=40, min_samples_split=8; total time=   0.0s\n",
      "[CV] END max_depth=4, max_leaf_nodes=40, min_samples_split=8; total time=   0.0s\n",
      "[CV] END max_depth=4, max_leaf_nodes=40, min_samples_split=8; total time=   0.0s\n",
      "[CV] END max_depth=4, max_leaf_nodes=40, min_samples_split=10; total time=   0.0s\n",
      "[CV] END max_depth=4, max_leaf_nodes=40, min_samples_split=10; total time=   0.0s\n",
      "[CV] END max_depth=4, max_leaf_nodes=40, min_samples_split=10; total time=   0.0s\n",
      "[CV] END max_depth=4, max_leaf_nodes=40, min_samples_split=10; total time=   0.0s\n",
      "[CV] END max_depth=4, max_leaf_nodes=40, min_samples_split=10; total time=   0.0s\n",
      "[CV] END .max_depth=5, max_leaf_nodes=3, min_samples_split=4; total time=   0.0s\n"
     ]
    },
    {
     "name": "stdout",
     "output_type": "stream",
     "text": [
      "[CV] END .max_depth=5, max_leaf_nodes=3, min_samples_split=4; total time=   0.0s\n",
      "[CV] END .max_depth=5, max_leaf_nodes=3, min_samples_split=4; total time=   0.0s\n",
      "[CV] END .max_depth=5, max_leaf_nodes=3, min_samples_split=4; total time=   0.0s\n",
      "[CV] END .max_depth=5, max_leaf_nodes=3, min_samples_split=4; total time=   0.0s\n",
      "[CV] END .max_depth=5, max_leaf_nodes=3, min_samples_split=6; total time=   0.0s\n",
      "[CV] END .max_depth=5, max_leaf_nodes=3, min_samples_split=6; total time=   0.0s\n",
      "[CV] END .max_depth=5, max_leaf_nodes=3, min_samples_split=6; total time=   0.0s\n",
      "[CV] END .max_depth=5, max_leaf_nodes=3, min_samples_split=6; total time=   0.0s\n",
      "[CV] END .max_depth=5, max_leaf_nodes=3, min_samples_split=6; total time=   0.0s\n",
      "[CV] END .max_depth=5, max_leaf_nodes=3, min_samples_split=8; total time=   0.0s\n",
      "[CV] END .max_depth=5, max_leaf_nodes=3, min_samples_split=8; total time=   0.0s\n",
      "[CV] END .max_depth=5, max_leaf_nodes=3, min_samples_split=8; total time=   0.0s\n",
      "[CV] END .max_depth=5, max_leaf_nodes=3, min_samples_split=8; total time=   0.0s\n",
      "[CV] END .max_depth=5, max_leaf_nodes=3, min_samples_split=8; total time=   0.0s\n",
      "[CV] END max_depth=5, max_leaf_nodes=3, min_samples_split=10; total time=   0.0s\n",
      "[CV] END max_depth=5, max_leaf_nodes=3, min_samples_split=10; total time=   0.0s\n",
      "[CV] END max_depth=5, max_leaf_nodes=3, min_samples_split=10; total time=   0.0s\n",
      "[CV] END max_depth=5, max_leaf_nodes=3, min_samples_split=10; total time=   0.0s\n",
      "[CV] END max_depth=5, max_leaf_nodes=3, min_samples_split=10; total time=   0.0s\n",
      "[CV] END .max_depth=5, max_leaf_nodes=7, min_samples_split=4; total time=   0.0s\n",
      "[CV] END .max_depth=5, max_leaf_nodes=7, min_samples_split=4; total time=   0.0s\n",
      "[CV] END .max_depth=5, max_leaf_nodes=7, min_samples_split=4; total time=   0.0s\n",
      "[CV] END .max_depth=5, max_leaf_nodes=7, min_samples_split=4; total time=   0.0s\n",
      "[CV] END .max_depth=5, max_leaf_nodes=7, min_samples_split=4; total time=   0.0s\n",
      "[CV] END .max_depth=5, max_leaf_nodes=7, min_samples_split=6; total time=   0.0s\n",
      "[CV] END .max_depth=5, max_leaf_nodes=7, min_samples_split=6; total time=   0.0s\n",
      "[CV] END .max_depth=5, max_leaf_nodes=7, min_samples_split=6; total time=   0.0s\n",
      "[CV] END .max_depth=5, max_leaf_nodes=7, min_samples_split=6; total time=   0.0s\n",
      "[CV] END .max_depth=5, max_leaf_nodes=7, min_samples_split=6; total time=   0.0s\n",
      "[CV] END .max_depth=5, max_leaf_nodes=7, min_samples_split=8; total time=   0.0s\n",
      "[CV] END .max_depth=5, max_leaf_nodes=7, min_samples_split=8; total time=   0.0s\n",
      "[CV] END .max_depth=5, max_leaf_nodes=7, min_samples_split=8; total time=   0.0s\n",
      "[CV] END .max_depth=5, max_leaf_nodes=7, min_samples_split=8; total time=   0.0s\n",
      "[CV] END .max_depth=5, max_leaf_nodes=7, min_samples_split=8; total time=   0.0s\n",
      "[CV] END max_depth=5, max_leaf_nodes=7, min_samples_split=10; total time=   0.0s\n",
      "[CV] END max_depth=5, max_leaf_nodes=7, min_samples_split=10; total time=   0.0s\n",
      "[CV] END max_depth=5, max_leaf_nodes=7, min_samples_split=10; total time=   0.0s\n",
      "[CV] END max_depth=5, max_leaf_nodes=7, min_samples_split=10; total time=   0.0s\n",
      "[CV] END max_depth=5, max_leaf_nodes=7, min_samples_split=10; total time=   0.0s\n",
      "[CV] END max_depth=5, max_leaf_nodes=10, min_samples_split=4; total time=   0.0s\n",
      "[CV] END max_depth=5, max_leaf_nodes=10, min_samples_split=4; total time=   0.0s\n",
      "[CV] END max_depth=5, max_leaf_nodes=10, min_samples_split=4; total time=   0.0s\n",
      "[CV] END max_depth=5, max_leaf_nodes=10, min_samples_split=4; total time=   0.0s\n",
      "[CV] END max_depth=5, max_leaf_nodes=10, min_samples_split=4; total time=   0.0s\n",
      "[CV] END max_depth=5, max_leaf_nodes=10, min_samples_split=6; total time=   0.0s\n",
      "[CV] END max_depth=5, max_leaf_nodes=10, min_samples_split=6; total time=   0.0s\n",
      "[CV] END max_depth=5, max_leaf_nodes=10, min_samples_split=6; total time=   0.0s\n",
      "[CV] END max_depth=5, max_leaf_nodes=10, min_samples_split=6; total time=   0.0s\n",
      "[CV] END max_depth=5, max_leaf_nodes=10, min_samples_split=6; total time=   0.0s\n",
      "[CV] END max_depth=5, max_leaf_nodes=10, min_samples_split=8; total time=   0.0s\n",
      "[CV] END max_depth=5, max_leaf_nodes=10, min_samples_split=8; total time=   0.0s\n",
      "[CV] END max_depth=5, max_leaf_nodes=10, min_samples_split=8; total time=   0.0s\n",
      "[CV] END max_depth=5, max_leaf_nodes=10, min_samples_split=8; total time=   0.0s\n",
      "[CV] END max_depth=5, max_leaf_nodes=10, min_samples_split=8; total time=   0.0s\n",
      "[CV] END max_depth=5, max_leaf_nodes=10, min_samples_split=10; total time=   0.0s\n",
      "[CV] END max_depth=5, max_leaf_nodes=10, min_samples_split=10; total time=   0.0s\n",
      "[CV] END max_depth=5, max_leaf_nodes=10, min_samples_split=10; total time=   0.0s\n",
      "[CV] END max_depth=5, max_leaf_nodes=10, min_samples_split=10; total time=   0.0s\n",
      "[CV] END max_depth=5, max_leaf_nodes=10, min_samples_split=10; total time=   0.0s\n",
      "[CV] END max_depth=5, max_leaf_nodes=30, min_samples_split=4; total time=   0.0s\n",
      "[CV] END max_depth=5, max_leaf_nodes=30, min_samples_split=4; total time=   0.0s\n",
      "[CV] END max_depth=5, max_leaf_nodes=30, min_samples_split=4; total time=   0.0s\n",
      "[CV] END max_depth=5, max_leaf_nodes=30, min_samples_split=4; total time=   0.0s\n",
      "[CV] END max_depth=5, max_leaf_nodes=30, min_samples_split=4; total time=   0.0s\n",
      "[CV] END max_depth=5, max_leaf_nodes=30, min_samples_split=6; total time=   0.0s\n",
      "[CV] END max_depth=5, max_leaf_nodes=30, min_samples_split=6; total time=   0.0s\n",
      "[CV] END max_depth=5, max_leaf_nodes=30, min_samples_split=6; total time=   0.0s\n",
      "[CV] END max_depth=5, max_leaf_nodes=30, min_samples_split=6; total time=   0.0s\n",
      "[CV] END max_depth=5, max_leaf_nodes=30, min_samples_split=6; total time=   0.0s\n",
      "[CV] END max_depth=5, max_leaf_nodes=30, min_samples_split=8; total time=   0.0s\n",
      "[CV] END max_depth=5, max_leaf_nodes=30, min_samples_split=8; total time=   0.0s\n",
      "[CV] END max_depth=5, max_leaf_nodes=30, min_samples_split=8; total time=   0.0s\n",
      "[CV] END max_depth=5, max_leaf_nodes=30, min_samples_split=8; total time=   0.0s\n",
      "[CV] END max_depth=5, max_leaf_nodes=30, min_samples_split=8; total time=   0.0s\n",
      "[CV] END max_depth=5, max_leaf_nodes=30, min_samples_split=10; total time=   0.0s\n",
      "[CV] END max_depth=5, max_leaf_nodes=30, min_samples_split=10; total time=   0.0s\n",
      "[CV] END max_depth=5, max_leaf_nodes=30, min_samples_split=10; total time=   0.0s\n",
      "[CV] END max_depth=5, max_leaf_nodes=30, min_samples_split=10; total time=   0.0s\n",
      "[CV] END max_depth=5, max_leaf_nodes=30, min_samples_split=10; total time=   0.0s\n",
      "[CV] END max_depth=5, max_leaf_nodes=40, min_samples_split=4; total time=   0.0s\n",
      "[CV] END max_depth=5, max_leaf_nodes=40, min_samples_split=4; total time=   0.0s\n",
      "[CV] END max_depth=5, max_leaf_nodes=40, min_samples_split=4; total time=   0.0s\n",
      "[CV] END max_depth=5, max_leaf_nodes=40, min_samples_split=4; total time=   0.0s\n",
      "[CV] END max_depth=5, max_leaf_nodes=40, min_samples_split=4; total time=   0.0s\n",
      "[CV] END max_depth=5, max_leaf_nodes=40, min_samples_split=6; total time=   0.0s\n",
      "[CV] END max_depth=5, max_leaf_nodes=40, min_samples_split=6; total time=   0.0s\n",
      "[CV] END max_depth=5, max_leaf_nodes=40, min_samples_split=6; total time=   0.0s\n",
      "[CV] END max_depth=5, max_leaf_nodes=40, min_samples_split=6; total time=   0.0s\n",
      "[CV] END max_depth=5, max_leaf_nodes=40, min_samples_split=6; total time=   0.0s\n",
      "[CV] END max_depth=5, max_leaf_nodes=40, min_samples_split=8; total time=   0.0s\n",
      "[CV] END max_depth=5, max_leaf_nodes=40, min_samples_split=8; total time=   0.0s\n",
      "[CV] END max_depth=5, max_leaf_nodes=40, min_samples_split=8; total time=   0.0s\n",
      "[CV] END max_depth=5, max_leaf_nodes=40, min_samples_split=8; total time=   0.0s\n",
      "[CV] END max_depth=5, max_leaf_nodes=40, min_samples_split=8; total time=   0.0s\n",
      "[CV] END max_depth=5, max_leaf_nodes=40, min_samples_split=10; total time=   0.0s\n",
      "[CV] END max_depth=5, max_leaf_nodes=40, min_samples_split=10; total time=   0.0s\n",
      "[CV] END max_depth=5, max_leaf_nodes=40, min_samples_split=10; total time=   0.0s\n",
      "[CV] END max_depth=5, max_leaf_nodes=40, min_samples_split=10; total time=   0.0s\n",
      "[CV] END max_depth=5, max_leaf_nodes=40, min_samples_split=10; total time=   0.0s\n",
      "[CV] END .max_depth=6, max_leaf_nodes=3, min_samples_split=4; total time=   0.0s\n",
      "[CV] END .max_depth=6, max_leaf_nodes=3, min_samples_split=4; total time=   0.0s\n"
     ]
    },
    {
     "name": "stdout",
     "output_type": "stream",
     "text": [
      "[CV] END .max_depth=6, max_leaf_nodes=3, min_samples_split=4; total time=   0.0s\n",
      "[CV] END .max_depth=6, max_leaf_nodes=3, min_samples_split=4; total time=   0.0s\n",
      "[CV] END .max_depth=6, max_leaf_nodes=3, min_samples_split=4; total time=   0.0s\n",
      "[CV] END .max_depth=6, max_leaf_nodes=3, min_samples_split=6; total time=   0.0s\n",
      "[CV] END .max_depth=6, max_leaf_nodes=3, min_samples_split=6; total time=   0.0s\n",
      "[CV] END .max_depth=6, max_leaf_nodes=3, min_samples_split=6; total time=   0.0s\n",
      "[CV] END .max_depth=6, max_leaf_nodes=3, min_samples_split=6; total time=   0.0s\n",
      "[CV] END .max_depth=6, max_leaf_nodes=3, min_samples_split=6; total time=   0.0s\n",
      "[CV] END .max_depth=6, max_leaf_nodes=3, min_samples_split=8; total time=   0.0s\n",
      "[CV] END .max_depth=6, max_leaf_nodes=3, min_samples_split=8; total time=   0.0s\n",
      "[CV] END .max_depth=6, max_leaf_nodes=3, min_samples_split=8; total time=   0.0s\n",
      "[CV] END .max_depth=6, max_leaf_nodes=3, min_samples_split=8; total time=   0.0s\n",
      "[CV] END .max_depth=6, max_leaf_nodes=3, min_samples_split=8; total time=   0.0s\n",
      "[CV] END max_depth=6, max_leaf_nodes=3, min_samples_split=10; total time=   0.0s\n",
      "[CV] END max_depth=6, max_leaf_nodes=3, min_samples_split=10; total time=   0.0s\n",
      "[CV] END max_depth=6, max_leaf_nodes=3, min_samples_split=10; total time=   0.0s\n",
      "[CV] END max_depth=6, max_leaf_nodes=3, min_samples_split=10; total time=   0.0s\n",
      "[CV] END max_depth=6, max_leaf_nodes=3, min_samples_split=10; total time=   0.0s\n",
      "[CV] END .max_depth=6, max_leaf_nodes=7, min_samples_split=4; total time=   0.0s\n",
      "[CV] END .max_depth=6, max_leaf_nodes=7, min_samples_split=4; total time=   0.0s\n",
      "[CV] END .max_depth=6, max_leaf_nodes=7, min_samples_split=4; total time=   0.0s\n",
      "[CV] END .max_depth=6, max_leaf_nodes=7, min_samples_split=4; total time=   0.0s\n",
      "[CV] END .max_depth=6, max_leaf_nodes=7, min_samples_split=4; total time=   0.0s\n",
      "[CV] END .max_depth=6, max_leaf_nodes=7, min_samples_split=6; total time=   0.0s\n",
      "[CV] END .max_depth=6, max_leaf_nodes=7, min_samples_split=6; total time=   0.0s\n",
      "[CV] END .max_depth=6, max_leaf_nodes=7, min_samples_split=6; total time=   0.0s\n",
      "[CV] END .max_depth=6, max_leaf_nodes=7, min_samples_split=6; total time=   0.0s\n",
      "[CV] END .max_depth=6, max_leaf_nodes=7, min_samples_split=6; total time=   0.0s\n",
      "[CV] END .max_depth=6, max_leaf_nodes=7, min_samples_split=8; total time=   0.0s\n",
      "[CV] END .max_depth=6, max_leaf_nodes=7, min_samples_split=8; total time=   0.0s\n",
      "[CV] END .max_depth=6, max_leaf_nodes=7, min_samples_split=8; total time=   0.0s\n",
      "[CV] END .max_depth=6, max_leaf_nodes=7, min_samples_split=8; total time=   0.0s\n",
      "[CV] END .max_depth=6, max_leaf_nodes=7, min_samples_split=8; total time=   0.0s\n",
      "[CV] END max_depth=6, max_leaf_nodes=7, min_samples_split=10; total time=   0.0s\n",
      "[CV] END max_depth=6, max_leaf_nodes=7, min_samples_split=10; total time=   0.0s\n",
      "[CV] END max_depth=6, max_leaf_nodes=7, min_samples_split=10; total time=   0.0s\n",
      "[CV] END max_depth=6, max_leaf_nodes=7, min_samples_split=10; total time=   0.0s\n",
      "[CV] END max_depth=6, max_leaf_nodes=7, min_samples_split=10; total time=   0.0s\n",
      "[CV] END max_depth=6, max_leaf_nodes=10, min_samples_split=4; total time=   0.0s\n",
      "[CV] END max_depth=6, max_leaf_nodes=10, min_samples_split=4; total time=   0.0s\n",
      "[CV] END max_depth=6, max_leaf_nodes=10, min_samples_split=4; total time=   0.0s\n",
      "[CV] END max_depth=6, max_leaf_nodes=10, min_samples_split=4; total time=   0.0s\n",
      "[CV] END max_depth=6, max_leaf_nodes=10, min_samples_split=4; total time=   0.0s\n",
      "[CV] END max_depth=6, max_leaf_nodes=10, min_samples_split=6; total time=   0.0s\n",
      "[CV] END max_depth=6, max_leaf_nodes=10, min_samples_split=6; total time=   0.0s\n",
      "[CV] END max_depth=6, max_leaf_nodes=10, min_samples_split=6; total time=   0.0s\n",
      "[CV] END max_depth=6, max_leaf_nodes=10, min_samples_split=6; total time=   0.0s\n",
      "[CV] END max_depth=6, max_leaf_nodes=10, min_samples_split=6; total time=   0.0s\n",
      "[CV] END max_depth=6, max_leaf_nodes=10, min_samples_split=8; total time=   0.0s\n",
      "[CV] END max_depth=6, max_leaf_nodes=10, min_samples_split=8; total time=   0.0s\n",
      "[CV] END max_depth=6, max_leaf_nodes=10, min_samples_split=8; total time=   0.0s\n",
      "[CV] END max_depth=6, max_leaf_nodes=10, min_samples_split=8; total time=   0.0s\n",
      "[CV] END max_depth=6, max_leaf_nodes=10, min_samples_split=8; total time=   0.0s\n",
      "[CV] END max_depth=6, max_leaf_nodes=10, min_samples_split=10; total time=   0.0s\n",
      "[CV] END max_depth=6, max_leaf_nodes=10, min_samples_split=10; total time=   0.0s\n",
      "[CV] END max_depth=6, max_leaf_nodes=10, min_samples_split=10; total time=   0.0s\n",
      "[CV] END max_depth=6, max_leaf_nodes=10, min_samples_split=10; total time=   0.0s\n",
      "[CV] END max_depth=6, max_leaf_nodes=10, min_samples_split=10; total time=   0.0s\n",
      "[CV] END max_depth=6, max_leaf_nodes=30, min_samples_split=4; total time=   0.0s\n",
      "[CV] END max_depth=6, max_leaf_nodes=30, min_samples_split=4; total time=   0.0s\n",
      "[CV] END max_depth=6, max_leaf_nodes=30, min_samples_split=4; total time=   0.0s\n",
      "[CV] END max_depth=6, max_leaf_nodes=30, min_samples_split=4; total time=   0.0s\n",
      "[CV] END max_depth=6, max_leaf_nodes=30, min_samples_split=4; total time=   0.0s\n",
      "[CV] END max_depth=6, max_leaf_nodes=30, min_samples_split=6; total time=   0.0s\n",
      "[CV] END max_depth=6, max_leaf_nodes=30, min_samples_split=6; total time=   0.0s\n",
      "[CV] END max_depth=6, max_leaf_nodes=30, min_samples_split=6; total time=   0.0s\n",
      "[CV] END max_depth=6, max_leaf_nodes=30, min_samples_split=6; total time=   0.0s\n",
      "[CV] END max_depth=6, max_leaf_nodes=30, min_samples_split=6; total time=   0.0s\n",
      "[CV] END max_depth=6, max_leaf_nodes=30, min_samples_split=8; total time=   0.0s\n",
      "[CV] END max_depth=6, max_leaf_nodes=30, min_samples_split=8; total time=   0.0s\n",
      "[CV] END max_depth=6, max_leaf_nodes=30, min_samples_split=8; total time=   0.0s\n",
      "[CV] END max_depth=6, max_leaf_nodes=30, min_samples_split=8; total time=   0.0s\n",
      "[CV] END max_depth=6, max_leaf_nodes=30, min_samples_split=8; total time=   0.0s\n",
      "[CV] END max_depth=6, max_leaf_nodes=30, min_samples_split=10; total time=   0.0s\n",
      "[CV] END max_depth=6, max_leaf_nodes=30, min_samples_split=10; total time=   0.0s\n",
      "[CV] END max_depth=6, max_leaf_nodes=30, min_samples_split=10; total time=   0.0s\n",
      "[CV] END max_depth=6, max_leaf_nodes=30, min_samples_split=10; total time=   0.0s\n",
      "[CV] END max_depth=6, max_leaf_nodes=30, min_samples_split=10; total time=   0.0s\n",
      "[CV] END max_depth=6, max_leaf_nodes=40, min_samples_split=4; total time=   0.0s\n",
      "[CV] END max_depth=6, max_leaf_nodes=40, min_samples_split=4; total time=   0.0s\n",
      "[CV] END max_depth=6, max_leaf_nodes=40, min_samples_split=4; total time=   0.0s\n",
      "[CV] END max_depth=6, max_leaf_nodes=40, min_samples_split=4; total time=   0.0s\n",
      "[CV] END max_depth=6, max_leaf_nodes=40, min_samples_split=4; total time=   0.0s\n",
      "[CV] END max_depth=6, max_leaf_nodes=40, min_samples_split=6; total time=   0.0s\n",
      "[CV] END max_depth=6, max_leaf_nodes=40, min_samples_split=6; total time=   0.0s\n",
      "[CV] END max_depth=6, max_leaf_nodes=40, min_samples_split=6; total time=   0.0s\n",
      "[CV] END max_depth=6, max_leaf_nodes=40, min_samples_split=6; total time=   0.0s\n",
      "[CV] END max_depth=6, max_leaf_nodes=40, min_samples_split=6; total time=   0.0s\n",
      "[CV] END max_depth=6, max_leaf_nodes=40, min_samples_split=8; total time=   0.0s\n",
      "[CV] END max_depth=6, max_leaf_nodes=40, min_samples_split=8; total time=   0.0s\n",
      "[CV] END max_depth=6, max_leaf_nodes=40, min_samples_split=8; total time=   0.0s\n",
      "[CV] END max_depth=6, max_leaf_nodes=40, min_samples_split=8; total time=   0.0s\n",
      "[CV] END max_depth=6, max_leaf_nodes=40, min_samples_split=8; total time=   0.0s\n",
      "[CV] END max_depth=6, max_leaf_nodes=40, min_samples_split=10; total time=   0.0s\n",
      "[CV] END max_depth=6, max_leaf_nodes=40, min_samples_split=10; total time=   0.0s\n",
      "[CV] END max_depth=6, max_leaf_nodes=40, min_samples_split=10; total time=   0.0s\n",
      "[CV] END max_depth=6, max_leaf_nodes=40, min_samples_split=10; total time=   0.0s\n",
      "[CV] END max_depth=6, max_leaf_nodes=40, min_samples_split=10; total time=   0.0s\n",
      "[CV] END .max_depth=7, max_leaf_nodes=3, min_samples_split=4; total time=   0.0s\n",
      "[CV] END .max_depth=7, max_leaf_nodes=3, min_samples_split=4; total time=   0.0s\n",
      "[CV] END .max_depth=7, max_leaf_nodes=3, min_samples_split=4; total time=   0.0s\n",
      "[CV] END .max_depth=7, max_leaf_nodes=3, min_samples_split=4; total time=   0.0s\n",
      "[CV] END .max_depth=7, max_leaf_nodes=3, min_samples_split=4; total time=   0.0s\n"
     ]
    },
    {
     "name": "stdout",
     "output_type": "stream",
     "text": [
      "[CV] END .max_depth=7, max_leaf_nodes=3, min_samples_split=6; total time=   0.0s\n",
      "[CV] END .max_depth=7, max_leaf_nodes=3, min_samples_split=6; total time=   0.0s\n",
      "[CV] END .max_depth=7, max_leaf_nodes=3, min_samples_split=6; total time=   0.0s\n",
      "[CV] END .max_depth=7, max_leaf_nodes=3, min_samples_split=6; total time=   0.0s\n",
      "[CV] END .max_depth=7, max_leaf_nodes=3, min_samples_split=6; total time=   0.0s\n",
      "[CV] END .max_depth=7, max_leaf_nodes=3, min_samples_split=8; total time=   0.0s\n",
      "[CV] END .max_depth=7, max_leaf_nodes=3, min_samples_split=8; total time=   0.0s\n",
      "[CV] END .max_depth=7, max_leaf_nodes=3, min_samples_split=8; total time=   0.0s\n",
      "[CV] END .max_depth=7, max_leaf_nodes=3, min_samples_split=8; total time=   0.0s\n",
      "[CV] END .max_depth=7, max_leaf_nodes=3, min_samples_split=8; total time=   0.0s\n",
      "[CV] END max_depth=7, max_leaf_nodes=3, min_samples_split=10; total time=   0.0s\n",
      "[CV] END max_depth=7, max_leaf_nodes=3, min_samples_split=10; total time=   0.0s\n",
      "[CV] END max_depth=7, max_leaf_nodes=3, min_samples_split=10; total time=   0.0s\n",
      "[CV] END max_depth=7, max_leaf_nodes=3, min_samples_split=10; total time=   0.0s\n",
      "[CV] END max_depth=7, max_leaf_nodes=3, min_samples_split=10; total time=   0.0s\n",
      "[CV] END .max_depth=7, max_leaf_nodes=7, min_samples_split=4; total time=   0.0s\n",
      "[CV] END .max_depth=7, max_leaf_nodes=7, min_samples_split=4; total time=   0.0s\n",
      "[CV] END .max_depth=7, max_leaf_nodes=7, min_samples_split=4; total time=   0.0s\n",
      "[CV] END .max_depth=7, max_leaf_nodes=7, min_samples_split=4; total time=   0.0s\n",
      "[CV] END .max_depth=7, max_leaf_nodes=7, min_samples_split=4; total time=   0.0s\n",
      "[CV] END .max_depth=7, max_leaf_nodes=7, min_samples_split=6; total time=   0.0s\n",
      "[CV] END .max_depth=7, max_leaf_nodes=7, min_samples_split=6; total time=   0.0s\n",
      "[CV] END .max_depth=7, max_leaf_nodes=7, min_samples_split=6; total time=   0.0s\n",
      "[CV] END .max_depth=7, max_leaf_nodes=7, min_samples_split=6; total time=   0.0s\n",
      "[CV] END .max_depth=7, max_leaf_nodes=7, min_samples_split=6; total time=   0.0s\n",
      "[CV] END .max_depth=7, max_leaf_nodes=7, min_samples_split=8; total time=   0.0s\n",
      "[CV] END .max_depth=7, max_leaf_nodes=7, min_samples_split=8; total time=   0.0s\n",
      "[CV] END .max_depth=7, max_leaf_nodes=7, min_samples_split=8; total time=   0.0s\n",
      "[CV] END .max_depth=7, max_leaf_nodes=7, min_samples_split=8; total time=   0.0s\n",
      "[CV] END .max_depth=7, max_leaf_nodes=7, min_samples_split=8; total time=   0.0s\n",
      "[CV] END max_depth=7, max_leaf_nodes=7, min_samples_split=10; total time=   0.0s\n",
      "[CV] END max_depth=7, max_leaf_nodes=7, min_samples_split=10; total time=   0.0s\n",
      "[CV] END max_depth=7, max_leaf_nodes=7, min_samples_split=10; total time=   0.0s\n",
      "[CV] END max_depth=7, max_leaf_nodes=7, min_samples_split=10; total time=   0.0s\n",
      "[CV] END max_depth=7, max_leaf_nodes=7, min_samples_split=10; total time=   0.0s\n",
      "[CV] END max_depth=7, max_leaf_nodes=10, min_samples_split=4; total time=   0.0s\n",
      "[CV] END max_depth=7, max_leaf_nodes=10, min_samples_split=4; total time=   0.0s\n",
      "[CV] END max_depth=7, max_leaf_nodes=10, min_samples_split=4; total time=   0.0s\n",
      "[CV] END max_depth=7, max_leaf_nodes=10, min_samples_split=4; total time=   0.0s\n",
      "[CV] END max_depth=7, max_leaf_nodes=10, min_samples_split=4; total time=   0.0s\n",
      "[CV] END max_depth=7, max_leaf_nodes=10, min_samples_split=6; total time=   0.0s\n",
      "[CV] END max_depth=7, max_leaf_nodes=10, min_samples_split=6; total time=   0.0s\n",
      "[CV] END max_depth=7, max_leaf_nodes=10, min_samples_split=6; total time=   0.0s\n",
      "[CV] END max_depth=7, max_leaf_nodes=10, min_samples_split=6; total time=   0.0s\n",
      "[CV] END max_depth=7, max_leaf_nodes=10, min_samples_split=6; total time=   0.0s\n",
      "[CV] END max_depth=7, max_leaf_nodes=10, min_samples_split=8; total time=   0.0s\n",
      "[CV] END max_depth=7, max_leaf_nodes=10, min_samples_split=8; total time=   0.0s\n",
      "[CV] END max_depth=7, max_leaf_nodes=10, min_samples_split=8; total time=   0.0s\n",
      "[CV] END max_depth=7, max_leaf_nodes=10, min_samples_split=8; total time=   0.0s\n",
      "[CV] END max_depth=7, max_leaf_nodes=10, min_samples_split=8; total time=   0.0s\n",
      "[CV] END max_depth=7, max_leaf_nodes=10, min_samples_split=10; total time=   0.0s\n",
      "[CV] END max_depth=7, max_leaf_nodes=10, min_samples_split=10; total time=   0.0s\n",
      "[CV] END max_depth=7, max_leaf_nodes=10, min_samples_split=10; total time=   0.0s\n",
      "[CV] END max_depth=7, max_leaf_nodes=10, min_samples_split=10; total time=   0.0s\n",
      "[CV] END max_depth=7, max_leaf_nodes=10, min_samples_split=10; total time=   0.0s\n",
      "[CV] END max_depth=7, max_leaf_nodes=30, min_samples_split=4; total time=   0.0s\n",
      "[CV] END max_depth=7, max_leaf_nodes=30, min_samples_split=4; total time=   0.0s\n",
      "[CV] END max_depth=7, max_leaf_nodes=30, min_samples_split=4; total time=   0.0s\n",
      "[CV] END max_depth=7, max_leaf_nodes=30, min_samples_split=4; total time=   0.0s\n",
      "[CV] END max_depth=7, max_leaf_nodes=30, min_samples_split=4; total time=   0.0s\n",
      "[CV] END max_depth=7, max_leaf_nodes=30, min_samples_split=6; total time=   0.0s\n",
      "[CV] END max_depth=7, max_leaf_nodes=30, min_samples_split=6; total time=   0.0s\n",
      "[CV] END max_depth=7, max_leaf_nodes=30, min_samples_split=6; total time=   0.0s\n",
      "[CV] END max_depth=7, max_leaf_nodes=30, min_samples_split=6; total time=   0.0s\n",
      "[CV] END max_depth=7, max_leaf_nodes=30, min_samples_split=6; total time=   0.0s\n",
      "[CV] END max_depth=7, max_leaf_nodes=30, min_samples_split=8; total time=   0.0s\n",
      "[CV] END max_depth=7, max_leaf_nodes=30, min_samples_split=8; total time=   0.0s\n",
      "[CV] END max_depth=7, max_leaf_nodes=30, min_samples_split=8; total time=   0.0s\n",
      "[CV] END max_depth=7, max_leaf_nodes=30, min_samples_split=8; total time=   0.0s\n",
      "[CV] END max_depth=7, max_leaf_nodes=30, min_samples_split=8; total time=   0.0s\n",
      "[CV] END max_depth=7, max_leaf_nodes=30, min_samples_split=10; total time=   0.0s\n",
      "[CV] END max_depth=7, max_leaf_nodes=30, min_samples_split=10; total time=   0.0s\n",
      "[CV] END max_depth=7, max_leaf_nodes=30, min_samples_split=10; total time=   0.0s\n",
      "[CV] END max_depth=7, max_leaf_nodes=30, min_samples_split=10; total time=   0.0s\n",
      "[CV] END max_depth=7, max_leaf_nodes=30, min_samples_split=10; total time=   0.0s\n",
      "[CV] END max_depth=7, max_leaf_nodes=40, min_samples_split=4; total time=   0.0s\n",
      "[CV] END max_depth=7, max_leaf_nodes=40, min_samples_split=4; total time=   0.0s\n",
      "[CV] END max_depth=7, max_leaf_nodes=40, min_samples_split=4; total time=   0.0s\n",
      "[CV] END max_depth=7, max_leaf_nodes=40, min_samples_split=4; total time=   0.0s\n",
      "[CV] END max_depth=7, max_leaf_nodes=40, min_samples_split=4; total time=   0.0s\n",
      "[CV] END max_depth=7, max_leaf_nodes=40, min_samples_split=6; total time=   0.0s\n",
      "[CV] END max_depth=7, max_leaf_nodes=40, min_samples_split=6; total time=   0.0s\n",
      "[CV] END max_depth=7, max_leaf_nodes=40, min_samples_split=6; total time=   0.0s\n",
      "[CV] END max_depth=7, max_leaf_nodes=40, min_samples_split=6; total time=   0.0s\n",
      "[CV] END max_depth=7, max_leaf_nodes=40, min_samples_split=6; total time=   0.0s\n",
      "[CV] END max_depth=7, max_leaf_nodes=40, min_samples_split=8; total time=   0.0s\n",
      "[CV] END max_depth=7, max_leaf_nodes=40, min_samples_split=8; total time=   0.0s\n",
      "[CV] END max_depth=7, max_leaf_nodes=40, min_samples_split=8; total time=   0.0s\n",
      "[CV] END max_depth=7, max_leaf_nodes=40, min_samples_split=8; total time=   0.0s\n",
      "[CV] END max_depth=7, max_leaf_nodes=40, min_samples_split=8; total time=   0.0s\n",
      "[CV] END max_depth=7, max_leaf_nodes=40, min_samples_split=10; total time=   0.0s\n",
      "[CV] END max_depth=7, max_leaf_nodes=40, min_samples_split=10; total time=   0.0s\n",
      "[CV] END max_depth=7, max_leaf_nodes=40, min_samples_split=10; total time=   0.0s\n",
      "[CV] END max_depth=7, max_leaf_nodes=40, min_samples_split=10; total time=   0.0s\n",
      "[CV] END max_depth=7, max_leaf_nodes=40, min_samples_split=10; total time=   0.0s\n",
      "[CV] END .max_depth=8, max_leaf_nodes=3, min_samples_split=4; total time=   0.0s\n",
      "[CV] END .max_depth=8, max_leaf_nodes=3, min_samples_split=4; total time=   0.0s\n",
      "[CV] END .max_depth=8, max_leaf_nodes=3, min_samples_split=4; total time=   0.0s\n",
      "[CV] END .max_depth=8, max_leaf_nodes=3, min_samples_split=4; total time=   0.0s\n",
      "[CV] END .max_depth=8, max_leaf_nodes=3, min_samples_split=4; total time=   0.0s\n",
      "[CV] END .max_depth=8, max_leaf_nodes=3, min_samples_split=6; total time=   0.0s\n",
      "[CV] END .max_depth=8, max_leaf_nodes=3, min_samples_split=6; total time=   0.0s\n",
      "[CV] END .max_depth=8, max_leaf_nodes=3, min_samples_split=6; total time=   0.0s\n",
      "[CV] END .max_depth=8, max_leaf_nodes=3, min_samples_split=6; total time=   0.0s\n",
      "[CV] END .max_depth=8, max_leaf_nodes=3, min_samples_split=6; total time=   0.0s\n",
      "[CV] END .max_depth=8, max_leaf_nodes=3, min_samples_split=8; total time=   0.0s\n",
      "[CV] END .max_depth=8, max_leaf_nodes=3, min_samples_split=8; total time=   0.0s\n",
      "[CV] END .max_depth=8, max_leaf_nodes=3, min_samples_split=8; total time=   0.0s\n"
     ]
    },
    {
     "name": "stdout",
     "output_type": "stream",
     "text": [
      "[CV] END .max_depth=8, max_leaf_nodes=3, min_samples_split=8; total time=   0.0s\n",
      "[CV] END .max_depth=8, max_leaf_nodes=3, min_samples_split=8; total time=   0.0s\n",
      "[CV] END max_depth=8, max_leaf_nodes=3, min_samples_split=10; total time=   0.0s\n",
      "[CV] END max_depth=8, max_leaf_nodes=3, min_samples_split=10; total time=   0.0s\n",
      "[CV] END max_depth=8, max_leaf_nodes=3, min_samples_split=10; total time=   0.0s\n",
      "[CV] END max_depth=8, max_leaf_nodes=3, min_samples_split=10; total time=   0.0s\n",
      "[CV] END max_depth=8, max_leaf_nodes=3, min_samples_split=10; total time=   0.0s\n",
      "[CV] END .max_depth=8, max_leaf_nodes=7, min_samples_split=4; total time=   0.0s\n",
      "[CV] END .max_depth=8, max_leaf_nodes=7, min_samples_split=4; total time=   0.0s\n",
      "[CV] END .max_depth=8, max_leaf_nodes=7, min_samples_split=4; total time=   0.0s\n",
      "[CV] END .max_depth=8, max_leaf_nodes=7, min_samples_split=4; total time=   0.0s\n",
      "[CV] END .max_depth=8, max_leaf_nodes=7, min_samples_split=4; total time=   0.0s\n",
      "[CV] END .max_depth=8, max_leaf_nodes=7, min_samples_split=6; total time=   0.0s\n",
      "[CV] END .max_depth=8, max_leaf_nodes=7, min_samples_split=6; total time=   0.0s\n",
      "[CV] END .max_depth=8, max_leaf_nodes=7, min_samples_split=6; total time=   0.0s\n",
      "[CV] END .max_depth=8, max_leaf_nodes=7, min_samples_split=6; total time=   0.0s\n",
      "[CV] END .max_depth=8, max_leaf_nodes=7, min_samples_split=6; total time=   0.0s\n",
      "[CV] END .max_depth=8, max_leaf_nodes=7, min_samples_split=8; total time=   0.0s\n",
      "[CV] END .max_depth=8, max_leaf_nodes=7, min_samples_split=8; total time=   0.0s\n",
      "[CV] END .max_depth=8, max_leaf_nodes=7, min_samples_split=8; total time=   0.0s\n",
      "[CV] END .max_depth=8, max_leaf_nodes=7, min_samples_split=8; total time=   0.0s\n",
      "[CV] END .max_depth=8, max_leaf_nodes=7, min_samples_split=8; total time=   0.0s\n",
      "[CV] END max_depth=8, max_leaf_nodes=7, min_samples_split=10; total time=   0.0s\n",
      "[CV] END max_depth=8, max_leaf_nodes=7, min_samples_split=10; total time=   0.0s\n",
      "[CV] END max_depth=8, max_leaf_nodes=7, min_samples_split=10; total time=   0.0s\n",
      "[CV] END max_depth=8, max_leaf_nodes=7, min_samples_split=10; total time=   0.0s\n",
      "[CV] END max_depth=8, max_leaf_nodes=7, min_samples_split=10; total time=   0.0s\n",
      "[CV] END max_depth=8, max_leaf_nodes=10, min_samples_split=4; total time=   0.0s\n",
      "[CV] END max_depth=8, max_leaf_nodes=10, min_samples_split=4; total time=   0.0s\n",
      "[CV] END max_depth=8, max_leaf_nodes=10, min_samples_split=4; total time=   0.0s\n",
      "[CV] END max_depth=8, max_leaf_nodes=10, min_samples_split=4; total time=   0.0s\n",
      "[CV] END max_depth=8, max_leaf_nodes=10, min_samples_split=4; total time=   0.0s\n",
      "[CV] END max_depth=8, max_leaf_nodes=10, min_samples_split=6; total time=   0.0s\n",
      "[CV] END max_depth=8, max_leaf_nodes=10, min_samples_split=6; total time=   0.0s\n",
      "[CV] END max_depth=8, max_leaf_nodes=10, min_samples_split=6; total time=   0.0s\n",
      "[CV] END max_depth=8, max_leaf_nodes=10, min_samples_split=6; total time=   0.0s\n",
      "[CV] END max_depth=8, max_leaf_nodes=10, min_samples_split=6; total time=   0.0s\n",
      "[CV] END max_depth=8, max_leaf_nodes=10, min_samples_split=8; total time=   0.0s\n",
      "[CV] END max_depth=8, max_leaf_nodes=10, min_samples_split=8; total time=   0.0s\n",
      "[CV] END max_depth=8, max_leaf_nodes=10, min_samples_split=8; total time=   0.0s\n",
      "[CV] END max_depth=8, max_leaf_nodes=10, min_samples_split=8; total time=   0.0s\n",
      "[CV] END max_depth=8, max_leaf_nodes=10, min_samples_split=8; total time=   0.0s\n",
      "[CV] END max_depth=8, max_leaf_nodes=10, min_samples_split=10; total time=   0.0s\n",
      "[CV] END max_depth=8, max_leaf_nodes=10, min_samples_split=10; total time=   0.0s\n",
      "[CV] END max_depth=8, max_leaf_nodes=10, min_samples_split=10; total time=   0.0s\n",
      "[CV] END max_depth=8, max_leaf_nodes=10, min_samples_split=10; total time=   0.0s\n",
      "[CV] END max_depth=8, max_leaf_nodes=10, min_samples_split=10; total time=   0.0s\n",
      "[CV] END max_depth=8, max_leaf_nodes=30, min_samples_split=4; total time=   0.0s\n",
      "[CV] END max_depth=8, max_leaf_nodes=30, min_samples_split=4; total time=   0.0s\n",
      "[CV] END max_depth=8, max_leaf_nodes=30, min_samples_split=4; total time=   0.0s\n",
      "[CV] END max_depth=8, max_leaf_nodes=30, min_samples_split=4; total time=   0.0s\n",
      "[CV] END max_depth=8, max_leaf_nodes=30, min_samples_split=4; total time=   0.0s\n",
      "[CV] END max_depth=8, max_leaf_nodes=30, min_samples_split=6; total time=   0.0s\n",
      "[CV] END max_depth=8, max_leaf_nodes=30, min_samples_split=6; total time=   0.0s\n",
      "[CV] END max_depth=8, max_leaf_nodes=30, min_samples_split=6; total time=   0.0s\n",
      "[CV] END max_depth=8, max_leaf_nodes=30, min_samples_split=6; total time=   0.0s\n",
      "[CV] END max_depth=8, max_leaf_nodes=30, min_samples_split=6; total time=   0.0s\n",
      "[CV] END max_depth=8, max_leaf_nodes=30, min_samples_split=8; total time=   0.0s\n",
      "[CV] END max_depth=8, max_leaf_nodes=30, min_samples_split=8; total time=   0.0s\n",
      "[CV] END max_depth=8, max_leaf_nodes=30, min_samples_split=8; total time=   0.0s\n",
      "[CV] END max_depth=8, max_leaf_nodes=30, min_samples_split=8; total time=   0.0s\n",
      "[CV] END max_depth=8, max_leaf_nodes=30, min_samples_split=8; total time=   0.0s\n",
      "[CV] END max_depth=8, max_leaf_nodes=30, min_samples_split=10; total time=   0.0s\n",
      "[CV] END max_depth=8, max_leaf_nodes=30, min_samples_split=10; total time=   0.0s\n",
      "[CV] END max_depth=8, max_leaf_nodes=30, min_samples_split=10; total time=   0.0s\n",
      "[CV] END max_depth=8, max_leaf_nodes=30, min_samples_split=10; total time=   0.0s\n",
      "[CV] END max_depth=8, max_leaf_nodes=30, min_samples_split=10; total time=   0.0s\n",
      "[CV] END max_depth=8, max_leaf_nodes=40, min_samples_split=4; total time=   0.0s\n",
      "[CV] END max_depth=8, max_leaf_nodes=40, min_samples_split=4; total time=   0.0s\n",
      "[CV] END max_depth=8, max_leaf_nodes=40, min_samples_split=4; total time=   0.0s\n",
      "[CV] END max_depth=8, max_leaf_nodes=40, min_samples_split=4; total time=   0.0s\n",
      "[CV] END max_depth=8, max_leaf_nodes=40, min_samples_split=4; total time=   0.0s\n",
      "[CV] END max_depth=8, max_leaf_nodes=40, min_samples_split=6; total time=   0.0s\n",
      "[CV] END max_depth=8, max_leaf_nodes=40, min_samples_split=6; total time=   0.0s\n",
      "[CV] END max_depth=8, max_leaf_nodes=40, min_samples_split=6; total time=   0.0s\n",
      "[CV] END max_depth=8, max_leaf_nodes=40, min_samples_split=6; total time=   0.0s\n",
      "[CV] END max_depth=8, max_leaf_nodes=40, min_samples_split=6; total time=   0.0s\n",
      "[CV] END max_depth=8, max_leaf_nodes=40, min_samples_split=8; total time=   0.0s\n",
      "[CV] END max_depth=8, max_leaf_nodes=40, min_samples_split=8; total time=   0.0s\n",
      "[CV] END max_depth=8, max_leaf_nodes=40, min_samples_split=8; total time=   0.0s\n",
      "[CV] END max_depth=8, max_leaf_nodes=40, min_samples_split=8; total time=   0.0s\n",
      "[CV] END max_depth=8, max_leaf_nodes=40, min_samples_split=8; total time=   0.0s\n",
      "[CV] END max_depth=8, max_leaf_nodes=40, min_samples_split=10; total time=   0.0s\n",
      "[CV] END max_depth=8, max_leaf_nodes=40, min_samples_split=10; total time=   0.0s\n",
      "[CV] END max_depth=8, max_leaf_nodes=40, min_samples_split=10; total time=   0.0s\n",
      "[CV] END max_depth=8, max_leaf_nodes=40, min_samples_split=10; total time=   0.0s\n",
      "[CV] END max_depth=8, max_leaf_nodes=40, min_samples_split=10; total time=   0.0s\n",
      "[CV] END max_depth=10, max_leaf_nodes=3, min_samples_split=4; total time=   0.0s\n",
      "[CV] END max_depth=10, max_leaf_nodes=3, min_samples_split=4; total time=   0.0s\n",
      "[CV] END max_depth=10, max_leaf_nodes=3, min_samples_split=4; total time=   0.0s\n",
      "[CV] END max_depth=10, max_leaf_nodes=3, min_samples_split=4; total time=   0.0s\n",
      "[CV] END max_depth=10, max_leaf_nodes=3, min_samples_split=4; total time=   0.0s\n",
      "[CV] END max_depth=10, max_leaf_nodes=3, min_samples_split=6; total time=   0.0s\n",
      "[CV] END max_depth=10, max_leaf_nodes=3, min_samples_split=6; total time=   0.0s\n",
      "[CV] END max_depth=10, max_leaf_nodes=3, min_samples_split=6; total time=   0.0s\n",
      "[CV] END max_depth=10, max_leaf_nodes=3, min_samples_split=6; total time=   0.0s\n",
      "[CV] END max_depth=10, max_leaf_nodes=3, min_samples_split=6; total time=   0.0s\n",
      "[CV] END max_depth=10, max_leaf_nodes=3, min_samples_split=8; total time=   0.0s\n",
      "[CV] END max_depth=10, max_leaf_nodes=3, min_samples_split=8; total time=   0.0s\n",
      "[CV] END max_depth=10, max_leaf_nodes=3, min_samples_split=8; total time=   0.0s\n",
      "[CV] END max_depth=10, max_leaf_nodes=3, min_samples_split=8; total time=   0.0s\n",
      "[CV] END max_depth=10, max_leaf_nodes=3, min_samples_split=8; total time=   0.0s\n"
     ]
    },
    {
     "name": "stdout",
     "output_type": "stream",
     "text": [
      "[CV] END max_depth=10, max_leaf_nodes=3, min_samples_split=10; total time=   0.0s\n",
      "[CV] END max_depth=10, max_leaf_nodes=3, min_samples_split=10; total time=   0.0s\n",
      "[CV] END max_depth=10, max_leaf_nodes=3, min_samples_split=10; total time=   0.0s\n",
      "[CV] END max_depth=10, max_leaf_nodes=3, min_samples_split=10; total time=   0.0s\n",
      "[CV] END max_depth=10, max_leaf_nodes=3, min_samples_split=10; total time=   0.0s\n",
      "[CV] END max_depth=10, max_leaf_nodes=7, min_samples_split=4; total time=   0.0s\n",
      "[CV] END max_depth=10, max_leaf_nodes=7, min_samples_split=4; total time=   0.0s\n",
      "[CV] END max_depth=10, max_leaf_nodes=7, min_samples_split=4; total time=   0.0s\n",
      "[CV] END max_depth=10, max_leaf_nodes=7, min_samples_split=4; total time=   0.0s\n",
      "[CV] END max_depth=10, max_leaf_nodes=7, min_samples_split=4; total time=   0.0s\n",
      "[CV] END max_depth=10, max_leaf_nodes=7, min_samples_split=6; total time=   0.0s\n",
      "[CV] END max_depth=10, max_leaf_nodes=7, min_samples_split=6; total time=   0.0s\n",
      "[CV] END max_depth=10, max_leaf_nodes=7, min_samples_split=6; total time=   0.0s\n",
      "[CV] END max_depth=10, max_leaf_nodes=7, min_samples_split=6; total time=   0.0s\n",
      "[CV] END max_depth=10, max_leaf_nodes=7, min_samples_split=6; total time=   0.0s\n",
      "[CV] END max_depth=10, max_leaf_nodes=7, min_samples_split=8; total time=   0.0s\n",
      "[CV] END max_depth=10, max_leaf_nodes=7, min_samples_split=8; total time=   0.0s\n",
      "[CV] END max_depth=10, max_leaf_nodes=7, min_samples_split=8; total time=   0.0s\n",
      "[CV] END max_depth=10, max_leaf_nodes=7, min_samples_split=8; total time=   0.0s\n",
      "[CV] END max_depth=10, max_leaf_nodes=7, min_samples_split=8; total time=   0.0s\n",
      "[CV] END max_depth=10, max_leaf_nodes=7, min_samples_split=10; total time=   0.0s\n",
      "[CV] END max_depth=10, max_leaf_nodes=7, min_samples_split=10; total time=   0.0s\n",
      "[CV] END max_depth=10, max_leaf_nodes=7, min_samples_split=10; total time=   0.0s\n",
      "[CV] END max_depth=10, max_leaf_nodes=7, min_samples_split=10; total time=   0.0s\n",
      "[CV] END max_depth=10, max_leaf_nodes=7, min_samples_split=10; total time=   0.0s\n",
      "[CV] END max_depth=10, max_leaf_nodes=10, min_samples_split=4; total time=   0.0s\n",
      "[CV] END max_depth=10, max_leaf_nodes=10, min_samples_split=4; total time=   0.0s\n",
      "[CV] END max_depth=10, max_leaf_nodes=10, min_samples_split=4; total time=   0.0s\n",
      "[CV] END max_depth=10, max_leaf_nodes=10, min_samples_split=4; total time=   0.0s\n",
      "[CV] END max_depth=10, max_leaf_nodes=10, min_samples_split=4; total time=   0.0s\n",
      "[CV] END max_depth=10, max_leaf_nodes=10, min_samples_split=6; total time=   0.0s\n",
      "[CV] END max_depth=10, max_leaf_nodes=10, min_samples_split=6; total time=   0.0s\n",
      "[CV] END max_depth=10, max_leaf_nodes=10, min_samples_split=6; total time=   0.0s\n",
      "[CV] END max_depth=10, max_leaf_nodes=10, min_samples_split=6; total time=   0.0s\n",
      "[CV] END max_depth=10, max_leaf_nodes=10, min_samples_split=6; total time=   0.0s\n",
      "[CV] END max_depth=10, max_leaf_nodes=10, min_samples_split=8; total time=   0.0s\n",
      "[CV] END max_depth=10, max_leaf_nodes=10, min_samples_split=8; total time=   0.0s\n",
      "[CV] END max_depth=10, max_leaf_nodes=10, min_samples_split=8; total time=   0.0s\n",
      "[CV] END max_depth=10, max_leaf_nodes=10, min_samples_split=8; total time=   0.0s\n",
      "[CV] END max_depth=10, max_leaf_nodes=10, min_samples_split=8; total time=   0.0s\n",
      "[CV] END max_depth=10, max_leaf_nodes=10, min_samples_split=10; total time=   0.0s\n",
      "[CV] END max_depth=10, max_leaf_nodes=10, min_samples_split=10; total time=   0.0s\n",
      "[CV] END max_depth=10, max_leaf_nodes=10, min_samples_split=10; total time=   0.0s\n",
      "[CV] END max_depth=10, max_leaf_nodes=10, min_samples_split=10; total time=   0.0s\n",
      "[CV] END max_depth=10, max_leaf_nodes=10, min_samples_split=10; total time=   0.0s\n",
      "[CV] END max_depth=10, max_leaf_nodes=30, min_samples_split=4; total time=   0.0s\n",
      "[CV] END max_depth=10, max_leaf_nodes=30, min_samples_split=4; total time=   0.0s\n",
      "[CV] END max_depth=10, max_leaf_nodes=30, min_samples_split=4; total time=   0.0s\n",
      "[CV] END max_depth=10, max_leaf_nodes=30, min_samples_split=4; total time=   0.0s\n",
      "[CV] END max_depth=10, max_leaf_nodes=30, min_samples_split=4; total time=   0.0s\n",
      "[CV] END max_depth=10, max_leaf_nodes=30, min_samples_split=6; total time=   0.0s\n",
      "[CV] END max_depth=10, max_leaf_nodes=30, min_samples_split=6; total time=   0.0s\n",
      "[CV] END max_depth=10, max_leaf_nodes=30, min_samples_split=6; total time=   0.0s\n",
      "[CV] END max_depth=10, max_leaf_nodes=30, min_samples_split=6; total time=   0.0s\n",
      "[CV] END max_depth=10, max_leaf_nodes=30, min_samples_split=6; total time=   0.0s\n",
      "[CV] END max_depth=10, max_leaf_nodes=30, min_samples_split=8; total time=   0.0s\n",
      "[CV] END max_depth=10, max_leaf_nodes=30, min_samples_split=8; total time=   0.0s\n",
      "[CV] END max_depth=10, max_leaf_nodes=30, min_samples_split=8; total time=   0.0s\n",
      "[CV] END max_depth=10, max_leaf_nodes=30, min_samples_split=8; total time=   0.0s\n",
      "[CV] END max_depth=10, max_leaf_nodes=30, min_samples_split=8; total time=   0.0s\n",
      "[CV] END max_depth=10, max_leaf_nodes=30, min_samples_split=10; total time=   0.0s\n",
      "[CV] END max_depth=10, max_leaf_nodes=30, min_samples_split=10; total time=   0.0s\n",
      "[CV] END max_depth=10, max_leaf_nodes=30, min_samples_split=10; total time=   0.0s\n",
      "[CV] END max_depth=10, max_leaf_nodes=30, min_samples_split=10; total time=   0.0s\n",
      "[CV] END max_depth=10, max_leaf_nodes=30, min_samples_split=10; total time=   0.0s\n",
      "[CV] END max_depth=10, max_leaf_nodes=40, min_samples_split=4; total time=   0.0s\n",
      "[CV] END max_depth=10, max_leaf_nodes=40, min_samples_split=4; total time=   0.0s\n",
      "[CV] END max_depth=10, max_leaf_nodes=40, min_samples_split=4; total time=   0.0s\n",
      "[CV] END max_depth=10, max_leaf_nodes=40, min_samples_split=4; total time=   0.0s\n",
      "[CV] END max_depth=10, max_leaf_nodes=40, min_samples_split=4; total time=   0.0s\n",
      "[CV] END max_depth=10, max_leaf_nodes=40, min_samples_split=6; total time=   0.0s\n",
      "[CV] END max_depth=10, max_leaf_nodes=40, min_samples_split=6; total time=   0.0s\n",
      "[CV] END max_depth=10, max_leaf_nodes=40, min_samples_split=6; total time=   0.0s\n",
      "[CV] END max_depth=10, max_leaf_nodes=40, min_samples_split=6; total time=   0.0s\n",
      "[CV] END max_depth=10, max_leaf_nodes=40, min_samples_split=6; total time=   0.0s\n",
      "[CV] END max_depth=10, max_leaf_nodes=40, min_samples_split=8; total time=   0.0s\n",
      "[CV] END max_depth=10, max_leaf_nodes=40, min_samples_split=8; total time=   0.0s\n",
      "[CV] END max_depth=10, max_leaf_nodes=40, min_samples_split=8; total time=   0.0s\n",
      "[CV] END max_depth=10, max_leaf_nodes=40, min_samples_split=8; total time=   0.0s\n",
      "[CV] END max_depth=10, max_leaf_nodes=40, min_samples_split=8; total time=   0.0s\n",
      "[CV] END max_depth=10, max_leaf_nodes=40, min_samples_split=10; total time=   0.0s\n",
      "[CV] END max_depth=10, max_leaf_nodes=40, min_samples_split=10; total time=   0.0s\n",
      "[CV] END max_depth=10, max_leaf_nodes=40, min_samples_split=10; total time=   0.0s\n",
      "[CV] END max_depth=10, max_leaf_nodes=40, min_samples_split=10; total time=   0.0s\n",
      "[CV] END max_depth=10, max_leaf_nodes=40, min_samples_split=10; total time=   0.0s\n",
      "[CV] END max_depth=13, max_leaf_nodes=3, min_samples_split=4; total time=   0.0s\n",
      "[CV] END max_depth=13, max_leaf_nodes=3, min_samples_split=4; total time=   0.0s\n",
      "[CV] END max_depth=13, max_leaf_nodes=3, min_samples_split=4; total time=   0.0s\n",
      "[CV] END max_depth=13, max_leaf_nodes=3, min_samples_split=4; total time=   0.0s\n",
      "[CV] END max_depth=13, max_leaf_nodes=3, min_samples_split=4; total time=   0.0s\n",
      "[CV] END max_depth=13, max_leaf_nodes=3, min_samples_split=6; total time=   0.0s\n",
      "[CV] END max_depth=13, max_leaf_nodes=3, min_samples_split=6; total time=   0.0s\n",
      "[CV] END max_depth=13, max_leaf_nodes=3, min_samples_split=6; total time=   0.0s\n",
      "[CV] END max_depth=13, max_leaf_nodes=3, min_samples_split=6; total time=   0.0s\n",
      "[CV] END max_depth=13, max_leaf_nodes=3, min_samples_split=6; total time=   0.0s\n",
      "[CV] END max_depth=13, max_leaf_nodes=3, min_samples_split=8; total time=   0.0s\n",
      "[CV] END max_depth=13, max_leaf_nodes=3, min_samples_split=8; total time=   0.0s\n",
      "[CV] END max_depth=13, max_leaf_nodes=3, min_samples_split=8; total time=   0.0s\n",
      "[CV] END max_depth=13, max_leaf_nodes=3, min_samples_split=8; total time=   0.0s\n",
      "[CV] END max_depth=13, max_leaf_nodes=3, min_samples_split=8; total time=   0.0s\n",
      "[CV] END max_depth=13, max_leaf_nodes=3, min_samples_split=10; total time=   0.0s\n"
     ]
    },
    {
     "name": "stdout",
     "output_type": "stream",
     "text": [
      "[CV] END max_depth=13, max_leaf_nodes=3, min_samples_split=10; total time=   0.0s\n",
      "[CV] END max_depth=13, max_leaf_nodes=3, min_samples_split=10; total time=   0.0s\n",
      "[CV] END max_depth=13, max_leaf_nodes=3, min_samples_split=10; total time=   0.0s\n",
      "[CV] END max_depth=13, max_leaf_nodes=3, min_samples_split=10; total time=   0.0s\n",
      "[CV] END max_depth=13, max_leaf_nodes=7, min_samples_split=4; total time=   0.0s\n",
      "[CV] END max_depth=13, max_leaf_nodes=7, min_samples_split=4; total time=   0.0s\n",
      "[CV] END max_depth=13, max_leaf_nodes=7, min_samples_split=4; total time=   0.0s\n",
      "[CV] END max_depth=13, max_leaf_nodes=7, min_samples_split=4; total time=   0.0s\n",
      "[CV] END max_depth=13, max_leaf_nodes=7, min_samples_split=4; total time=   0.0s\n",
      "[CV] END max_depth=13, max_leaf_nodes=7, min_samples_split=6; total time=   0.0s\n",
      "[CV] END max_depth=13, max_leaf_nodes=7, min_samples_split=6; total time=   0.0s\n",
      "[CV] END max_depth=13, max_leaf_nodes=7, min_samples_split=6; total time=   0.0s\n",
      "[CV] END max_depth=13, max_leaf_nodes=7, min_samples_split=6; total time=   0.0s\n",
      "[CV] END max_depth=13, max_leaf_nodes=7, min_samples_split=6; total time=   0.0s\n",
      "[CV] END max_depth=13, max_leaf_nodes=7, min_samples_split=8; total time=   0.0s\n",
      "[CV] END max_depth=13, max_leaf_nodes=7, min_samples_split=8; total time=   0.0s\n",
      "[CV] END max_depth=13, max_leaf_nodes=7, min_samples_split=8; total time=   0.0s\n",
      "[CV] END max_depth=13, max_leaf_nodes=7, min_samples_split=8; total time=   0.0s\n",
      "[CV] END max_depth=13, max_leaf_nodes=7, min_samples_split=8; total time=   0.0s\n",
      "[CV] END max_depth=13, max_leaf_nodes=7, min_samples_split=10; total time=   0.0s\n",
      "[CV] END max_depth=13, max_leaf_nodes=7, min_samples_split=10; total time=   0.0s\n",
      "[CV] END max_depth=13, max_leaf_nodes=7, min_samples_split=10; total time=   0.0s\n",
      "[CV] END max_depth=13, max_leaf_nodes=7, min_samples_split=10; total time=   0.0s\n",
      "[CV] END max_depth=13, max_leaf_nodes=7, min_samples_split=10; total time=   0.0s\n",
      "[CV] END max_depth=13, max_leaf_nodes=10, min_samples_split=4; total time=   0.0s\n",
      "[CV] END max_depth=13, max_leaf_nodes=10, min_samples_split=4; total time=   0.0s\n",
      "[CV] END max_depth=13, max_leaf_nodes=10, min_samples_split=4; total time=   0.0s\n",
      "[CV] END max_depth=13, max_leaf_nodes=10, min_samples_split=4; total time=   0.0s\n",
      "[CV] END max_depth=13, max_leaf_nodes=10, min_samples_split=4; total time=   0.0s\n",
      "[CV] END max_depth=13, max_leaf_nodes=10, min_samples_split=6; total time=   0.0s\n",
      "[CV] END max_depth=13, max_leaf_nodes=10, min_samples_split=6; total time=   0.0s\n",
      "[CV] END max_depth=13, max_leaf_nodes=10, min_samples_split=6; total time=   0.0s\n",
      "[CV] END max_depth=13, max_leaf_nodes=10, min_samples_split=6; total time=   0.0s\n",
      "[CV] END max_depth=13, max_leaf_nodes=10, min_samples_split=6; total time=   0.0s\n",
      "[CV] END max_depth=13, max_leaf_nodes=10, min_samples_split=8; total time=   0.0s\n",
      "[CV] END max_depth=13, max_leaf_nodes=10, min_samples_split=8; total time=   0.0s\n",
      "[CV] END max_depth=13, max_leaf_nodes=10, min_samples_split=8; total time=   0.0s\n",
      "[CV] END max_depth=13, max_leaf_nodes=10, min_samples_split=8; total time=   0.0s\n",
      "[CV] END max_depth=13, max_leaf_nodes=10, min_samples_split=8; total time=   0.0s\n",
      "[CV] END max_depth=13, max_leaf_nodes=10, min_samples_split=10; total time=   0.0s\n",
      "[CV] END max_depth=13, max_leaf_nodes=10, min_samples_split=10; total time=   0.0s\n",
      "[CV] END max_depth=13, max_leaf_nodes=10, min_samples_split=10; total time=   0.0s\n",
      "[CV] END max_depth=13, max_leaf_nodes=10, min_samples_split=10; total time=   0.0s\n",
      "[CV] END max_depth=13, max_leaf_nodes=10, min_samples_split=10; total time=   0.0s\n",
      "[CV] END max_depth=13, max_leaf_nodes=30, min_samples_split=4; total time=   0.0s\n",
      "[CV] END max_depth=13, max_leaf_nodes=30, min_samples_split=4; total time=   0.0s\n",
      "[CV] END max_depth=13, max_leaf_nodes=30, min_samples_split=4; total time=   0.0s\n",
      "[CV] END max_depth=13, max_leaf_nodes=30, min_samples_split=4; total time=   0.0s\n",
      "[CV] END max_depth=13, max_leaf_nodes=30, min_samples_split=4; total time=   0.0s\n",
      "[CV] END max_depth=13, max_leaf_nodes=30, min_samples_split=6; total time=   0.0s\n",
      "[CV] END max_depth=13, max_leaf_nodes=30, min_samples_split=6; total time=   0.0s\n",
      "[CV] END max_depth=13, max_leaf_nodes=30, min_samples_split=6; total time=   0.0s\n",
      "[CV] END max_depth=13, max_leaf_nodes=30, min_samples_split=6; total time=   0.0s\n",
      "[CV] END max_depth=13, max_leaf_nodes=30, min_samples_split=6; total time=   0.0s\n",
      "[CV] END max_depth=13, max_leaf_nodes=30, min_samples_split=8; total time=   0.0s\n",
      "[CV] END max_depth=13, max_leaf_nodes=30, min_samples_split=8; total time=   0.0s\n",
      "[CV] END max_depth=13, max_leaf_nodes=30, min_samples_split=8; total time=   0.0s\n",
      "[CV] END max_depth=13, max_leaf_nodes=30, min_samples_split=8; total time=   0.0s\n",
      "[CV] END max_depth=13, max_leaf_nodes=30, min_samples_split=8; total time=   0.0s\n",
      "[CV] END max_depth=13, max_leaf_nodes=30, min_samples_split=10; total time=   0.0s\n",
      "[CV] END max_depth=13, max_leaf_nodes=30, min_samples_split=10; total time=   0.0s\n",
      "[CV] END max_depth=13, max_leaf_nodes=30, min_samples_split=10; total time=   0.0s\n",
      "[CV] END max_depth=13, max_leaf_nodes=30, min_samples_split=10; total time=   0.0s\n",
      "[CV] END max_depth=13, max_leaf_nodes=30, min_samples_split=10; total time=   0.0s\n",
      "[CV] END max_depth=13, max_leaf_nodes=40, min_samples_split=4; total time=   0.0s\n",
      "[CV] END max_depth=13, max_leaf_nodes=40, min_samples_split=4; total time=   0.0s\n",
      "[CV] END max_depth=13, max_leaf_nodes=40, min_samples_split=4; total time=   0.0s\n",
      "[CV] END max_depth=13, max_leaf_nodes=40, min_samples_split=4; total time=   0.0s\n",
      "[CV] END max_depth=13, max_leaf_nodes=40, min_samples_split=4; total time=   0.0s\n",
      "[CV] END max_depth=13, max_leaf_nodes=40, min_samples_split=6; total time=   0.0s\n",
      "[CV] END max_depth=13, max_leaf_nodes=40, min_samples_split=6; total time=   0.0s\n",
      "[CV] END max_depth=13, max_leaf_nodes=40, min_samples_split=6; total time=   0.0s\n",
      "[CV] END max_depth=13, max_leaf_nodes=40, min_samples_split=6; total time=   0.0s\n",
      "[CV] END max_depth=13, max_leaf_nodes=40, min_samples_split=6; total time=   0.0s\n",
      "[CV] END max_depth=13, max_leaf_nodes=40, min_samples_split=8; total time=   0.0s\n",
      "[CV] END max_depth=13, max_leaf_nodes=40, min_samples_split=8; total time=   0.0s\n",
      "[CV] END max_depth=13, max_leaf_nodes=40, min_samples_split=8; total time=   0.0s\n",
      "[CV] END max_depth=13, max_leaf_nodes=40, min_samples_split=8; total time=   0.0s\n",
      "[CV] END max_depth=13, max_leaf_nodes=40, min_samples_split=8; total time=   0.0s\n",
      "[CV] END max_depth=13, max_leaf_nodes=40, min_samples_split=10; total time=   0.0s\n",
      "[CV] END max_depth=13, max_leaf_nodes=40, min_samples_split=10; total time=   0.0s\n",
      "[CV] END max_depth=13, max_leaf_nodes=40, min_samples_split=10; total time=   0.0s\n",
      "[CV] END max_depth=13, max_leaf_nodes=40, min_samples_split=10; total time=   0.0s\n",
      "[CV] END max_depth=13, max_leaf_nodes=40, min_samples_split=10; total time=   0.0s\n",
      "[CV] END max_depth=15, max_leaf_nodes=3, min_samples_split=4; total time=   0.0s\n",
      "[CV] END max_depth=15, max_leaf_nodes=3, min_samples_split=4; total time=   0.0s\n",
      "[CV] END max_depth=15, max_leaf_nodes=3, min_samples_split=4; total time=   0.0s\n",
      "[CV] END max_depth=15, max_leaf_nodes=3, min_samples_split=4; total time=   0.0s\n",
      "[CV] END max_depth=15, max_leaf_nodes=3, min_samples_split=4; total time=   0.0s\n",
      "[CV] END max_depth=15, max_leaf_nodes=3, min_samples_split=6; total time=   0.0s\n",
      "[CV] END max_depth=15, max_leaf_nodes=3, min_samples_split=6; total time=   0.0s\n",
      "[CV] END max_depth=15, max_leaf_nodes=3, min_samples_split=6; total time=   0.0s\n",
      "[CV] END max_depth=15, max_leaf_nodes=3, min_samples_split=6; total time=   0.0s\n",
      "[CV] END max_depth=15, max_leaf_nodes=3, min_samples_split=6; total time=   0.0s\n",
      "[CV] END max_depth=15, max_leaf_nodes=3, min_samples_split=8; total time=   0.0s\n",
      "[CV] END max_depth=15, max_leaf_nodes=3, min_samples_split=8; total time=   0.0s\n",
      "[CV] END max_depth=15, max_leaf_nodes=3, min_samples_split=8; total time=   0.0s\n",
      "[CV] END max_depth=15, max_leaf_nodes=3, min_samples_split=8; total time=   0.0s\n",
      "[CV] END max_depth=15, max_leaf_nodes=3, min_samples_split=8; total time=   0.0s\n",
      "[CV] END max_depth=15, max_leaf_nodes=3, min_samples_split=10; total time=   0.0s\n",
      "[CV] END max_depth=15, max_leaf_nodes=3, min_samples_split=10; total time=   0.0s\n",
      "[CV] END max_depth=15, max_leaf_nodes=3, min_samples_split=10; total time=   0.0s\n",
      "[CV] END max_depth=15, max_leaf_nodes=3, min_samples_split=10; total time=   0.0s\n",
      "[CV] END max_depth=15, max_leaf_nodes=3, min_samples_split=10; total time=   0.0s\n"
     ]
    },
    {
     "name": "stdout",
     "output_type": "stream",
     "text": [
      "[CV] END max_depth=15, max_leaf_nodes=7, min_samples_split=4; total time=   0.0s\n",
      "[CV] END max_depth=15, max_leaf_nodes=7, min_samples_split=4; total time=   0.0s\n",
      "[CV] END max_depth=15, max_leaf_nodes=7, min_samples_split=4; total time=   0.0s\n",
      "[CV] END max_depth=15, max_leaf_nodes=7, min_samples_split=4; total time=   0.0s\n",
      "[CV] END max_depth=15, max_leaf_nodes=7, min_samples_split=4; total time=   0.0s\n",
      "[CV] END max_depth=15, max_leaf_nodes=7, min_samples_split=6; total time=   0.0s\n",
      "[CV] END max_depth=15, max_leaf_nodes=7, min_samples_split=6; total time=   0.0s\n",
      "[CV] END max_depth=15, max_leaf_nodes=7, min_samples_split=6; total time=   0.0s\n",
      "[CV] END max_depth=15, max_leaf_nodes=7, min_samples_split=6; total time=   0.0s\n",
      "[CV] END max_depth=15, max_leaf_nodes=7, min_samples_split=6; total time=   0.0s\n",
      "[CV] END max_depth=15, max_leaf_nodes=7, min_samples_split=8; total time=   0.0s\n",
      "[CV] END max_depth=15, max_leaf_nodes=7, min_samples_split=8; total time=   0.0s\n",
      "[CV] END max_depth=15, max_leaf_nodes=7, min_samples_split=8; total time=   0.0s\n",
      "[CV] END max_depth=15, max_leaf_nodes=7, min_samples_split=8; total time=   0.0s\n",
      "[CV] END max_depth=15, max_leaf_nodes=7, min_samples_split=8; total time=   0.0s\n",
      "[CV] END max_depth=15, max_leaf_nodes=7, min_samples_split=10; total time=   0.0s\n",
      "[CV] END max_depth=15, max_leaf_nodes=7, min_samples_split=10; total time=   0.0s\n",
      "[CV] END max_depth=15, max_leaf_nodes=7, min_samples_split=10; total time=   0.0s\n",
      "[CV] END max_depth=15, max_leaf_nodes=7, min_samples_split=10; total time=   0.0s\n",
      "[CV] END max_depth=15, max_leaf_nodes=7, min_samples_split=10; total time=   0.0s\n",
      "[CV] END max_depth=15, max_leaf_nodes=10, min_samples_split=4; total time=   0.0s\n",
      "[CV] END max_depth=15, max_leaf_nodes=10, min_samples_split=4; total time=   0.0s\n",
      "[CV] END max_depth=15, max_leaf_nodes=10, min_samples_split=4; total time=   0.0s\n",
      "[CV] END max_depth=15, max_leaf_nodes=10, min_samples_split=4; total time=   0.0s\n",
      "[CV] END max_depth=15, max_leaf_nodes=10, min_samples_split=4; total time=   0.0s\n",
      "[CV] END max_depth=15, max_leaf_nodes=10, min_samples_split=6; total time=   0.0s\n",
      "[CV] END max_depth=15, max_leaf_nodes=10, min_samples_split=6; total time=   0.0s\n",
      "[CV] END max_depth=15, max_leaf_nodes=10, min_samples_split=6; total time=   0.0s\n",
      "[CV] END max_depth=15, max_leaf_nodes=10, min_samples_split=6; total time=   0.0s\n",
      "[CV] END max_depth=15, max_leaf_nodes=10, min_samples_split=6; total time=   0.0s\n",
      "[CV] END max_depth=15, max_leaf_nodes=10, min_samples_split=8; total time=   0.0s\n",
      "[CV] END max_depth=15, max_leaf_nodes=10, min_samples_split=8; total time=   0.0s\n",
      "[CV] END max_depth=15, max_leaf_nodes=10, min_samples_split=8; total time=   0.0s\n",
      "[CV] END max_depth=15, max_leaf_nodes=10, min_samples_split=8; total time=   0.0s\n",
      "[CV] END max_depth=15, max_leaf_nodes=10, min_samples_split=8; total time=   0.0s\n",
      "[CV] END max_depth=15, max_leaf_nodes=10, min_samples_split=10; total time=   0.0s\n",
      "[CV] END max_depth=15, max_leaf_nodes=10, min_samples_split=10; total time=   0.0s\n",
      "[CV] END max_depth=15, max_leaf_nodes=10, min_samples_split=10; total time=   0.0s\n",
      "[CV] END max_depth=15, max_leaf_nodes=10, min_samples_split=10; total time=   0.0s\n",
      "[CV] END max_depth=15, max_leaf_nodes=10, min_samples_split=10; total time=   0.0s\n",
      "[CV] END max_depth=15, max_leaf_nodes=30, min_samples_split=4; total time=   0.0s\n",
      "[CV] END max_depth=15, max_leaf_nodes=30, min_samples_split=4; total time=   0.0s\n",
      "[CV] END max_depth=15, max_leaf_nodes=30, min_samples_split=4; total time=   0.0s\n",
      "[CV] END max_depth=15, max_leaf_nodes=30, min_samples_split=4; total time=   0.0s\n",
      "[CV] END max_depth=15, max_leaf_nodes=30, min_samples_split=4; total time=   0.0s\n",
      "[CV] END max_depth=15, max_leaf_nodes=30, min_samples_split=6; total time=   0.0s\n",
      "[CV] END max_depth=15, max_leaf_nodes=30, min_samples_split=6; total time=   0.0s\n",
      "[CV] END max_depth=15, max_leaf_nodes=30, min_samples_split=6; total time=   0.0s\n",
      "[CV] END max_depth=15, max_leaf_nodes=30, min_samples_split=6; total time=   0.0s\n",
      "[CV] END max_depth=15, max_leaf_nodes=30, min_samples_split=6; total time=   0.0s\n",
      "[CV] END max_depth=15, max_leaf_nodes=30, min_samples_split=8; total time=   0.0s\n",
      "[CV] END max_depth=15, max_leaf_nodes=30, min_samples_split=8; total time=   0.0s\n",
      "[CV] END max_depth=15, max_leaf_nodes=30, min_samples_split=8; total time=   0.0s\n",
      "[CV] END max_depth=15, max_leaf_nodes=30, min_samples_split=8; total time=   0.0s\n",
      "[CV] END max_depth=15, max_leaf_nodes=30, min_samples_split=8; total time=   0.0s\n",
      "[CV] END max_depth=15, max_leaf_nodes=30, min_samples_split=10; total time=   0.0s\n",
      "[CV] END max_depth=15, max_leaf_nodes=30, min_samples_split=10; total time=   0.0s\n",
      "[CV] END max_depth=15, max_leaf_nodes=30, min_samples_split=10; total time=   0.0s\n",
      "[CV] END max_depth=15, max_leaf_nodes=30, min_samples_split=10; total time=   0.0s\n",
      "[CV] END max_depth=15, max_leaf_nodes=30, min_samples_split=10; total time=   0.0s\n",
      "[CV] END max_depth=15, max_leaf_nodes=40, min_samples_split=4; total time=   0.0s\n",
      "[CV] END max_depth=15, max_leaf_nodes=40, min_samples_split=4; total time=   0.0s\n",
      "[CV] END max_depth=15, max_leaf_nodes=40, min_samples_split=4; total time=   0.0s\n",
      "[CV] END max_depth=15, max_leaf_nodes=40, min_samples_split=4; total time=   0.0s\n",
      "[CV] END max_depth=15, max_leaf_nodes=40, min_samples_split=4; total time=   0.0s\n",
      "[CV] END max_depth=15, max_leaf_nodes=40, min_samples_split=6; total time=   0.0s\n",
      "[CV] END max_depth=15, max_leaf_nodes=40, min_samples_split=6; total time=   0.0s\n",
      "[CV] END max_depth=15, max_leaf_nodes=40, min_samples_split=6; total time=   0.0s\n",
      "[CV] END max_depth=15, max_leaf_nodes=40, min_samples_split=6; total time=   0.0s\n",
      "[CV] END max_depth=15, max_leaf_nodes=40, min_samples_split=6; total time=   0.0s\n",
      "[CV] END max_depth=15, max_leaf_nodes=40, min_samples_split=8; total time=   0.0s\n",
      "[CV] END max_depth=15, max_leaf_nodes=40, min_samples_split=8; total time=   0.0s\n",
      "[CV] END max_depth=15, max_leaf_nodes=40, min_samples_split=8; total time=   0.0s\n",
      "[CV] END max_depth=15, max_leaf_nodes=40, min_samples_split=8; total time=   0.0s\n",
      "[CV] END max_depth=15, max_leaf_nodes=40, min_samples_split=8; total time=   0.0s\n",
      "[CV] END max_depth=15, max_leaf_nodes=40, min_samples_split=10; total time=   0.0s\n",
      "[CV] END max_depth=15, max_leaf_nodes=40, min_samples_split=10; total time=   0.0s\n",
      "[CV] END max_depth=15, max_leaf_nodes=40, min_samples_split=10; total time=   0.0s\n",
      "[CV] END max_depth=15, max_leaf_nodes=40, min_samples_split=10; total time=   0.0s\n",
      "[CV] END max_depth=15, max_leaf_nodes=40, min_samples_split=10; total time=   0.0s\n",
      "[CV] END max_depth=20, max_leaf_nodes=3, min_samples_split=4; total time=   0.0s\n",
      "[CV] END max_depth=20, max_leaf_nodes=3, min_samples_split=4; total time=   0.0s\n",
      "[CV] END max_depth=20, max_leaf_nodes=3, min_samples_split=4; total time=   0.0s\n",
      "[CV] END max_depth=20, max_leaf_nodes=3, min_samples_split=4; total time=   0.0s\n",
      "[CV] END max_depth=20, max_leaf_nodes=3, min_samples_split=4; total time=   0.0s\n",
      "[CV] END max_depth=20, max_leaf_nodes=3, min_samples_split=6; total time=   0.0s\n",
      "[CV] END max_depth=20, max_leaf_nodes=3, min_samples_split=6; total time=   0.0s\n",
      "[CV] END max_depth=20, max_leaf_nodes=3, min_samples_split=6; total time=   0.0s\n",
      "[CV] END max_depth=20, max_leaf_nodes=3, min_samples_split=6; total time=   0.0s\n",
      "[CV] END max_depth=20, max_leaf_nodes=3, min_samples_split=6; total time=   0.0s\n",
      "[CV] END max_depth=20, max_leaf_nodes=3, min_samples_split=8; total time=   0.0s\n",
      "[CV] END max_depth=20, max_leaf_nodes=3, min_samples_split=8; total time=   0.0s\n",
      "[CV] END max_depth=20, max_leaf_nodes=3, min_samples_split=8; total time=   0.0s\n",
      "[CV] END max_depth=20, max_leaf_nodes=3, min_samples_split=8; total time=   0.0s\n",
      "[CV] END max_depth=20, max_leaf_nodes=3, min_samples_split=8; total time=   0.0s\n",
      "[CV] END max_depth=20, max_leaf_nodes=3, min_samples_split=10; total time=   0.0s\n",
      "[CV] END max_depth=20, max_leaf_nodes=3, min_samples_split=10; total time=   0.0s\n",
      "[CV] END max_depth=20, max_leaf_nodes=3, min_samples_split=10; total time=   0.0s\n",
      "[CV] END max_depth=20, max_leaf_nodes=3, min_samples_split=10; total time=   0.0s\n",
      "[CV] END max_depth=20, max_leaf_nodes=3, min_samples_split=10; total time=   0.0s\n",
      "[CV] END max_depth=20, max_leaf_nodes=7, min_samples_split=4; total time=   0.0s\n",
      "[CV] END max_depth=20, max_leaf_nodes=7, min_samples_split=4; total time=   0.0s\n",
      "[CV] END max_depth=20, max_leaf_nodes=7, min_samples_split=4; total time=   0.0s\n",
      "[CV] END max_depth=20, max_leaf_nodes=7, min_samples_split=4; total time=   0.0s\n"
     ]
    },
    {
     "name": "stdout",
     "output_type": "stream",
     "text": [
      "[CV] END max_depth=20, max_leaf_nodes=7, min_samples_split=4; total time=   0.0s\n",
      "[CV] END max_depth=20, max_leaf_nodes=7, min_samples_split=6; total time=   0.0s\n",
      "[CV] END max_depth=20, max_leaf_nodes=7, min_samples_split=6; total time=   0.0s\n",
      "[CV] END max_depth=20, max_leaf_nodes=7, min_samples_split=6; total time=   0.0s\n",
      "[CV] END max_depth=20, max_leaf_nodes=7, min_samples_split=6; total time=   0.0s\n",
      "[CV] END max_depth=20, max_leaf_nodes=7, min_samples_split=6; total time=   0.0s\n",
      "[CV] END max_depth=20, max_leaf_nodes=7, min_samples_split=8; total time=   0.0s\n",
      "[CV] END max_depth=20, max_leaf_nodes=7, min_samples_split=8; total time=   0.0s\n",
      "[CV] END max_depth=20, max_leaf_nodes=7, min_samples_split=8; total time=   0.0s\n",
      "[CV] END max_depth=20, max_leaf_nodes=7, min_samples_split=8; total time=   0.0s\n",
      "[CV] END max_depth=20, max_leaf_nodes=7, min_samples_split=8; total time=   0.0s\n",
      "[CV] END max_depth=20, max_leaf_nodes=7, min_samples_split=10; total time=   0.0s\n",
      "[CV] END max_depth=20, max_leaf_nodes=7, min_samples_split=10; total time=   0.0s\n",
      "[CV] END max_depth=20, max_leaf_nodes=7, min_samples_split=10; total time=   0.0s\n",
      "[CV] END max_depth=20, max_leaf_nodes=7, min_samples_split=10; total time=   0.0s\n",
      "[CV] END max_depth=20, max_leaf_nodes=7, min_samples_split=10; total time=   0.0s\n",
      "[CV] END max_depth=20, max_leaf_nodes=10, min_samples_split=4; total time=   0.0s\n",
      "[CV] END max_depth=20, max_leaf_nodes=10, min_samples_split=4; total time=   0.0s\n",
      "[CV] END max_depth=20, max_leaf_nodes=10, min_samples_split=4; total time=   0.0s\n",
      "[CV] END max_depth=20, max_leaf_nodes=10, min_samples_split=4; total time=   0.0s\n",
      "[CV] END max_depth=20, max_leaf_nodes=10, min_samples_split=4; total time=   0.0s\n",
      "[CV] END max_depth=20, max_leaf_nodes=10, min_samples_split=6; total time=   0.0s\n",
      "[CV] END max_depth=20, max_leaf_nodes=10, min_samples_split=6; total time=   0.0s\n",
      "[CV] END max_depth=20, max_leaf_nodes=10, min_samples_split=6; total time=   0.0s\n",
      "[CV] END max_depth=20, max_leaf_nodes=10, min_samples_split=6; total time=   0.0s\n",
      "[CV] END max_depth=20, max_leaf_nodes=10, min_samples_split=6; total time=   0.0s\n",
      "[CV] END max_depth=20, max_leaf_nodes=10, min_samples_split=8; total time=   0.0s\n",
      "[CV] END max_depth=20, max_leaf_nodes=10, min_samples_split=8; total time=   0.0s\n",
      "[CV] END max_depth=20, max_leaf_nodes=10, min_samples_split=8; total time=   0.0s\n",
      "[CV] END max_depth=20, max_leaf_nodes=10, min_samples_split=8; total time=   0.0s\n",
      "[CV] END max_depth=20, max_leaf_nodes=10, min_samples_split=8; total time=   0.0s\n",
      "[CV] END max_depth=20, max_leaf_nodes=10, min_samples_split=10; total time=   0.0s\n",
      "[CV] END max_depth=20, max_leaf_nodes=10, min_samples_split=10; total time=   0.0s\n",
      "[CV] END max_depth=20, max_leaf_nodes=10, min_samples_split=10; total time=   0.0s\n",
      "[CV] END max_depth=20, max_leaf_nodes=10, min_samples_split=10; total time=   0.0s\n",
      "[CV] END max_depth=20, max_leaf_nodes=10, min_samples_split=10; total time=   0.0s\n",
      "[CV] END max_depth=20, max_leaf_nodes=30, min_samples_split=4; total time=   0.0s\n",
      "[CV] END max_depth=20, max_leaf_nodes=30, min_samples_split=4; total time=   0.0s\n",
      "[CV] END max_depth=20, max_leaf_nodes=30, min_samples_split=4; total time=   0.0s\n",
      "[CV] END max_depth=20, max_leaf_nodes=30, min_samples_split=4; total time=   0.0s\n",
      "[CV] END max_depth=20, max_leaf_nodes=30, min_samples_split=4; total time=   0.0s\n",
      "[CV] END max_depth=20, max_leaf_nodes=30, min_samples_split=6; total time=   0.0s\n",
      "[CV] END max_depth=20, max_leaf_nodes=30, min_samples_split=6; total time=   0.0s\n",
      "[CV] END max_depth=20, max_leaf_nodes=30, min_samples_split=6; total time=   0.0s\n",
      "[CV] END max_depth=20, max_leaf_nodes=30, min_samples_split=6; total time=   0.0s\n",
      "[CV] END max_depth=20, max_leaf_nodes=30, min_samples_split=6; total time=   0.0s\n",
      "[CV] END max_depth=20, max_leaf_nodes=30, min_samples_split=8; total time=   0.0s\n",
      "[CV] END max_depth=20, max_leaf_nodes=30, min_samples_split=8; total time=   0.0s\n",
      "[CV] END max_depth=20, max_leaf_nodes=30, min_samples_split=8; total time=   0.0s\n",
      "[CV] END max_depth=20, max_leaf_nodes=30, min_samples_split=8; total time=   0.0s\n",
      "[CV] END max_depth=20, max_leaf_nodes=30, min_samples_split=8; total time=   0.0s\n",
      "[CV] END max_depth=20, max_leaf_nodes=30, min_samples_split=10; total time=   0.0s\n",
      "[CV] END max_depth=20, max_leaf_nodes=30, min_samples_split=10; total time=   0.0s\n",
      "[CV] END max_depth=20, max_leaf_nodes=30, min_samples_split=10; total time=   0.0s\n",
      "[CV] END max_depth=20, max_leaf_nodes=30, min_samples_split=10; total time=   0.0s\n",
      "[CV] END max_depth=20, max_leaf_nodes=30, min_samples_split=10; total time=   0.0s\n",
      "[CV] END max_depth=20, max_leaf_nodes=40, min_samples_split=4; total time=   0.0s\n",
      "[CV] END max_depth=20, max_leaf_nodes=40, min_samples_split=4; total time=   0.0s\n",
      "[CV] END max_depth=20, max_leaf_nodes=40, min_samples_split=4; total time=   0.0s\n",
      "[CV] END max_depth=20, max_leaf_nodes=40, min_samples_split=4; total time=   0.0s\n",
      "[CV] END max_depth=20, max_leaf_nodes=40, min_samples_split=4; total time=   0.0s\n",
      "[CV] END max_depth=20, max_leaf_nodes=40, min_samples_split=6; total time=   0.0s\n",
      "[CV] END max_depth=20, max_leaf_nodes=40, min_samples_split=6; total time=   0.0s\n",
      "[CV] END max_depth=20, max_leaf_nodes=40, min_samples_split=6; total time=   0.0s\n",
      "[CV] END max_depth=20, max_leaf_nodes=40, min_samples_split=6; total time=   0.0s\n",
      "[CV] END max_depth=20, max_leaf_nodes=40, min_samples_split=6; total time=   0.0s\n",
      "[CV] END max_depth=20, max_leaf_nodes=40, min_samples_split=8; total time=   0.0s\n",
      "[CV] END max_depth=20, max_leaf_nodes=40, min_samples_split=8; total time=   0.0s\n",
      "[CV] END max_depth=20, max_leaf_nodes=40, min_samples_split=8; total time=   0.0s\n",
      "[CV] END max_depth=20, max_leaf_nodes=40, min_samples_split=8; total time=   0.0s\n",
      "[CV] END max_depth=20, max_leaf_nodes=40, min_samples_split=8; total time=   0.0s\n",
      "[CV] END max_depth=20, max_leaf_nodes=40, min_samples_split=10; total time=   0.0s\n",
      "[CV] END max_depth=20, max_leaf_nodes=40, min_samples_split=10; total time=   0.0s\n",
      "[CV] END max_depth=20, max_leaf_nodes=40, min_samples_split=10; total time=   0.0s\n",
      "[CV] END max_depth=20, max_leaf_nodes=40, min_samples_split=10; total time=   0.0s\n",
      "[CV] END max_depth=20, max_leaf_nodes=40, min_samples_split=10; total time=   0.0s\n"
     ]
    },
    {
     "data": {
      "text/plain": [
       "GridSearchCV(cv=5, estimator=DecisionTreeClassifier(),\n",
       "             param_grid={'max_depth': [4, 5, 6, 7, 8, 10, 13, 15, 20],\n",
       "                         'max_leaf_nodes': [3, 7, 10, 30, 40],\n",
       "                         'min_samples_split': [4, 6, 8, 10]},\n",
       "             return_train_score=True, verbose=2)"
      ]
     },
     "execution_count": 31,
     "metadata": {},
     "output_type": "execute_result"
    }
   ],
   "source": [
    "from sklearn.model_selection import GridSearchCV\n",
    "\n",
    "parameters = {'max_leaf_nodes': [3, 7, 10, 30, 40], \n",
    "          'min_samples_split': [4, 6, 8, 10],\n",
    "          'max_depth':[4,5,6,7,8,10,13,15,20]}\n",
    "\n",
    "DTclf_model = GridSearchCV(estimator=DecisionTreeClassifier(), param_grid=parameters, cv= 5, verbose = 2, return_train_score = True)\n",
    "DTclf_model.fit(X_train, y_train)"
   ]
  },
  {
   "cell_type": "code",
   "execution_count": 32,
   "metadata": {},
   "outputs": [
    {
     "data": {
      "text/plain": [
       "0.8484"
      ]
     },
     "execution_count": 32,
     "metadata": {},
     "output_type": "execute_result"
    }
   ],
   "source": [
    "DTclf_model.best_score_"
   ]
  },
  {
   "cell_type": "code",
   "execution_count": 33,
   "metadata": {},
   "outputs": [
    {
     "data": {
      "text/plain": [
       "DecisionTreeClassifier(max_depth=4, max_leaf_nodes=3, min_samples_split=4)"
      ]
     },
     "execution_count": 33,
     "metadata": {},
     "output_type": "execute_result"
    }
   ],
   "source": [
    "DTclf_model.best_estimator_"
   ]
  },
  {
   "cell_type": "code",
   "execution_count": 36,
   "metadata": {},
   "outputs": [
    {
     "data": {
      "text/plain": [
       "array([0.        , 0.        , 0.        , 0.        , 0.43337525,\n",
       "       0.        , 0.        , 0.        , 0.        , 0.        ,\n",
       "       0.56662475])"
      ]
     },
     "execution_count": 36,
     "metadata": {},
     "output_type": "execute_result"
    }
   ],
   "source": [
    "DTclf_model.best_estimator_.feature_importances_"
   ]
  },
  {
   "cell_type": "code",
   "execution_count": 37,
   "metadata": {},
   "outputs": [
    {
     "name": "stderr",
     "output_type": "stream",
     "text": [
      "<ipython-input-37-292c09417a3b>:4: DataConversionWarning: A column-vector y was passed when a 1d array was expected. Please change the shape of y to (n_samples,), for example using ravel().\n",
      "  rf_clf.fit(X_train,y_train)\n"
     ]
    },
    {
     "name": "stdout",
     "output_type": "stream",
     "text": [
      "0.8512666666666666\n"
     ]
    }
   ],
   "source": [
    "from sklearn.ensemble import RandomForestClassifier\n",
    "\n",
    "rf_clf = RandomForestClassifier(n_estimators=100, max_depth=None, max_leaf_nodes=None,min_samples_split=2)  \n",
    "rf_clf.fit(X_train,y_train)\n",
    "score = rf_clf.score(X_test, y_test)\n",
    "print(score)"
   ]
  },
  {
   "cell_type": "code",
   "execution_count": null,
   "metadata": {},
   "outputs": [],
   "source": []
  },
  {
   "cell_type": "code",
   "execution_count": 38,
   "metadata": {
    "scrolled": true
   },
   "outputs": [
    {
     "name": "stdout",
     "output_type": "stream",
     "text": [
      "Fitting 5 folds for each of 18 candidates, totalling 90 fits\n"
     ]
    },
    {
     "name": "stderr",
     "output_type": "stream",
     "text": [
      "C:\\Users\\ashwi\\anaconda3\\lib\\site-packages\\sklearn\\model_selection\\_validation.py:593: DataConversionWarning: A column-vector y was passed when a 1d array was expected. Please change the shape of y to (n_samples,), for example using ravel().\n",
      "  estimator.fit(X_train, y_train, **fit_params)\n"
     ]
    },
    {
     "name": "stdout",
     "output_type": "stream",
     "text": [
      "[CV] END ...max_depth=3, max_features=auto, n_estimators=200; total time=   1.4s\n"
     ]
    },
    {
     "name": "stderr",
     "output_type": "stream",
     "text": [
      "C:\\Users\\ashwi\\anaconda3\\lib\\site-packages\\sklearn\\model_selection\\_validation.py:593: DataConversionWarning: A column-vector y was passed when a 1d array was expected. Please change the shape of y to (n_samples,), for example using ravel().\n",
      "  estimator.fit(X_train, y_train, **fit_params)\n"
     ]
    },
    {
     "name": "stdout",
     "output_type": "stream",
     "text": [
      "[CV] END ...max_depth=3, max_features=auto, n_estimators=200; total time=   1.4s\n"
     ]
    },
    {
     "name": "stderr",
     "output_type": "stream",
     "text": [
      "C:\\Users\\ashwi\\anaconda3\\lib\\site-packages\\sklearn\\model_selection\\_validation.py:593: DataConversionWarning: A column-vector y was passed when a 1d array was expected. Please change the shape of y to (n_samples,), for example using ravel().\n",
      "  estimator.fit(X_train, y_train, **fit_params)\n"
     ]
    },
    {
     "name": "stdout",
     "output_type": "stream",
     "text": [
      "[CV] END ...max_depth=3, max_features=auto, n_estimators=200; total time=   1.3s\n"
     ]
    },
    {
     "name": "stderr",
     "output_type": "stream",
     "text": [
      "C:\\Users\\ashwi\\anaconda3\\lib\\site-packages\\sklearn\\model_selection\\_validation.py:593: DataConversionWarning: A column-vector y was passed when a 1d array was expected. Please change the shape of y to (n_samples,), for example using ravel().\n",
      "  estimator.fit(X_train, y_train, **fit_params)\n"
     ]
    },
    {
     "name": "stdout",
     "output_type": "stream",
     "text": [
      "[CV] END ...max_depth=3, max_features=auto, n_estimators=200; total time=   1.4s\n"
     ]
    },
    {
     "name": "stderr",
     "output_type": "stream",
     "text": [
      "C:\\Users\\ashwi\\anaconda3\\lib\\site-packages\\sklearn\\model_selection\\_validation.py:593: DataConversionWarning: A column-vector y was passed when a 1d array was expected. Please change the shape of y to (n_samples,), for example using ravel().\n",
      "  estimator.fit(X_train, y_train, **fit_params)\n"
     ]
    },
    {
     "name": "stdout",
     "output_type": "stream",
     "text": [
      "[CV] END ...max_depth=3, max_features=auto, n_estimators=200; total time=   1.4s\n"
     ]
    },
    {
     "name": "stderr",
     "output_type": "stream",
     "text": [
      "C:\\Users\\ashwi\\anaconda3\\lib\\site-packages\\sklearn\\model_selection\\_validation.py:593: DataConversionWarning: A column-vector y was passed when a 1d array was expected. Please change the shape of y to (n_samples,), for example using ravel().\n",
      "  estimator.fit(X_train, y_train, **fit_params)\n"
     ]
    },
    {
     "name": "stdout",
     "output_type": "stream",
     "text": [
      "[CV] END ...max_depth=3, max_features=auto, n_estimators=500; total time=   3.7s\n"
     ]
    },
    {
     "name": "stderr",
     "output_type": "stream",
     "text": [
      "C:\\Users\\ashwi\\anaconda3\\lib\\site-packages\\sklearn\\model_selection\\_validation.py:593: DataConversionWarning: A column-vector y was passed when a 1d array was expected. Please change the shape of y to (n_samples,), for example using ravel().\n",
      "  estimator.fit(X_train, y_train, **fit_params)\n"
     ]
    },
    {
     "name": "stdout",
     "output_type": "stream",
     "text": [
      "[CV] END ...max_depth=3, max_features=auto, n_estimators=500; total time=   3.7s\n"
     ]
    },
    {
     "name": "stderr",
     "output_type": "stream",
     "text": [
      "C:\\Users\\ashwi\\anaconda3\\lib\\site-packages\\sklearn\\model_selection\\_validation.py:593: DataConversionWarning: A column-vector y was passed when a 1d array was expected. Please change the shape of y to (n_samples,), for example using ravel().\n",
      "  estimator.fit(X_train, y_train, **fit_params)\n"
     ]
    },
    {
     "name": "stdout",
     "output_type": "stream",
     "text": [
      "[CV] END ...max_depth=3, max_features=auto, n_estimators=500; total time=   3.6s\n"
     ]
    },
    {
     "name": "stderr",
     "output_type": "stream",
     "text": [
      "C:\\Users\\ashwi\\anaconda3\\lib\\site-packages\\sklearn\\model_selection\\_validation.py:593: DataConversionWarning: A column-vector y was passed when a 1d array was expected. Please change the shape of y to (n_samples,), for example using ravel().\n",
      "  estimator.fit(X_train, y_train, **fit_params)\n"
     ]
    },
    {
     "name": "stdout",
     "output_type": "stream",
     "text": [
      "[CV] END ...max_depth=3, max_features=auto, n_estimators=500; total time=   3.5s\n"
     ]
    },
    {
     "name": "stderr",
     "output_type": "stream",
     "text": [
      "C:\\Users\\ashwi\\anaconda3\\lib\\site-packages\\sklearn\\model_selection\\_validation.py:593: DataConversionWarning: A column-vector y was passed when a 1d array was expected. Please change the shape of y to (n_samples,), for example using ravel().\n",
      "  estimator.fit(X_train, y_train, **fit_params)\n"
     ]
    },
    {
     "name": "stdout",
     "output_type": "stream",
     "text": [
      "[CV] END ...max_depth=3, max_features=auto, n_estimators=500; total time=   3.5s\n"
     ]
    },
    {
     "name": "stderr",
     "output_type": "stream",
     "text": [
      "C:\\Users\\ashwi\\anaconda3\\lib\\site-packages\\sklearn\\model_selection\\_validation.py:593: DataConversionWarning: A column-vector y was passed when a 1d array was expected. Please change the shape of y to (n_samples,), for example using ravel().\n",
      "  estimator.fit(X_train, y_train, **fit_params)\n"
     ]
    },
    {
     "name": "stdout",
     "output_type": "stream",
     "text": [
      "[CV] END ...max_depth=3, max_features=sqrt, n_estimators=200; total time=   1.4s\n"
     ]
    },
    {
     "name": "stderr",
     "output_type": "stream",
     "text": [
      "C:\\Users\\ashwi\\anaconda3\\lib\\site-packages\\sklearn\\model_selection\\_validation.py:593: DataConversionWarning: A column-vector y was passed when a 1d array was expected. Please change the shape of y to (n_samples,), for example using ravel().\n",
      "  estimator.fit(X_train, y_train, **fit_params)\n"
     ]
    },
    {
     "name": "stdout",
     "output_type": "stream",
     "text": [
      "[CV] END ...max_depth=3, max_features=sqrt, n_estimators=200; total time=   1.4s\n"
     ]
    },
    {
     "name": "stderr",
     "output_type": "stream",
     "text": [
      "C:\\Users\\ashwi\\anaconda3\\lib\\site-packages\\sklearn\\model_selection\\_validation.py:593: DataConversionWarning: A column-vector y was passed when a 1d array was expected. Please change the shape of y to (n_samples,), for example using ravel().\n",
      "  estimator.fit(X_train, y_train, **fit_params)\n"
     ]
    },
    {
     "name": "stdout",
     "output_type": "stream",
     "text": [
      "[CV] END ...max_depth=3, max_features=sqrt, n_estimators=200; total time=   1.4s\n"
     ]
    },
    {
     "name": "stderr",
     "output_type": "stream",
     "text": [
      "C:\\Users\\ashwi\\anaconda3\\lib\\site-packages\\sklearn\\model_selection\\_validation.py:593: DataConversionWarning: A column-vector y was passed when a 1d array was expected. Please change the shape of y to (n_samples,), for example using ravel().\n",
      "  estimator.fit(X_train, y_train, **fit_params)\n"
     ]
    },
    {
     "name": "stdout",
     "output_type": "stream",
     "text": [
      "[CV] END ...max_depth=3, max_features=sqrt, n_estimators=200; total time=   1.4s\n"
     ]
    },
    {
     "name": "stderr",
     "output_type": "stream",
     "text": [
      "C:\\Users\\ashwi\\anaconda3\\lib\\site-packages\\sklearn\\model_selection\\_validation.py:593: DataConversionWarning: A column-vector y was passed when a 1d array was expected. Please change the shape of y to (n_samples,), for example using ravel().\n",
      "  estimator.fit(X_train, y_train, **fit_params)\n"
     ]
    },
    {
     "name": "stdout",
     "output_type": "stream",
     "text": [
      "[CV] END ...max_depth=3, max_features=sqrt, n_estimators=200; total time=   1.4s\n"
     ]
    },
    {
     "name": "stderr",
     "output_type": "stream",
     "text": [
      "C:\\Users\\ashwi\\anaconda3\\lib\\site-packages\\sklearn\\model_selection\\_validation.py:593: DataConversionWarning: A column-vector y was passed when a 1d array was expected. Please change the shape of y to (n_samples,), for example using ravel().\n",
      "  estimator.fit(X_train, y_train, **fit_params)\n"
     ]
    },
    {
     "name": "stdout",
     "output_type": "stream",
     "text": [
      "[CV] END ...max_depth=3, max_features=sqrt, n_estimators=500; total time=   3.6s\n"
     ]
    },
    {
     "name": "stderr",
     "output_type": "stream",
     "text": [
      "C:\\Users\\ashwi\\anaconda3\\lib\\site-packages\\sklearn\\model_selection\\_validation.py:593: DataConversionWarning: A column-vector y was passed when a 1d array was expected. Please change the shape of y to (n_samples,), for example using ravel().\n",
      "  estimator.fit(X_train, y_train, **fit_params)\n"
     ]
    },
    {
     "name": "stdout",
     "output_type": "stream",
     "text": [
      "[CV] END ...max_depth=3, max_features=sqrt, n_estimators=500; total time=   3.6s\n"
     ]
    },
    {
     "name": "stderr",
     "output_type": "stream",
     "text": [
      "C:\\Users\\ashwi\\anaconda3\\lib\\site-packages\\sklearn\\model_selection\\_validation.py:593: DataConversionWarning: A column-vector y was passed when a 1d array was expected. Please change the shape of y to (n_samples,), for example using ravel().\n",
      "  estimator.fit(X_train, y_train, **fit_params)\n"
     ]
    },
    {
     "name": "stdout",
     "output_type": "stream",
     "text": [
      "[CV] END ...max_depth=3, max_features=sqrt, n_estimators=500; total time=   3.7s\n"
     ]
    },
    {
     "name": "stderr",
     "output_type": "stream",
     "text": [
      "C:\\Users\\ashwi\\anaconda3\\lib\\site-packages\\sklearn\\model_selection\\_validation.py:593: DataConversionWarning: A column-vector y was passed when a 1d array was expected. Please change the shape of y to (n_samples,), for example using ravel().\n",
      "  estimator.fit(X_train, y_train, **fit_params)\n"
     ]
    },
    {
     "name": "stdout",
     "output_type": "stream",
     "text": [
      "[CV] END ...max_depth=3, max_features=sqrt, n_estimators=500; total time=   3.7s\n"
     ]
    },
    {
     "name": "stderr",
     "output_type": "stream",
     "text": [
      "C:\\Users\\ashwi\\anaconda3\\lib\\site-packages\\sklearn\\model_selection\\_validation.py:593: DataConversionWarning: A column-vector y was passed when a 1d array was expected. Please change the shape of y to (n_samples,), for example using ravel().\n",
      "  estimator.fit(X_train, y_train, **fit_params)\n"
     ]
    },
    {
     "name": "stdout",
     "output_type": "stream",
     "text": [
      "[CV] END ...max_depth=3, max_features=sqrt, n_estimators=500; total time=   3.6s\n"
     ]
    },
    {
     "name": "stderr",
     "output_type": "stream",
     "text": [
      "C:\\Users\\ashwi\\anaconda3\\lib\\site-packages\\sklearn\\model_selection\\_validation.py:593: DataConversionWarning: A column-vector y was passed when a 1d array was expected. Please change the shape of y to (n_samples,), for example using ravel().\n",
      "  estimator.fit(X_train, y_train, **fit_params)\n"
     ]
    },
    {
     "name": "stdout",
     "output_type": "stream",
     "text": [
      "[CV] END ...max_depth=3, max_features=log2, n_estimators=200; total time=   1.4s\n"
     ]
    },
    {
     "name": "stderr",
     "output_type": "stream",
     "text": [
      "C:\\Users\\ashwi\\anaconda3\\lib\\site-packages\\sklearn\\model_selection\\_validation.py:593: DataConversionWarning: A column-vector y was passed when a 1d array was expected. Please change the shape of y to (n_samples,), for example using ravel().\n",
      "  estimator.fit(X_train, y_train, **fit_params)\n"
     ]
    },
    {
     "name": "stdout",
     "output_type": "stream",
     "text": [
      "[CV] END ...max_depth=3, max_features=log2, n_estimators=200; total time=   1.4s\n"
     ]
    },
    {
     "name": "stderr",
     "output_type": "stream",
     "text": [
      "C:\\Users\\ashwi\\anaconda3\\lib\\site-packages\\sklearn\\model_selection\\_validation.py:593: DataConversionWarning: A column-vector y was passed when a 1d array was expected. Please change the shape of y to (n_samples,), for example using ravel().\n",
      "  estimator.fit(X_train, y_train, **fit_params)\n"
     ]
    },
    {
     "name": "stdout",
     "output_type": "stream",
     "text": [
      "[CV] END ...max_depth=3, max_features=log2, n_estimators=200; total time=   1.4s\n"
     ]
    },
    {
     "name": "stderr",
     "output_type": "stream",
     "text": [
      "C:\\Users\\ashwi\\anaconda3\\lib\\site-packages\\sklearn\\model_selection\\_validation.py:593: DataConversionWarning: A column-vector y was passed when a 1d array was expected. Please change the shape of y to (n_samples,), for example using ravel().\n",
      "  estimator.fit(X_train, y_train, **fit_params)\n"
     ]
    },
    {
     "name": "stdout",
     "output_type": "stream",
     "text": [
      "[CV] END ...max_depth=3, max_features=log2, n_estimators=200; total time=   1.4s\n"
     ]
    },
    {
     "name": "stderr",
     "output_type": "stream",
     "text": [
      "C:\\Users\\ashwi\\anaconda3\\lib\\site-packages\\sklearn\\model_selection\\_validation.py:593: DataConversionWarning: A column-vector y was passed when a 1d array was expected. Please change the shape of y to (n_samples,), for example using ravel().\n",
      "  estimator.fit(X_train, y_train, **fit_params)\n"
     ]
    },
    {
     "name": "stdout",
     "output_type": "stream",
     "text": [
      "[CV] END ...max_depth=3, max_features=log2, n_estimators=200; total time=   1.4s\n"
     ]
    },
    {
     "name": "stderr",
     "output_type": "stream",
     "text": [
      "C:\\Users\\ashwi\\anaconda3\\lib\\site-packages\\sklearn\\model_selection\\_validation.py:593: DataConversionWarning: A column-vector y was passed when a 1d array was expected. Please change the shape of y to (n_samples,), for example using ravel().\n",
      "  estimator.fit(X_train, y_train, **fit_params)\n"
     ]
    },
    {
     "name": "stdout",
     "output_type": "stream",
     "text": [
      "[CV] END ...max_depth=3, max_features=log2, n_estimators=500; total time=   3.7s\n"
     ]
    },
    {
     "name": "stderr",
     "output_type": "stream",
     "text": [
      "C:\\Users\\ashwi\\anaconda3\\lib\\site-packages\\sklearn\\model_selection\\_validation.py:593: DataConversionWarning: A column-vector y was passed when a 1d array was expected. Please change the shape of y to (n_samples,), for example using ravel().\n",
      "  estimator.fit(X_train, y_train, **fit_params)\n"
     ]
    },
    {
     "name": "stdout",
     "output_type": "stream",
     "text": [
      "[CV] END ...max_depth=3, max_features=log2, n_estimators=500; total time=   4.2s\n"
     ]
    },
    {
     "name": "stderr",
     "output_type": "stream",
     "text": [
      "C:\\Users\\ashwi\\anaconda3\\lib\\site-packages\\sklearn\\model_selection\\_validation.py:593: DataConversionWarning: A column-vector y was passed when a 1d array was expected. Please change the shape of y to (n_samples,), for example using ravel().\n",
      "  estimator.fit(X_train, y_train, **fit_params)\n"
     ]
    },
    {
     "name": "stdout",
     "output_type": "stream",
     "text": [
      "[CV] END ...max_depth=3, max_features=log2, n_estimators=500; total time=   3.9s\n"
     ]
    },
    {
     "name": "stderr",
     "output_type": "stream",
     "text": [
      "C:\\Users\\ashwi\\anaconda3\\lib\\site-packages\\sklearn\\model_selection\\_validation.py:593: DataConversionWarning: A column-vector y was passed when a 1d array was expected. Please change the shape of y to (n_samples,), for example using ravel().\n",
      "  estimator.fit(X_train, y_train, **fit_params)\n"
     ]
    },
    {
     "name": "stdout",
     "output_type": "stream",
     "text": [
      "[CV] END ...max_depth=3, max_features=log2, n_estimators=500; total time=   3.8s\n"
     ]
    },
    {
     "name": "stderr",
     "output_type": "stream",
     "text": [
      "C:\\Users\\ashwi\\anaconda3\\lib\\site-packages\\sklearn\\model_selection\\_validation.py:593: DataConversionWarning: A column-vector y was passed when a 1d array was expected. Please change the shape of y to (n_samples,), for example using ravel().\n",
      "  estimator.fit(X_train, y_train, **fit_params)\n"
     ]
    },
    {
     "name": "stdout",
     "output_type": "stream",
     "text": [
      "[CV] END ...max_depth=3, max_features=log2, n_estimators=500; total time=   3.7s\n"
     ]
    },
    {
     "name": "stderr",
     "output_type": "stream",
     "text": [
      "C:\\Users\\ashwi\\anaconda3\\lib\\site-packages\\sklearn\\model_selection\\_validation.py:593: DataConversionWarning: A column-vector y was passed when a 1d array was expected. Please change the shape of y to (n_samples,), for example using ravel().\n",
      "  estimator.fit(X_train, y_train, **fit_params)\n"
     ]
    },
    {
     "name": "stdout",
     "output_type": "stream",
     "text": [
      "[CV] END ...max_depth=5, max_features=auto, n_estimators=200; total time=   1.9s\n"
     ]
    },
    {
     "name": "stderr",
     "output_type": "stream",
     "text": [
      "C:\\Users\\ashwi\\anaconda3\\lib\\site-packages\\sklearn\\model_selection\\_validation.py:593: DataConversionWarning: A column-vector y was passed when a 1d array was expected. Please change the shape of y to (n_samples,), for example using ravel().\n",
      "  estimator.fit(X_train, y_train, **fit_params)\n"
     ]
    },
    {
     "name": "stdout",
     "output_type": "stream",
     "text": [
      "[CV] END ...max_depth=5, max_features=auto, n_estimators=200; total time=   2.0s\n"
     ]
    },
    {
     "name": "stderr",
     "output_type": "stream",
     "text": [
      "C:\\Users\\ashwi\\anaconda3\\lib\\site-packages\\sklearn\\model_selection\\_validation.py:593: DataConversionWarning: A column-vector y was passed when a 1d array was expected. Please change the shape of y to (n_samples,), for example using ravel().\n",
      "  estimator.fit(X_train, y_train, **fit_params)\n"
     ]
    },
    {
     "name": "stdout",
     "output_type": "stream",
     "text": [
      "[CV] END ...max_depth=5, max_features=auto, n_estimators=200; total time=   2.0s\n"
     ]
    },
    {
     "name": "stderr",
     "output_type": "stream",
     "text": [
      "C:\\Users\\ashwi\\anaconda3\\lib\\site-packages\\sklearn\\model_selection\\_validation.py:593: DataConversionWarning: A column-vector y was passed when a 1d array was expected. Please change the shape of y to (n_samples,), for example using ravel().\n",
      "  estimator.fit(X_train, y_train, **fit_params)\n"
     ]
    },
    {
     "name": "stdout",
     "output_type": "stream",
     "text": [
      "[CV] END ...max_depth=5, max_features=auto, n_estimators=200; total time=   2.0s\n"
     ]
    },
    {
     "name": "stderr",
     "output_type": "stream",
     "text": [
      "C:\\Users\\ashwi\\anaconda3\\lib\\site-packages\\sklearn\\model_selection\\_validation.py:593: DataConversionWarning: A column-vector y was passed when a 1d array was expected. Please change the shape of y to (n_samples,), for example using ravel().\n",
      "  estimator.fit(X_train, y_train, **fit_params)\n"
     ]
    },
    {
     "name": "stdout",
     "output_type": "stream",
     "text": [
      "[CV] END ...max_depth=5, max_features=auto, n_estimators=200; total time=   2.0s\n"
     ]
    },
    {
     "name": "stderr",
     "output_type": "stream",
     "text": [
      "C:\\Users\\ashwi\\anaconda3\\lib\\site-packages\\sklearn\\model_selection\\_validation.py:593: DataConversionWarning: A column-vector y was passed when a 1d array was expected. Please change the shape of y to (n_samples,), for example using ravel().\n",
      "  estimator.fit(X_train, y_train, **fit_params)\n"
     ]
    },
    {
     "name": "stdout",
     "output_type": "stream",
     "text": [
      "[CV] END ...max_depth=5, max_features=auto, n_estimators=500; total time=   4.9s\n"
     ]
    },
    {
     "name": "stderr",
     "output_type": "stream",
     "text": [
      "C:\\Users\\ashwi\\anaconda3\\lib\\site-packages\\sklearn\\model_selection\\_validation.py:593: DataConversionWarning: A column-vector y was passed when a 1d array was expected. Please change the shape of y to (n_samples,), for example using ravel().\n",
      "  estimator.fit(X_train, y_train, **fit_params)\n"
     ]
    },
    {
     "name": "stdout",
     "output_type": "stream",
     "text": [
      "[CV] END ...max_depth=5, max_features=auto, n_estimators=500; total time=   4.9s\n"
     ]
    },
    {
     "name": "stderr",
     "output_type": "stream",
     "text": [
      "C:\\Users\\ashwi\\anaconda3\\lib\\site-packages\\sklearn\\model_selection\\_validation.py:593: DataConversionWarning: A column-vector y was passed when a 1d array was expected. Please change the shape of y to (n_samples,), for example using ravel().\n",
      "  estimator.fit(X_train, y_train, **fit_params)\n"
     ]
    },
    {
     "name": "stdout",
     "output_type": "stream",
     "text": [
      "[CV] END ...max_depth=5, max_features=auto, n_estimators=500; total time=   4.9s\n"
     ]
    },
    {
     "name": "stderr",
     "output_type": "stream",
     "text": [
      "C:\\Users\\ashwi\\anaconda3\\lib\\site-packages\\sklearn\\model_selection\\_validation.py:593: DataConversionWarning: A column-vector y was passed when a 1d array was expected. Please change the shape of y to (n_samples,), for example using ravel().\n",
      "  estimator.fit(X_train, y_train, **fit_params)\n"
     ]
    },
    {
     "name": "stdout",
     "output_type": "stream",
     "text": [
      "[CV] END ...max_depth=5, max_features=auto, n_estimators=500; total time=   4.9s\n"
     ]
    },
    {
     "name": "stderr",
     "output_type": "stream",
     "text": [
      "C:\\Users\\ashwi\\anaconda3\\lib\\site-packages\\sklearn\\model_selection\\_validation.py:593: DataConversionWarning: A column-vector y was passed when a 1d array was expected. Please change the shape of y to (n_samples,), for example using ravel().\n",
      "  estimator.fit(X_train, y_train, **fit_params)\n"
     ]
    },
    {
     "name": "stdout",
     "output_type": "stream",
     "text": [
      "[CV] END ...max_depth=5, max_features=auto, n_estimators=500; total time=   4.9s\n"
     ]
    },
    {
     "name": "stderr",
     "output_type": "stream",
     "text": [
      "C:\\Users\\ashwi\\anaconda3\\lib\\site-packages\\sklearn\\model_selection\\_validation.py:593: DataConversionWarning: A column-vector y was passed when a 1d array was expected. Please change the shape of y to (n_samples,), for example using ravel().\n",
      "  estimator.fit(X_train, y_train, **fit_params)\n"
     ]
    },
    {
     "name": "stdout",
     "output_type": "stream",
     "text": [
      "[CV] END ...max_depth=5, max_features=sqrt, n_estimators=200; total time=   2.0s\n"
     ]
    },
    {
     "name": "stderr",
     "output_type": "stream",
     "text": [
      "C:\\Users\\ashwi\\anaconda3\\lib\\site-packages\\sklearn\\model_selection\\_validation.py:593: DataConversionWarning: A column-vector y was passed when a 1d array was expected. Please change the shape of y to (n_samples,), for example using ravel().\n",
      "  estimator.fit(X_train, y_train, **fit_params)\n"
     ]
    },
    {
     "name": "stdout",
     "output_type": "stream",
     "text": [
      "[CV] END ...max_depth=5, max_features=sqrt, n_estimators=200; total time=   1.9s\n"
     ]
    },
    {
     "name": "stderr",
     "output_type": "stream",
     "text": [
      "C:\\Users\\ashwi\\anaconda3\\lib\\site-packages\\sklearn\\model_selection\\_validation.py:593: DataConversionWarning: A column-vector y was passed when a 1d array was expected. Please change the shape of y to (n_samples,), for example using ravel().\n",
      "  estimator.fit(X_train, y_train, **fit_params)\n"
     ]
    },
    {
     "name": "stdout",
     "output_type": "stream",
     "text": [
      "[CV] END ...max_depth=5, max_features=sqrt, n_estimators=200; total time=   1.9s\n"
     ]
    },
    {
     "name": "stderr",
     "output_type": "stream",
     "text": [
      "C:\\Users\\ashwi\\anaconda3\\lib\\site-packages\\sklearn\\model_selection\\_validation.py:593: DataConversionWarning: A column-vector y was passed when a 1d array was expected. Please change the shape of y to (n_samples,), for example using ravel().\n",
      "  estimator.fit(X_train, y_train, **fit_params)\n"
     ]
    },
    {
     "name": "stdout",
     "output_type": "stream",
     "text": [
      "[CV] END ...max_depth=5, max_features=sqrt, n_estimators=200; total time=   1.9s\n"
     ]
    },
    {
     "name": "stderr",
     "output_type": "stream",
     "text": [
      "C:\\Users\\ashwi\\anaconda3\\lib\\site-packages\\sklearn\\model_selection\\_validation.py:593: DataConversionWarning: A column-vector y was passed when a 1d array was expected. Please change the shape of y to (n_samples,), for example using ravel().\n",
      "  estimator.fit(X_train, y_train, **fit_params)\n"
     ]
    },
    {
     "name": "stdout",
     "output_type": "stream",
     "text": [
      "[CV] END ...max_depth=5, max_features=sqrt, n_estimators=200; total time=   1.9s\n"
     ]
    },
    {
     "name": "stderr",
     "output_type": "stream",
     "text": [
      "C:\\Users\\ashwi\\anaconda3\\lib\\site-packages\\sklearn\\model_selection\\_validation.py:593: DataConversionWarning: A column-vector y was passed when a 1d array was expected. Please change the shape of y to (n_samples,), for example using ravel().\n",
      "  estimator.fit(X_train, y_train, **fit_params)\n"
     ]
    },
    {
     "name": "stdout",
     "output_type": "stream",
     "text": [
      "[CV] END ...max_depth=5, max_features=sqrt, n_estimators=500; total time=   5.1s\n"
     ]
    },
    {
     "name": "stderr",
     "output_type": "stream",
     "text": [
      "C:\\Users\\ashwi\\anaconda3\\lib\\site-packages\\sklearn\\model_selection\\_validation.py:593: DataConversionWarning: A column-vector y was passed when a 1d array was expected. Please change the shape of y to (n_samples,), for example using ravel().\n",
      "  estimator.fit(X_train, y_train, **fit_params)\n"
     ]
    },
    {
     "name": "stdout",
     "output_type": "stream",
     "text": [
      "[CV] END ...max_depth=5, max_features=sqrt, n_estimators=500; total time=   5.2s\n"
     ]
    },
    {
     "name": "stderr",
     "output_type": "stream",
     "text": [
      "C:\\Users\\ashwi\\anaconda3\\lib\\site-packages\\sklearn\\model_selection\\_validation.py:593: DataConversionWarning: A column-vector y was passed when a 1d array was expected. Please change the shape of y to (n_samples,), for example using ravel().\n",
      "  estimator.fit(X_train, y_train, **fit_params)\n"
     ]
    },
    {
     "name": "stdout",
     "output_type": "stream",
     "text": [
      "[CV] END ...max_depth=5, max_features=sqrt, n_estimators=500; total time=   4.9s\n"
     ]
    },
    {
     "name": "stderr",
     "output_type": "stream",
     "text": [
      "C:\\Users\\ashwi\\anaconda3\\lib\\site-packages\\sklearn\\model_selection\\_validation.py:593: DataConversionWarning: A column-vector y was passed when a 1d array was expected. Please change the shape of y to (n_samples,), for example using ravel().\n",
      "  estimator.fit(X_train, y_train, **fit_params)\n"
     ]
    },
    {
     "name": "stdout",
     "output_type": "stream",
     "text": [
      "[CV] END ...max_depth=5, max_features=sqrt, n_estimators=500; total time=   4.9s\n"
     ]
    },
    {
     "name": "stderr",
     "output_type": "stream",
     "text": [
      "C:\\Users\\ashwi\\anaconda3\\lib\\site-packages\\sklearn\\model_selection\\_validation.py:593: DataConversionWarning: A column-vector y was passed when a 1d array was expected. Please change the shape of y to (n_samples,), for example using ravel().\n",
      "  estimator.fit(X_train, y_train, **fit_params)\n"
     ]
    },
    {
     "name": "stdout",
     "output_type": "stream",
     "text": [
      "[CV] END ...max_depth=5, max_features=sqrt, n_estimators=500; total time=   5.0s\n"
     ]
    },
    {
     "name": "stderr",
     "output_type": "stream",
     "text": [
      "C:\\Users\\ashwi\\anaconda3\\lib\\site-packages\\sklearn\\model_selection\\_validation.py:593: DataConversionWarning: A column-vector y was passed when a 1d array was expected. Please change the shape of y to (n_samples,), for example using ravel().\n",
      "  estimator.fit(X_train, y_train, **fit_params)\n"
     ]
    },
    {
     "name": "stdout",
     "output_type": "stream",
     "text": [
      "[CV] END ...max_depth=5, max_features=log2, n_estimators=200; total time=   2.0s\n"
     ]
    },
    {
     "name": "stderr",
     "output_type": "stream",
     "text": [
      "C:\\Users\\ashwi\\anaconda3\\lib\\site-packages\\sklearn\\model_selection\\_validation.py:593: DataConversionWarning: A column-vector y was passed when a 1d array was expected. Please change the shape of y to (n_samples,), for example using ravel().\n",
      "  estimator.fit(X_train, y_train, **fit_params)\n"
     ]
    },
    {
     "name": "stdout",
     "output_type": "stream",
     "text": [
      "[CV] END ...max_depth=5, max_features=log2, n_estimators=200; total time=   2.1s\n"
     ]
    },
    {
     "name": "stderr",
     "output_type": "stream",
     "text": [
      "C:\\Users\\ashwi\\anaconda3\\lib\\site-packages\\sklearn\\model_selection\\_validation.py:593: DataConversionWarning: A column-vector y was passed when a 1d array was expected. Please change the shape of y to (n_samples,), for example using ravel().\n",
      "  estimator.fit(X_train, y_train, **fit_params)\n"
     ]
    },
    {
     "name": "stdout",
     "output_type": "stream",
     "text": [
      "[CV] END ...max_depth=5, max_features=log2, n_estimators=200; total time=   1.9s\n"
     ]
    },
    {
     "name": "stderr",
     "output_type": "stream",
     "text": [
      "C:\\Users\\ashwi\\anaconda3\\lib\\site-packages\\sklearn\\model_selection\\_validation.py:593: DataConversionWarning: A column-vector y was passed when a 1d array was expected. Please change the shape of y to (n_samples,), for example using ravel().\n",
      "  estimator.fit(X_train, y_train, **fit_params)\n"
     ]
    },
    {
     "name": "stdout",
     "output_type": "stream",
     "text": [
      "[CV] END ...max_depth=5, max_features=log2, n_estimators=200; total time=   2.0s\n"
     ]
    },
    {
     "name": "stderr",
     "output_type": "stream",
     "text": [
      "C:\\Users\\ashwi\\anaconda3\\lib\\site-packages\\sklearn\\model_selection\\_validation.py:593: DataConversionWarning: A column-vector y was passed when a 1d array was expected. Please change the shape of y to (n_samples,), for example using ravel().\n",
      "  estimator.fit(X_train, y_train, **fit_params)\n"
     ]
    },
    {
     "name": "stdout",
     "output_type": "stream",
     "text": [
      "[CV] END ...max_depth=5, max_features=log2, n_estimators=200; total time=   2.0s\n"
     ]
    },
    {
     "name": "stderr",
     "output_type": "stream",
     "text": [
      "C:\\Users\\ashwi\\anaconda3\\lib\\site-packages\\sklearn\\model_selection\\_validation.py:593: DataConversionWarning: A column-vector y was passed when a 1d array was expected. Please change the shape of y to (n_samples,), for example using ravel().\n",
      "  estimator.fit(X_train, y_train, **fit_params)\n"
     ]
    },
    {
     "name": "stdout",
     "output_type": "stream",
     "text": [
      "[CV] END ...max_depth=5, max_features=log2, n_estimators=500; total time=   5.1s\n"
     ]
    },
    {
     "name": "stderr",
     "output_type": "stream",
     "text": [
      "C:\\Users\\ashwi\\anaconda3\\lib\\site-packages\\sklearn\\model_selection\\_validation.py:593: DataConversionWarning: A column-vector y was passed when a 1d array was expected. Please change the shape of y to (n_samples,), for example using ravel().\n",
      "  estimator.fit(X_train, y_train, **fit_params)\n"
     ]
    },
    {
     "name": "stdout",
     "output_type": "stream",
     "text": [
      "[CV] END ...max_depth=5, max_features=log2, n_estimators=500; total time=   5.0s\n"
     ]
    },
    {
     "name": "stderr",
     "output_type": "stream",
     "text": [
      "C:\\Users\\ashwi\\anaconda3\\lib\\site-packages\\sklearn\\model_selection\\_validation.py:593: DataConversionWarning: A column-vector y was passed when a 1d array was expected. Please change the shape of y to (n_samples,), for example using ravel().\n",
      "  estimator.fit(X_train, y_train, **fit_params)\n"
     ]
    },
    {
     "name": "stdout",
     "output_type": "stream",
     "text": [
      "[CV] END ...max_depth=5, max_features=log2, n_estimators=500; total time=   4.8s\n"
     ]
    },
    {
     "name": "stderr",
     "output_type": "stream",
     "text": [
      "C:\\Users\\ashwi\\anaconda3\\lib\\site-packages\\sklearn\\model_selection\\_validation.py:593: DataConversionWarning: A column-vector y was passed when a 1d array was expected. Please change the shape of y to (n_samples,), for example using ravel().\n",
      "  estimator.fit(X_train, y_train, **fit_params)\n"
     ]
    },
    {
     "name": "stdout",
     "output_type": "stream",
     "text": [
      "[CV] END ...max_depth=5, max_features=log2, n_estimators=500; total time=   4.8s\n"
     ]
    },
    {
     "name": "stderr",
     "output_type": "stream",
     "text": [
      "C:\\Users\\ashwi\\anaconda3\\lib\\site-packages\\sklearn\\model_selection\\_validation.py:593: DataConversionWarning: A column-vector y was passed when a 1d array was expected. Please change the shape of y to (n_samples,), for example using ravel().\n",
      "  estimator.fit(X_train, y_train, **fit_params)\n"
     ]
    },
    {
     "name": "stdout",
     "output_type": "stream",
     "text": [
      "[CV] END ...max_depth=5, max_features=log2, n_estimators=500; total time=   4.7s\n"
     ]
    },
    {
     "name": "stderr",
     "output_type": "stream",
     "text": [
      "C:\\Users\\ashwi\\anaconda3\\lib\\site-packages\\sklearn\\model_selection\\_validation.py:593: DataConversionWarning: A column-vector y was passed when a 1d array was expected. Please change the shape of y to (n_samples,), for example using ravel().\n",
      "  estimator.fit(X_train, y_train, **fit_params)\n"
     ]
    },
    {
     "name": "stdout",
     "output_type": "stream",
     "text": [
      "[CV] END ...max_depth=7, max_features=auto, n_estimators=200; total time=   2.4s\n"
     ]
    },
    {
     "name": "stderr",
     "output_type": "stream",
     "text": [
      "C:\\Users\\ashwi\\anaconda3\\lib\\site-packages\\sklearn\\model_selection\\_validation.py:593: DataConversionWarning: A column-vector y was passed when a 1d array was expected. Please change the shape of y to (n_samples,), for example using ravel().\n",
      "  estimator.fit(X_train, y_train, **fit_params)\n"
     ]
    },
    {
     "name": "stdout",
     "output_type": "stream",
     "text": [
      "[CV] END ...max_depth=7, max_features=auto, n_estimators=200; total time=   2.7s\n"
     ]
    },
    {
     "name": "stderr",
     "output_type": "stream",
     "text": [
      "C:\\Users\\ashwi\\anaconda3\\lib\\site-packages\\sklearn\\model_selection\\_validation.py:593: DataConversionWarning: A column-vector y was passed when a 1d array was expected. Please change the shape of y to (n_samples,), for example using ravel().\n",
      "  estimator.fit(X_train, y_train, **fit_params)\n"
     ]
    },
    {
     "name": "stdout",
     "output_type": "stream",
     "text": [
      "[CV] END ...max_depth=7, max_features=auto, n_estimators=200; total time=   2.5s\n"
     ]
    },
    {
     "name": "stderr",
     "output_type": "stream",
     "text": [
      "C:\\Users\\ashwi\\anaconda3\\lib\\site-packages\\sklearn\\model_selection\\_validation.py:593: DataConversionWarning: A column-vector y was passed when a 1d array was expected. Please change the shape of y to (n_samples,), for example using ravel().\n",
      "  estimator.fit(X_train, y_train, **fit_params)\n"
     ]
    },
    {
     "name": "stdout",
     "output_type": "stream",
     "text": [
      "[CV] END ...max_depth=7, max_features=auto, n_estimators=200; total time=   2.7s\n"
     ]
    },
    {
     "name": "stderr",
     "output_type": "stream",
     "text": [
      "C:\\Users\\ashwi\\anaconda3\\lib\\site-packages\\sklearn\\model_selection\\_validation.py:593: DataConversionWarning: A column-vector y was passed when a 1d array was expected. Please change the shape of y to (n_samples,), for example using ravel().\n",
      "  estimator.fit(X_train, y_train, **fit_params)\n"
     ]
    },
    {
     "name": "stdout",
     "output_type": "stream",
     "text": [
      "[CV] END ...max_depth=7, max_features=auto, n_estimators=200; total time=   2.4s\n"
     ]
    },
    {
     "name": "stderr",
     "output_type": "stream",
     "text": [
      "C:\\Users\\ashwi\\anaconda3\\lib\\site-packages\\sklearn\\model_selection\\_validation.py:593: DataConversionWarning: A column-vector y was passed when a 1d array was expected. Please change the shape of y to (n_samples,), for example using ravel().\n",
      "  estimator.fit(X_train, y_train, **fit_params)\n"
     ]
    },
    {
     "name": "stdout",
     "output_type": "stream",
     "text": [
      "[CV] END ...max_depth=7, max_features=auto, n_estimators=500; total time=   7.2s\n"
     ]
    },
    {
     "name": "stderr",
     "output_type": "stream",
     "text": [
      "C:\\Users\\ashwi\\anaconda3\\lib\\site-packages\\sklearn\\model_selection\\_validation.py:593: DataConversionWarning: A column-vector y was passed when a 1d array was expected. Please change the shape of y to (n_samples,), for example using ravel().\n",
      "  estimator.fit(X_train, y_train, **fit_params)\n"
     ]
    },
    {
     "name": "stdout",
     "output_type": "stream",
     "text": [
      "[CV] END ...max_depth=7, max_features=auto, n_estimators=500; total time=   6.9s\n"
     ]
    },
    {
     "name": "stderr",
     "output_type": "stream",
     "text": [
      "C:\\Users\\ashwi\\anaconda3\\lib\\site-packages\\sklearn\\model_selection\\_validation.py:593: DataConversionWarning: A column-vector y was passed when a 1d array was expected. Please change the shape of y to (n_samples,), for example using ravel().\n",
      "  estimator.fit(X_train, y_train, **fit_params)\n"
     ]
    },
    {
     "name": "stdout",
     "output_type": "stream",
     "text": [
      "[CV] END ...max_depth=7, max_features=auto, n_estimators=500; total time=   7.2s\n"
     ]
    },
    {
     "name": "stderr",
     "output_type": "stream",
     "text": [
      "C:\\Users\\ashwi\\anaconda3\\lib\\site-packages\\sklearn\\model_selection\\_validation.py:593: DataConversionWarning: A column-vector y was passed when a 1d array was expected. Please change the shape of y to (n_samples,), for example using ravel().\n",
      "  estimator.fit(X_train, y_train, **fit_params)\n"
     ]
    },
    {
     "name": "stdout",
     "output_type": "stream",
     "text": [
      "[CV] END ...max_depth=7, max_features=auto, n_estimators=500; total time=   7.7s\n"
     ]
    },
    {
     "name": "stderr",
     "output_type": "stream",
     "text": [
      "C:\\Users\\ashwi\\anaconda3\\lib\\site-packages\\sklearn\\model_selection\\_validation.py:593: DataConversionWarning: A column-vector y was passed when a 1d array was expected. Please change the shape of y to (n_samples,), for example using ravel().\n",
      "  estimator.fit(X_train, y_train, **fit_params)\n"
     ]
    },
    {
     "name": "stdout",
     "output_type": "stream",
     "text": [
      "[CV] END ...max_depth=7, max_features=auto, n_estimators=500; total time=   7.3s\n"
     ]
    },
    {
     "name": "stderr",
     "output_type": "stream",
     "text": [
      "C:\\Users\\ashwi\\anaconda3\\lib\\site-packages\\sklearn\\model_selection\\_validation.py:593: DataConversionWarning: A column-vector y was passed when a 1d array was expected. Please change the shape of y to (n_samples,), for example using ravel().\n",
      "  estimator.fit(X_train, y_train, **fit_params)\n"
     ]
    },
    {
     "name": "stdout",
     "output_type": "stream",
     "text": [
      "[CV] END ...max_depth=7, max_features=sqrt, n_estimators=200; total time=   2.9s\n"
     ]
    },
    {
     "name": "stderr",
     "output_type": "stream",
     "text": [
      "C:\\Users\\ashwi\\anaconda3\\lib\\site-packages\\sklearn\\model_selection\\_validation.py:593: DataConversionWarning: A column-vector y was passed when a 1d array was expected. Please change the shape of y to (n_samples,), for example using ravel().\n",
      "  estimator.fit(X_train, y_train, **fit_params)\n"
     ]
    },
    {
     "name": "stdout",
     "output_type": "stream",
     "text": [
      "[CV] END ...max_depth=7, max_features=sqrt, n_estimators=200; total time=   3.4s\n"
     ]
    },
    {
     "name": "stderr",
     "output_type": "stream",
     "text": [
      "C:\\Users\\ashwi\\anaconda3\\lib\\site-packages\\sklearn\\model_selection\\_validation.py:593: DataConversionWarning: A column-vector y was passed when a 1d array was expected. Please change the shape of y to (n_samples,), for example using ravel().\n",
      "  estimator.fit(X_train, y_train, **fit_params)\n"
     ]
    },
    {
     "name": "stdout",
     "output_type": "stream",
     "text": [
      "[CV] END ...max_depth=7, max_features=sqrt, n_estimators=200; total time=   3.0s\n"
     ]
    },
    {
     "name": "stderr",
     "output_type": "stream",
     "text": [
      "C:\\Users\\ashwi\\anaconda3\\lib\\site-packages\\sklearn\\model_selection\\_validation.py:593: DataConversionWarning: A column-vector y was passed when a 1d array was expected. Please change the shape of y to (n_samples,), for example using ravel().\n",
      "  estimator.fit(X_train, y_train, **fit_params)\n"
     ]
    },
    {
     "name": "stdout",
     "output_type": "stream",
     "text": [
      "[CV] END ...max_depth=7, max_features=sqrt, n_estimators=200; total time=   3.1s\n"
     ]
    },
    {
     "name": "stderr",
     "output_type": "stream",
     "text": [
      "C:\\Users\\ashwi\\anaconda3\\lib\\site-packages\\sklearn\\model_selection\\_validation.py:593: DataConversionWarning: A column-vector y was passed when a 1d array was expected. Please change the shape of y to (n_samples,), for example using ravel().\n",
      "  estimator.fit(X_train, y_train, **fit_params)\n"
     ]
    },
    {
     "name": "stdout",
     "output_type": "stream",
     "text": [
      "[CV] END ...max_depth=7, max_features=sqrt, n_estimators=200; total time=   3.0s\n"
     ]
    },
    {
     "name": "stderr",
     "output_type": "stream",
     "text": [
      "C:\\Users\\ashwi\\anaconda3\\lib\\site-packages\\sklearn\\model_selection\\_validation.py:593: DataConversionWarning: A column-vector y was passed when a 1d array was expected. Please change the shape of y to (n_samples,), for example using ravel().\n",
      "  estimator.fit(X_train, y_train, **fit_params)\n"
     ]
    },
    {
     "name": "stdout",
     "output_type": "stream",
     "text": [
      "[CV] END ...max_depth=7, max_features=sqrt, n_estimators=500; total time=   7.3s\n"
     ]
    },
    {
     "name": "stderr",
     "output_type": "stream",
     "text": [
      "C:\\Users\\ashwi\\anaconda3\\lib\\site-packages\\sklearn\\model_selection\\_validation.py:593: DataConversionWarning: A column-vector y was passed when a 1d array was expected. Please change the shape of y to (n_samples,), for example using ravel().\n",
      "  estimator.fit(X_train, y_train, **fit_params)\n"
     ]
    },
    {
     "name": "stdout",
     "output_type": "stream",
     "text": [
      "[CV] END ...max_depth=7, max_features=sqrt, n_estimators=500; total time=   6.8s\n"
     ]
    },
    {
     "name": "stderr",
     "output_type": "stream",
     "text": [
      "C:\\Users\\ashwi\\anaconda3\\lib\\site-packages\\sklearn\\model_selection\\_validation.py:593: DataConversionWarning: A column-vector y was passed when a 1d array was expected. Please change the shape of y to (n_samples,), for example using ravel().\n",
      "  estimator.fit(X_train, y_train, **fit_params)\n"
     ]
    },
    {
     "name": "stdout",
     "output_type": "stream",
     "text": [
      "[CV] END ...max_depth=7, max_features=sqrt, n_estimators=500; total time=   7.3s\n"
     ]
    },
    {
     "name": "stderr",
     "output_type": "stream",
     "text": [
      "C:\\Users\\ashwi\\anaconda3\\lib\\site-packages\\sklearn\\model_selection\\_validation.py:593: DataConversionWarning: A column-vector y was passed when a 1d array was expected. Please change the shape of y to (n_samples,), for example using ravel().\n",
      "  estimator.fit(X_train, y_train, **fit_params)\n"
     ]
    },
    {
     "name": "stdout",
     "output_type": "stream",
     "text": [
      "[CV] END ...max_depth=7, max_features=sqrt, n_estimators=500; total time=   6.5s\n"
     ]
    },
    {
     "name": "stderr",
     "output_type": "stream",
     "text": [
      "C:\\Users\\ashwi\\anaconda3\\lib\\site-packages\\sklearn\\model_selection\\_validation.py:593: DataConversionWarning: A column-vector y was passed when a 1d array was expected. Please change the shape of y to (n_samples,), for example using ravel().\n",
      "  estimator.fit(X_train, y_train, **fit_params)\n"
     ]
    },
    {
     "name": "stdout",
     "output_type": "stream",
     "text": [
      "[CV] END ...max_depth=7, max_features=sqrt, n_estimators=500; total time=   6.9s\n"
     ]
    },
    {
     "name": "stderr",
     "output_type": "stream",
     "text": [
      "C:\\Users\\ashwi\\anaconda3\\lib\\site-packages\\sklearn\\model_selection\\_validation.py:593: DataConversionWarning: A column-vector y was passed when a 1d array was expected. Please change the shape of y to (n_samples,), for example using ravel().\n",
      "  estimator.fit(X_train, y_train, **fit_params)\n"
     ]
    },
    {
     "name": "stdout",
     "output_type": "stream",
     "text": [
      "[CV] END ...max_depth=7, max_features=log2, n_estimators=200; total time=   2.7s\n"
     ]
    },
    {
     "name": "stderr",
     "output_type": "stream",
     "text": [
      "C:\\Users\\ashwi\\anaconda3\\lib\\site-packages\\sklearn\\model_selection\\_validation.py:593: DataConversionWarning: A column-vector y was passed when a 1d array was expected. Please change the shape of y to (n_samples,), for example using ravel().\n",
      "  estimator.fit(X_train, y_train, **fit_params)\n"
     ]
    },
    {
     "name": "stdout",
     "output_type": "stream",
     "text": [
      "[CV] END ...max_depth=7, max_features=log2, n_estimators=200; total time=   2.8s\n"
     ]
    },
    {
     "name": "stderr",
     "output_type": "stream",
     "text": [
      "C:\\Users\\ashwi\\anaconda3\\lib\\site-packages\\sklearn\\model_selection\\_validation.py:593: DataConversionWarning: A column-vector y was passed when a 1d array was expected. Please change the shape of y to (n_samples,), for example using ravel().\n",
      "  estimator.fit(X_train, y_train, **fit_params)\n"
     ]
    },
    {
     "name": "stdout",
     "output_type": "stream",
     "text": [
      "[CV] END ...max_depth=7, max_features=log2, n_estimators=200; total time=   2.9s\n"
     ]
    },
    {
     "name": "stderr",
     "output_type": "stream",
     "text": [
      "C:\\Users\\ashwi\\anaconda3\\lib\\site-packages\\sklearn\\model_selection\\_validation.py:593: DataConversionWarning: A column-vector y was passed when a 1d array was expected. Please change the shape of y to (n_samples,), for example using ravel().\n",
      "  estimator.fit(X_train, y_train, **fit_params)\n"
     ]
    },
    {
     "name": "stdout",
     "output_type": "stream",
     "text": [
      "[CV] END ...max_depth=7, max_features=log2, n_estimators=200; total time=   2.8s\n"
     ]
    },
    {
     "name": "stderr",
     "output_type": "stream",
     "text": [
      "C:\\Users\\ashwi\\anaconda3\\lib\\site-packages\\sklearn\\model_selection\\_validation.py:593: DataConversionWarning: A column-vector y was passed when a 1d array was expected. Please change the shape of y to (n_samples,), for example using ravel().\n",
      "  estimator.fit(X_train, y_train, **fit_params)\n"
     ]
    },
    {
     "name": "stdout",
     "output_type": "stream",
     "text": [
      "[CV] END ...max_depth=7, max_features=log2, n_estimators=200; total time=   2.6s\n"
     ]
    },
    {
     "name": "stderr",
     "output_type": "stream",
     "text": [
      "C:\\Users\\ashwi\\anaconda3\\lib\\site-packages\\sklearn\\model_selection\\_validation.py:593: DataConversionWarning: A column-vector y was passed when a 1d array was expected. Please change the shape of y to (n_samples,), for example using ravel().\n",
      "  estimator.fit(X_train, y_train, **fit_params)\n"
     ]
    },
    {
     "name": "stdout",
     "output_type": "stream",
     "text": [
      "[CV] END ...max_depth=7, max_features=log2, n_estimators=500; total time=   6.3s\n"
     ]
    },
    {
     "name": "stderr",
     "output_type": "stream",
     "text": [
      "C:\\Users\\ashwi\\anaconda3\\lib\\site-packages\\sklearn\\model_selection\\_validation.py:593: DataConversionWarning: A column-vector y was passed when a 1d array was expected. Please change the shape of y to (n_samples,), for example using ravel().\n",
      "  estimator.fit(X_train, y_train, **fit_params)\n"
     ]
    },
    {
     "name": "stdout",
     "output_type": "stream",
     "text": [
      "[CV] END ...max_depth=7, max_features=log2, n_estimators=500; total time=   6.4s\n"
     ]
    },
    {
     "name": "stderr",
     "output_type": "stream",
     "text": [
      "C:\\Users\\ashwi\\anaconda3\\lib\\site-packages\\sklearn\\model_selection\\_validation.py:593: DataConversionWarning: A column-vector y was passed when a 1d array was expected. Please change the shape of y to (n_samples,), for example using ravel().\n",
      "  estimator.fit(X_train, y_train, **fit_params)\n"
     ]
    },
    {
     "name": "stdout",
     "output_type": "stream",
     "text": [
      "[CV] END ...max_depth=7, max_features=log2, n_estimators=500; total time=   6.8s\n"
     ]
    },
    {
     "name": "stderr",
     "output_type": "stream",
     "text": [
      "C:\\Users\\ashwi\\anaconda3\\lib\\site-packages\\sklearn\\model_selection\\_validation.py:593: DataConversionWarning: A column-vector y was passed when a 1d array was expected. Please change the shape of y to (n_samples,), for example using ravel().\n",
      "  estimator.fit(X_train, y_train, **fit_params)\n"
     ]
    },
    {
     "name": "stdout",
     "output_type": "stream",
     "text": [
      "[CV] END ...max_depth=7, max_features=log2, n_estimators=500; total time=   6.8s\n"
     ]
    },
    {
     "name": "stderr",
     "output_type": "stream",
     "text": [
      "C:\\Users\\ashwi\\anaconda3\\lib\\site-packages\\sklearn\\model_selection\\_validation.py:593: DataConversionWarning: A column-vector y was passed when a 1d array was expected. Please change the shape of y to (n_samples,), for example using ravel().\n",
      "  estimator.fit(X_train, y_train, **fit_params)\n"
     ]
    },
    {
     "name": "stdout",
     "output_type": "stream",
     "text": [
      "[CV] END ...max_depth=7, max_features=log2, n_estimators=500; total time=   7.0s\n"
     ]
    },
    {
     "name": "stderr",
     "output_type": "stream",
     "text": [
      "C:\\Users\\ashwi\\anaconda3\\lib\\site-packages\\sklearn\\model_selection\\_search.py:880: DataConversionWarning: A column-vector y was passed when a 1d array was expected. Please change the shape of y to (n_samples,), for example using ravel().\n",
      "  self.best_estimator_.fit(X, y, **fit_params)\n"
     ]
    },
    {
     "name": "stdout",
     "output_type": "stream",
     "text": [
      "{'max_depth': 3, 'max_features': 'auto', 'n_estimators': 200}\n",
      "RandomForestClassifier(max_depth=3, n_estimators=200)\n"
     ]
    }
   ],
   "source": [
    "param_grid = { \n",
    "    'n_estimators': [200, 500],\n",
    "    'max_depth' : [3,5,7],\n",
    "    'max_features': ['auto', 'sqrt', 'log2']\n",
    "}\n",
    "\n",
    "rf_clf = GridSearchCV(estimator=RandomForestClassifier(), param_grid=param_grid, cv= 5, verbose = 2)\n",
    "rf_clf.fit(X_train, y_train)\n",
    "\n",
    "# print best parameter after tuning\n",
    "print(rf_clf.best_params_)\n",
    " \n",
    "# print how our model looks after hyper-parameter tuning\n",
    "print(rf_clf.best_estimator_)"
   ]
  },
  {
   "cell_type": "code",
   "execution_count": 47,
   "metadata": {},
   "outputs": [
    {
     "name": "stdout",
     "output_type": "stream",
     "text": [
      "RandomForestClassifier(max_depth=3, n_estimators=200)\n"
     ]
    }
   ],
   "source": [
    "print(rf_clf.best_estimator_)"
   ]
  },
  {
   "cell_type": "code",
   "execution_count": 42,
   "metadata": {},
   "outputs": [
    {
     "data": {
      "text/plain": [
       "0.8484"
      ]
     },
     "execution_count": 42,
     "metadata": {},
     "output_type": "execute_result"
    }
   ],
   "source": [
    "rf_clf.best_score_"
   ]
  },
  {
   "cell_type": "code",
   "execution_count": 39,
   "metadata": {},
   "outputs": [
    {
     "data": {
      "text/plain": [
       "array([0.00872709, 0.02356156, 0.0045052 , 0.04048927, 0.35868523,\n",
       "       0.00910929, 0.0026896 , 0.12739948, 0.05120498, 0.02097004,\n",
       "       0.35265826])"
      ]
     },
     "execution_count": 39,
     "metadata": {},
     "output_type": "execute_result"
    }
   ],
   "source": [
    "rf_clf.best_estimator_.feature_importances_"
   ]
  },
  {
   "cell_type": "code",
   "execution_count": 41,
   "metadata": {},
   "outputs": [
    {
     "name": "stdout",
     "output_type": "stream",
     "text": [
      "Collecting xgboost\n",
      "  Downloading xgboost-1.7.3-py3-none-win_amd64.whl (89.1 MB)\n",
      "Requirement already satisfied: scipy in c:\\users\\ashwi\\anaconda3\\lib\\site-packages (from xgboost) (1.6.2)\n",
      "Requirement already satisfied: numpy in c:\\users\\ashwi\\anaconda3\\lib\\site-packages (from xgboost) (1.20.1)\n",
      "Installing collected packages: xgboost\n",
      "Successfully installed xgboost-1.7.3\n",
      "Accuracy of Extreme Gradient Boosting classifier on test set: 0.84\n"
     ]
    }
   ],
   "source": [
    "!pip install xgboost\n",
    "from xgboost import XGBClassifier\n",
    "xgb_clf = XGBClassifier(learning_rate=0.5, n_estimators=150, base_score=0.5)\n",
    "xgb_clf.fit(X_train, y_train)\n",
    "y_predXG = xgb_clf.predict(X_test)\n",
    "print('Accuracy of Extreme Gradient Boosting classifier on test set: {:.2f}'.format(xgb_clf.score(X_test, y_test)))"
   ]
  },
  {
   "cell_type": "code",
   "execution_count": 43,
   "metadata": {},
   "outputs": [
    {
     "name": "stdout",
     "output_type": "stream",
     "text": [
      "Fitting 5 folds for each of 60 candidates, totalling 300 fits\n",
      "[CV] END .base_score=0.4, learning_rate=0.3, n_estimators=50; total time=   0.3s\n",
      "[CV] END .base_score=0.4, learning_rate=0.3, n_estimators=50; total time=   0.3s\n",
      "[CV] END .base_score=0.4, learning_rate=0.3, n_estimators=50; total time=   0.3s\n",
      "[CV] END .base_score=0.4, learning_rate=0.3, n_estimators=50; total time=   0.3s\n",
      "[CV] END .base_score=0.4, learning_rate=0.3, n_estimators=50; total time=   0.3s\n",
      "[CV] END base_score=0.4, learning_rate=0.3, n_estimators=100; total time=   0.6s\n",
      "[CV] END base_score=0.4, learning_rate=0.3, n_estimators=100; total time=   0.7s\n",
      "[CV] END base_score=0.4, learning_rate=0.3, n_estimators=100; total time=   0.6s\n",
      "[CV] END base_score=0.4, learning_rate=0.3, n_estimators=100; total time=   0.7s\n",
      "[CV] END base_score=0.4, learning_rate=0.3, n_estimators=100; total time=   0.7s\n",
      "[CV] END base_score=0.4, learning_rate=0.3, n_estimators=150; total time=   1.0s\n",
      "[CV] END base_score=0.4, learning_rate=0.3, n_estimators=150; total time=   1.2s\n",
      "[CV] END base_score=0.4, learning_rate=0.3, n_estimators=150; total time=   1.2s\n",
      "[CV] END base_score=0.4, learning_rate=0.3, n_estimators=150; total time=   1.2s\n",
      "[CV] END base_score=0.4, learning_rate=0.3, n_estimators=150; total time=   1.4s\n",
      "[CV] END base_score=0.4, learning_rate=0.3, n_estimators=200; total time=   1.7s\n",
      "[CV] END base_score=0.4, learning_rate=0.3, n_estimators=200; total time=   1.8s\n",
      "[CV] END base_score=0.4, learning_rate=0.3, n_estimators=200; total time=   1.9s\n",
      "[CV] END base_score=0.4, learning_rate=0.3, n_estimators=200; total time=   2.1s\n",
      "[CV] END base_score=0.4, learning_rate=0.3, n_estimators=200; total time=   2.3s\n",
      "[CV] END .base_score=0.4, learning_rate=0.4, n_estimators=50; total time=   0.6s\n",
      "[CV] END .base_score=0.4, learning_rate=0.4, n_estimators=50; total time=   0.5s\n",
      "[CV] END .base_score=0.4, learning_rate=0.4, n_estimators=50; total time=   0.5s\n",
      "[CV] END .base_score=0.4, learning_rate=0.4, n_estimators=50; total time=   0.5s\n",
      "[CV] END .base_score=0.4, learning_rate=0.4, n_estimators=50; total time=   0.5s\n",
      "[CV] END base_score=0.4, learning_rate=0.4, n_estimators=100; total time=   1.0s\n",
      "[CV] END base_score=0.4, learning_rate=0.4, n_estimators=100; total time=   1.0s\n",
      "[CV] END base_score=0.4, learning_rate=0.4, n_estimators=100; total time=   1.0s\n",
      "[CV] END base_score=0.4, learning_rate=0.4, n_estimators=100; total time=   1.0s\n",
      "[CV] END base_score=0.4, learning_rate=0.4, n_estimators=100; total time=   1.0s\n",
      "[CV] END base_score=0.4, learning_rate=0.4, n_estimators=150; total time=   1.6s\n",
      "[CV] END base_score=0.4, learning_rate=0.4, n_estimators=150; total time=   1.5s\n",
      "[CV] END base_score=0.4, learning_rate=0.4, n_estimators=150; total time=   1.6s\n",
      "[CV] END base_score=0.4, learning_rate=0.4, n_estimators=150; total time=   1.5s\n",
      "[CV] END base_score=0.4, learning_rate=0.4, n_estimators=150; total time=   1.5s\n",
      "[CV] END base_score=0.4, learning_rate=0.4, n_estimators=200; total time=   2.0s\n",
      "[CV] END base_score=0.4, learning_rate=0.4, n_estimators=200; total time=   2.0s\n",
      "[CV] END base_score=0.4, learning_rate=0.4, n_estimators=200; total time=   2.0s\n",
      "[CV] END base_score=0.4, learning_rate=0.4, n_estimators=200; total time=   2.0s\n",
      "[CV] END base_score=0.4, learning_rate=0.4, n_estimators=200; total time=   1.9s\n",
      "[CV] END .base_score=0.4, learning_rate=0.5, n_estimators=50; total time=   0.4s\n",
      "[CV] END .base_score=0.4, learning_rate=0.5, n_estimators=50; total time=   0.5s\n",
      "[CV] END .base_score=0.4, learning_rate=0.5, n_estimators=50; total time=   0.5s\n",
      "[CV] END .base_score=0.4, learning_rate=0.5, n_estimators=50; total time=   0.4s\n",
      "[CV] END .base_score=0.4, learning_rate=0.5, n_estimators=50; total time=   0.4s\n",
      "[CV] END base_score=0.4, learning_rate=0.5, n_estimators=100; total time=   0.9s\n",
      "[CV] END base_score=0.4, learning_rate=0.5, n_estimators=100; total time=   0.9s\n",
      "[CV] END base_score=0.4, learning_rate=0.5, n_estimators=100; total time=   1.3s\n",
      "[CV] END base_score=0.4, learning_rate=0.5, n_estimators=100; total time=   1.0s\n",
      "[CV] END base_score=0.4, learning_rate=0.5, n_estimators=100; total time=   0.9s\n",
      "[CV] END base_score=0.4, learning_rate=0.5, n_estimators=150; total time=   1.7s\n",
      "[CV] END base_score=0.4, learning_rate=0.5, n_estimators=150; total time=   1.7s\n",
      "[CV] END base_score=0.4, learning_rate=0.5, n_estimators=150; total time=   1.4s\n",
      "[CV] END base_score=0.4, learning_rate=0.5, n_estimators=150; total time=   1.4s\n",
      "[CV] END base_score=0.4, learning_rate=0.5, n_estimators=150; total time=   1.5s\n",
      "[CV] END base_score=0.4, learning_rate=0.5, n_estimators=200; total time=   2.1s\n",
      "[CV] END base_score=0.4, learning_rate=0.5, n_estimators=200; total time=   2.2s\n",
      "[CV] END base_score=0.4, learning_rate=0.5, n_estimators=200; total time=   2.2s\n",
      "[CV] END base_score=0.4, learning_rate=0.5, n_estimators=200; total time=   2.6s\n",
      "[CV] END base_score=0.4, learning_rate=0.5, n_estimators=200; total time=   3.6s\n",
      "[CV] END .base_score=0.4, learning_rate=0.6, n_estimators=50; total time=   0.7s\n",
      "[CV] END .base_score=0.4, learning_rate=0.6, n_estimators=50; total time=   0.7s\n",
      "[CV] END .base_score=0.4, learning_rate=0.6, n_estimators=50; total time=   0.7s\n",
      "[CV] END .base_score=0.4, learning_rate=0.6, n_estimators=50; total time=   0.7s\n",
      "[CV] END .base_score=0.4, learning_rate=0.6, n_estimators=50; total time=   0.6s\n",
      "[CV] END base_score=0.4, learning_rate=0.6, n_estimators=100; total time=   1.0s\n",
      "[CV] END base_score=0.4, learning_rate=0.6, n_estimators=100; total time=   1.1s\n",
      "[CV] END base_score=0.4, learning_rate=0.6, n_estimators=100; total time=   1.0s\n",
      "[CV] END base_score=0.4, learning_rate=0.6, n_estimators=100; total time=   0.9s\n",
      "[CV] END base_score=0.4, learning_rate=0.6, n_estimators=100; total time=   0.9s\n",
      "[CV] END base_score=0.4, learning_rate=0.6, n_estimators=150; total time=   1.4s\n",
      "[CV] END base_score=0.4, learning_rate=0.6, n_estimators=150; total time=   1.5s\n",
      "[CV] END base_score=0.4, learning_rate=0.6, n_estimators=150; total time=   1.5s\n",
      "[CV] END base_score=0.4, learning_rate=0.6, n_estimators=150; total time=   1.4s\n",
      "[CV] END base_score=0.4, learning_rate=0.6, n_estimators=150; total time=   1.4s\n",
      "[CV] END base_score=0.4, learning_rate=0.6, n_estimators=200; total time=   2.0s\n",
      "[CV] END base_score=0.4, learning_rate=0.6, n_estimators=200; total time=   2.0s\n",
      "[CV] END base_score=0.4, learning_rate=0.6, n_estimators=200; total time=   2.1s\n",
      "[CV] END base_score=0.4, learning_rate=0.6, n_estimators=200; total time=   2.0s\n",
      "[CV] END base_score=0.4, learning_rate=0.6, n_estimators=200; total time=   2.0s\n",
      "[CV] END .base_score=0.4, learning_rate=0.7, n_estimators=50; total time=   0.5s\n",
      "[CV] END .base_score=0.4, learning_rate=0.7, n_estimators=50; total time=   0.5s\n",
      "[CV] END .base_score=0.4, learning_rate=0.7, n_estimators=50; total time=   0.5s\n",
      "[CV] END .base_score=0.4, learning_rate=0.7, n_estimators=50; total time=   0.5s\n",
      "[CV] END .base_score=0.4, learning_rate=0.7, n_estimators=50; total time=   0.4s\n",
      "[CV] END base_score=0.4, learning_rate=0.7, n_estimators=100; total time=   1.0s\n",
      "[CV] END base_score=0.4, learning_rate=0.7, n_estimators=100; total time=   0.9s\n",
      "[CV] END base_score=0.4, learning_rate=0.7, n_estimators=100; total time=   1.0s\n",
      "[CV] END base_score=0.4, learning_rate=0.7, n_estimators=100; total time=   0.9s\n",
      "[CV] END base_score=0.4, learning_rate=0.7, n_estimators=100; total time=   1.0s\n",
      "[CV] END base_score=0.4, learning_rate=0.7, n_estimators=150; total time=   1.6s\n",
      "[CV] END base_score=0.4, learning_rate=0.7, n_estimators=150; total time=   1.5s\n",
      "[CV] END base_score=0.4, learning_rate=0.7, n_estimators=150; total time=   1.8s\n",
      "[CV] END base_score=0.4, learning_rate=0.7, n_estimators=150; total time=   1.5s\n",
      "[CV] END base_score=0.4, learning_rate=0.7, n_estimators=150; total time=   1.6s\n",
      "[CV] END base_score=0.4, learning_rate=0.7, n_estimators=200; total time=   2.1s\n",
      "[CV] END base_score=0.4, learning_rate=0.7, n_estimators=200; total time=   2.0s\n",
      "[CV] END base_score=0.4, learning_rate=0.7, n_estimators=200; total time=   2.0s\n",
      "[CV] END base_score=0.4, learning_rate=0.7, n_estimators=200; total time=   2.4s\n",
      "[CV] END base_score=0.4, learning_rate=0.7, n_estimators=200; total time=   2.3s\n",
      "[CV] END .base_score=0.5, learning_rate=0.3, n_estimators=50; total time=   0.6s\n"
     ]
    },
    {
     "name": "stdout",
     "output_type": "stream",
     "text": [
      "[CV] END .base_score=0.5, learning_rate=0.3, n_estimators=50; total time=   0.6s\n",
      "[CV] END .base_score=0.5, learning_rate=0.3, n_estimators=50; total time=   0.7s\n",
      "[CV] END .base_score=0.5, learning_rate=0.3, n_estimators=50; total time=   0.6s\n",
      "[CV] END .base_score=0.5, learning_rate=0.3, n_estimators=50; total time=   0.5s\n",
      "[CV] END base_score=0.5, learning_rate=0.3, n_estimators=100; total time=   1.0s\n",
      "[CV] END base_score=0.5, learning_rate=0.3, n_estimators=100; total time=   1.0s\n",
      "[CV] END base_score=0.5, learning_rate=0.3, n_estimators=100; total time=   1.0s\n",
      "[CV] END base_score=0.5, learning_rate=0.3, n_estimators=100; total time=   1.0s\n",
      "[CV] END base_score=0.5, learning_rate=0.3, n_estimators=100; total time=   1.0s\n",
      "[CV] END base_score=0.5, learning_rate=0.3, n_estimators=150; total time=   1.5s\n",
      "[CV] END base_score=0.5, learning_rate=0.3, n_estimators=150; total time=   1.6s\n",
      "[CV] END base_score=0.5, learning_rate=0.3, n_estimators=150; total time=   1.5s\n",
      "[CV] END base_score=0.5, learning_rate=0.3, n_estimators=150; total time=   1.5s\n",
      "[CV] END base_score=0.5, learning_rate=0.3, n_estimators=150; total time=   1.5s\n",
      "[CV] END base_score=0.5, learning_rate=0.3, n_estimators=200; total time=   2.0s\n",
      "[CV] END base_score=0.5, learning_rate=0.3, n_estimators=200; total time=   2.0s\n",
      "[CV] END base_score=0.5, learning_rate=0.3, n_estimators=200; total time=   2.0s\n",
      "[CV] END base_score=0.5, learning_rate=0.3, n_estimators=200; total time=   2.0s\n",
      "[CV] END base_score=0.5, learning_rate=0.3, n_estimators=200; total time=   2.0s\n",
      "[CV] END .base_score=0.5, learning_rate=0.4, n_estimators=50; total time=   0.5s\n",
      "[CV] END .base_score=0.5, learning_rate=0.4, n_estimators=50; total time=   0.5s\n",
      "[CV] END .base_score=0.5, learning_rate=0.4, n_estimators=50; total time=   0.4s\n",
      "[CV] END .base_score=0.5, learning_rate=0.4, n_estimators=50; total time=   0.5s\n",
      "[CV] END .base_score=0.5, learning_rate=0.4, n_estimators=50; total time=   0.5s\n",
      "[CV] END base_score=0.5, learning_rate=0.4, n_estimators=100; total time=   1.0s\n",
      "[CV] END base_score=0.5, learning_rate=0.4, n_estimators=100; total time=   1.1s\n",
      "[CV] END base_score=0.5, learning_rate=0.4, n_estimators=100; total time=   1.1s\n",
      "[CV] END base_score=0.5, learning_rate=0.4, n_estimators=100; total time=   0.9s\n",
      "[CV] END base_score=0.5, learning_rate=0.4, n_estimators=100; total time=   1.0s\n",
      "[CV] END base_score=0.5, learning_rate=0.4, n_estimators=150; total time=   1.4s\n",
      "[CV] END base_score=0.5, learning_rate=0.4, n_estimators=150; total time=   1.4s\n",
      "[CV] END base_score=0.5, learning_rate=0.4, n_estimators=150; total time=   1.5s\n",
      "[CV] END base_score=0.5, learning_rate=0.4, n_estimators=150; total time=   1.6s\n",
      "[CV] END base_score=0.5, learning_rate=0.4, n_estimators=150; total time=   1.5s\n",
      "[CV] END base_score=0.5, learning_rate=0.4, n_estimators=200; total time=   2.0s\n",
      "[CV] END base_score=0.5, learning_rate=0.4, n_estimators=200; total time=   2.0s\n",
      "[CV] END base_score=0.5, learning_rate=0.4, n_estimators=200; total time=   2.0s\n",
      "[CV] END base_score=0.5, learning_rate=0.4, n_estimators=200; total time=   2.0s\n",
      "[CV] END base_score=0.5, learning_rate=0.4, n_estimators=200; total time=   2.0s\n",
      "[CV] END .base_score=0.5, learning_rate=0.5, n_estimators=50; total time=   0.4s\n",
      "[CV] END .base_score=0.5, learning_rate=0.5, n_estimators=50; total time=   0.6s\n",
      "[CV] END .base_score=0.5, learning_rate=0.5, n_estimators=50; total time=   0.5s\n",
      "[CV] END .base_score=0.5, learning_rate=0.5, n_estimators=50; total time=   0.5s\n",
      "[CV] END .base_score=0.5, learning_rate=0.5, n_estimators=50; total time=   0.5s\n",
      "[CV] END base_score=0.5, learning_rate=0.5, n_estimators=100; total time=   1.0s\n",
      "[CV] END base_score=0.5, learning_rate=0.5, n_estimators=100; total time=   1.1s\n",
      "[CV] END base_score=0.5, learning_rate=0.5, n_estimators=100; total time=   1.0s\n",
      "[CV] END base_score=0.5, learning_rate=0.5, n_estimators=100; total time=   1.1s\n",
      "[CV] END base_score=0.5, learning_rate=0.5, n_estimators=100; total time=   1.0s\n",
      "[CV] END base_score=0.5, learning_rate=0.5, n_estimators=150; total time=   1.5s\n",
      "[CV] END base_score=0.5, learning_rate=0.5, n_estimators=150; total time=   1.6s\n",
      "[CV] END base_score=0.5, learning_rate=0.5, n_estimators=150; total time=   1.7s\n",
      "[CV] END base_score=0.5, learning_rate=0.5, n_estimators=150; total time=   1.7s\n",
      "[CV] END base_score=0.5, learning_rate=0.5, n_estimators=150; total time=   1.7s\n",
      "[CV] END base_score=0.5, learning_rate=0.5, n_estimators=200; total time=   2.2s\n",
      "[CV] END base_score=0.5, learning_rate=0.5, n_estimators=200; total time=   2.1s\n",
      "[CV] END base_score=0.5, learning_rate=0.5, n_estimators=200; total time=   2.1s\n",
      "[CV] END base_score=0.5, learning_rate=0.5, n_estimators=200; total time=   2.1s\n",
      "[CV] END base_score=0.5, learning_rate=0.5, n_estimators=200; total time=   2.1s\n",
      "[CV] END .base_score=0.5, learning_rate=0.6, n_estimators=50; total time=   0.5s\n",
      "[CV] END .base_score=0.5, learning_rate=0.6, n_estimators=50; total time=   0.5s\n",
      "[CV] END .base_score=0.5, learning_rate=0.6, n_estimators=50; total time=   0.5s\n",
      "[CV] END .base_score=0.5, learning_rate=0.6, n_estimators=50; total time=   0.5s\n",
      "[CV] END .base_score=0.5, learning_rate=0.6, n_estimators=50; total time=   0.5s\n",
      "[CV] END base_score=0.5, learning_rate=0.6, n_estimators=100; total time=   1.2s\n",
      "[CV] END base_score=0.5, learning_rate=0.6, n_estimators=100; total time=   1.4s\n",
      "[CV] END base_score=0.5, learning_rate=0.6, n_estimators=100; total time=   1.3s\n",
      "[CV] END base_score=0.5, learning_rate=0.6, n_estimators=100; total time=   1.2s\n",
      "[CV] END base_score=0.5, learning_rate=0.6, n_estimators=100; total time=   1.1s\n",
      "[CV] END base_score=0.5, learning_rate=0.6, n_estimators=150; total time=   1.7s\n",
      "[CV] END base_score=0.5, learning_rate=0.6, n_estimators=150; total time=   1.7s\n",
      "[CV] END base_score=0.5, learning_rate=0.6, n_estimators=150; total time=   1.6s\n",
      "[CV] END base_score=0.5, learning_rate=0.6, n_estimators=150; total time=   1.6s\n",
      "[CV] END base_score=0.5, learning_rate=0.6, n_estimators=150; total time=   1.7s\n",
      "[CV] END base_score=0.5, learning_rate=0.6, n_estimators=200; total time=   2.4s\n",
      "[CV] END base_score=0.5, learning_rate=0.6, n_estimators=200; total time=   2.3s\n",
      "[CV] END base_score=0.5, learning_rate=0.6, n_estimators=200; total time=   2.6s\n",
      "[CV] END base_score=0.5, learning_rate=0.6, n_estimators=200; total time=   2.5s\n",
      "[CV] END base_score=0.5, learning_rate=0.6, n_estimators=200; total time=   2.3s\n",
      "[CV] END .base_score=0.5, learning_rate=0.7, n_estimators=50; total time=   0.5s\n",
      "[CV] END .base_score=0.5, learning_rate=0.7, n_estimators=50; total time=   0.7s\n",
      "[CV] END .base_score=0.5, learning_rate=0.7, n_estimators=50; total time=   0.6s\n",
      "[CV] END .base_score=0.5, learning_rate=0.7, n_estimators=50; total time=   0.6s\n",
      "[CV] END .base_score=0.5, learning_rate=0.7, n_estimators=50; total time=   0.6s\n",
      "[CV] END base_score=0.5, learning_rate=0.7, n_estimators=100; total time=   1.1s\n",
      "[CV] END base_score=0.5, learning_rate=0.7, n_estimators=100; total time=   1.3s\n",
      "[CV] END base_score=0.5, learning_rate=0.7, n_estimators=100; total time=   1.5s\n",
      "[CV] END base_score=0.5, learning_rate=0.7, n_estimators=100; total time=   1.2s\n",
      "[CV] END base_score=0.5, learning_rate=0.7, n_estimators=100; total time=   1.4s\n",
      "[CV] END base_score=0.5, learning_rate=0.7, n_estimators=150; total time=   1.7s\n",
      "[CV] END base_score=0.5, learning_rate=0.7, n_estimators=150; total time=   1.8s\n",
      "[CV] END base_score=0.5, learning_rate=0.7, n_estimators=150; total time=   1.8s\n",
      "[CV] END base_score=0.5, learning_rate=0.7, n_estimators=150; total time=   1.9s\n",
      "[CV] END base_score=0.5, learning_rate=0.7, n_estimators=150; total time=   1.9s\n",
      "[CV] END base_score=0.5, learning_rate=0.7, n_estimators=200; total time=   2.4s\n",
      "[CV] END base_score=0.5, learning_rate=0.7, n_estimators=200; total time=   2.5s\n",
      "[CV] END base_score=0.5, learning_rate=0.7, n_estimators=200; total time=   3.4s\n",
      "[CV] END base_score=0.5, learning_rate=0.7, n_estimators=200; total time=   2.6s\n",
      "[CV] END base_score=0.5, learning_rate=0.7, n_estimators=200; total time=   2.5s\n",
      "[CV] END .base_score=0.6, learning_rate=0.3, n_estimators=50; total time=   0.6s\n",
      "[CV] END .base_score=0.6, learning_rate=0.3, n_estimators=50; total time=   0.6s\n",
      "[CV] END .base_score=0.6, learning_rate=0.3, n_estimators=50; total time=   0.6s\n"
     ]
    },
    {
     "name": "stdout",
     "output_type": "stream",
     "text": [
      "[CV] END .base_score=0.6, learning_rate=0.3, n_estimators=50; total time=   0.6s\n",
      "[CV] END .base_score=0.6, learning_rate=0.3, n_estimators=50; total time=   0.6s\n",
      "[CV] END base_score=0.6, learning_rate=0.3, n_estimators=100; total time=   1.3s\n",
      "[CV] END base_score=0.6, learning_rate=0.3, n_estimators=100; total time=   1.2s\n",
      "[CV] END base_score=0.6, learning_rate=0.3, n_estimators=100; total time=   1.4s\n",
      "[CV] END base_score=0.6, learning_rate=0.3, n_estimators=100; total time=   1.2s\n",
      "[CV] END base_score=0.6, learning_rate=0.3, n_estimators=100; total time=   1.2s\n",
      "[CV] END base_score=0.6, learning_rate=0.3, n_estimators=150; total time=   1.8s\n",
      "[CV] END base_score=0.6, learning_rate=0.3, n_estimators=150; total time=   2.1s\n",
      "[CV] END base_score=0.6, learning_rate=0.3, n_estimators=150; total time=   2.1s\n",
      "[CV] END base_score=0.6, learning_rate=0.3, n_estimators=150; total time=   2.0s\n",
      "[CV] END base_score=0.6, learning_rate=0.3, n_estimators=150; total time=   1.8s\n",
      "[CV] END base_score=0.6, learning_rate=0.3, n_estimators=200; total time=   2.6s\n",
      "[CV] END base_score=0.6, learning_rate=0.3, n_estimators=200; total time=   2.6s\n",
      "[CV] END base_score=0.6, learning_rate=0.3, n_estimators=200; total time=   2.8s\n",
      "[CV] END base_score=0.6, learning_rate=0.3, n_estimators=200; total time=   2.5s\n",
      "[CV] END base_score=0.6, learning_rate=0.3, n_estimators=200; total time=   2.3s\n",
      "[CV] END .base_score=0.6, learning_rate=0.4, n_estimators=50; total time=   0.5s\n",
      "[CV] END .base_score=0.6, learning_rate=0.4, n_estimators=50; total time=   0.6s\n",
      "[CV] END .base_score=0.6, learning_rate=0.4, n_estimators=50; total time=   0.6s\n",
      "[CV] END .base_score=0.6, learning_rate=0.4, n_estimators=50; total time=   0.5s\n",
      "[CV] END .base_score=0.6, learning_rate=0.4, n_estimators=50; total time=   0.6s\n",
      "[CV] END base_score=0.6, learning_rate=0.4, n_estimators=100; total time=   1.2s\n",
      "[CV] END base_score=0.6, learning_rate=0.4, n_estimators=100; total time=   1.2s\n",
      "[CV] END base_score=0.6, learning_rate=0.4, n_estimators=100; total time=   1.3s\n",
      "[CV] END base_score=0.6, learning_rate=0.4, n_estimators=100; total time=   1.2s\n",
      "[CV] END base_score=0.6, learning_rate=0.4, n_estimators=100; total time=   1.3s\n",
      "[CV] END base_score=0.6, learning_rate=0.4, n_estimators=150; total time=   1.9s\n",
      "[CV] END base_score=0.6, learning_rate=0.4, n_estimators=150; total time=   2.1s\n",
      "[CV] END base_score=0.6, learning_rate=0.4, n_estimators=150; total time=   1.9s\n",
      "[CV] END base_score=0.6, learning_rate=0.4, n_estimators=150; total time=   1.9s\n",
      "[CV] END base_score=0.6, learning_rate=0.4, n_estimators=150; total time=   1.9s\n",
      "[CV] END base_score=0.6, learning_rate=0.4, n_estimators=200; total time=   3.2s\n",
      "[CV] END base_score=0.6, learning_rate=0.4, n_estimators=200; total time=   2.6s\n",
      "[CV] END base_score=0.6, learning_rate=0.4, n_estimators=200; total time=   2.7s\n",
      "[CV] END base_score=0.6, learning_rate=0.4, n_estimators=200; total time=   2.9s\n",
      "[CV] END base_score=0.6, learning_rate=0.4, n_estimators=200; total time=   2.8s\n",
      "[CV] END .base_score=0.6, learning_rate=0.5, n_estimators=50; total time=   0.7s\n",
      "[CV] END .base_score=0.6, learning_rate=0.5, n_estimators=50; total time=   0.5s\n",
      "[CV] END .base_score=0.6, learning_rate=0.5, n_estimators=50; total time=   0.6s\n",
      "[CV] END .base_score=0.6, learning_rate=0.5, n_estimators=50; total time=   0.6s\n",
      "[CV] END .base_score=0.6, learning_rate=0.5, n_estimators=50; total time=   0.5s\n",
      "[CV] END base_score=0.6, learning_rate=0.5, n_estimators=100; total time=   1.3s\n",
      "[CV] END base_score=0.6, learning_rate=0.5, n_estimators=100; total time=   1.3s\n",
      "[CV] END base_score=0.6, learning_rate=0.5, n_estimators=100; total time=   1.4s\n",
      "[CV] END base_score=0.6, learning_rate=0.5, n_estimators=100; total time=   1.3s\n",
      "[CV] END base_score=0.6, learning_rate=0.5, n_estimators=100; total time=   1.4s\n",
      "[CV] END base_score=0.6, learning_rate=0.5, n_estimators=150; total time=   1.9s\n",
      "[CV] END base_score=0.6, learning_rate=0.5, n_estimators=150; total time=   2.1s\n",
      "[CV] END base_score=0.6, learning_rate=0.5, n_estimators=150; total time=   2.0s\n",
      "[CV] END base_score=0.6, learning_rate=0.5, n_estimators=150; total time=   2.2s\n",
      "[CV] END base_score=0.6, learning_rate=0.5, n_estimators=150; total time=   1.8s\n",
      "[CV] END base_score=0.6, learning_rate=0.5, n_estimators=200; total time=   2.4s\n",
      "[CV] END base_score=0.6, learning_rate=0.5, n_estimators=200; total time=   2.5s\n",
      "[CV] END base_score=0.6, learning_rate=0.5, n_estimators=200; total time=   2.4s\n",
      "[CV] END base_score=0.6, learning_rate=0.5, n_estimators=200; total time=   2.3s\n",
      "[CV] END base_score=0.6, learning_rate=0.5, n_estimators=200; total time=   3.3s\n",
      "[CV] END .base_score=0.6, learning_rate=0.6, n_estimators=50; total time=   0.6s\n",
      "[CV] END .base_score=0.6, learning_rate=0.6, n_estimators=50; total time=   0.7s\n",
      "[CV] END .base_score=0.6, learning_rate=0.6, n_estimators=50; total time=   0.6s\n",
      "[CV] END .base_score=0.6, learning_rate=0.6, n_estimators=50; total time=   0.6s\n",
      "[CV] END .base_score=0.6, learning_rate=0.6, n_estimators=50; total time=   0.6s\n",
      "[CV] END base_score=0.6, learning_rate=0.6, n_estimators=100; total time=   1.4s\n",
      "[CV] END base_score=0.6, learning_rate=0.6, n_estimators=100; total time=   1.5s\n",
      "[CV] END base_score=0.6, learning_rate=0.6, n_estimators=100; total time=   1.4s\n",
      "[CV] END base_score=0.6, learning_rate=0.6, n_estimators=100; total time=   1.3s\n",
      "[CV] END base_score=0.6, learning_rate=0.6, n_estimators=100; total time=   1.4s\n",
      "[CV] END base_score=0.6, learning_rate=0.6, n_estimators=150; total time=   1.9s\n",
      "[CV] END base_score=0.6, learning_rate=0.6, n_estimators=150; total time=   2.0s\n",
      "[CV] END base_score=0.6, learning_rate=0.6, n_estimators=150; total time=   2.1s\n",
      "[CV] END base_score=0.6, learning_rate=0.6, n_estimators=150; total time=   1.9s\n",
      "[CV] END base_score=0.6, learning_rate=0.6, n_estimators=150; total time=   1.7s\n",
      "[CV] END base_score=0.6, learning_rate=0.6, n_estimators=200; total time=   2.7s\n",
      "[CV] END base_score=0.6, learning_rate=0.6, n_estimators=200; total time=   2.7s\n",
      "[CV] END base_score=0.6, learning_rate=0.6, n_estimators=200; total time=   3.0s\n",
      "[CV] END base_score=0.6, learning_rate=0.6, n_estimators=200; total time=   2.7s\n",
      "[CV] END base_score=0.6, learning_rate=0.6, n_estimators=200; total time=   2.5s\n",
      "[CV] END .base_score=0.6, learning_rate=0.7, n_estimators=50; total time=   0.6s\n",
      "[CV] END .base_score=0.6, learning_rate=0.7, n_estimators=50; total time=   0.5s\n",
      "[CV] END .base_score=0.6, learning_rate=0.7, n_estimators=50; total time=   0.7s\n",
      "[CV] END .base_score=0.6, learning_rate=0.7, n_estimators=50; total time=   0.6s\n",
      "[CV] END .base_score=0.6, learning_rate=0.7, n_estimators=50; total time=   0.6s\n",
      "[CV] END base_score=0.6, learning_rate=0.7, n_estimators=100; total time=   1.2s\n",
      "[CV] END base_score=0.6, learning_rate=0.7, n_estimators=100; total time=   1.1s\n",
      "[CV] END base_score=0.6, learning_rate=0.7, n_estimators=100; total time=   1.3s\n",
      "[CV] END base_score=0.6, learning_rate=0.7, n_estimators=100; total time=   1.4s\n",
      "[CV] END base_score=0.6, learning_rate=0.7, n_estimators=100; total time=   1.2s\n",
      "[CV] END base_score=0.6, learning_rate=0.7, n_estimators=150; total time=   1.8s\n",
      "[CV] END base_score=0.6, learning_rate=0.7, n_estimators=150; total time=   1.8s\n",
      "[CV] END base_score=0.6, learning_rate=0.7, n_estimators=150; total time=   1.7s\n",
      "[CV] END base_score=0.6, learning_rate=0.7, n_estimators=150; total time=   1.7s\n",
      "[CV] END base_score=0.6, learning_rate=0.7, n_estimators=150; total time=   1.7s\n",
      "[CV] END base_score=0.6, learning_rate=0.7, n_estimators=200; total time=   2.4s\n",
      "[CV] END base_score=0.6, learning_rate=0.7, n_estimators=200; total time=   2.3s\n",
      "[CV] END base_score=0.6, learning_rate=0.7, n_estimators=200; total time=   2.3s\n",
      "[CV] END base_score=0.6, learning_rate=0.7, n_estimators=200; total time=   2.3s\n",
      "[CV] END base_score=0.6, learning_rate=0.7, n_estimators=200; total time=   2.3s\n",
      "{'base_score': 0.5, 'learning_rate': 0.3, 'n_estimators': 50}\n",
      "XGBClassifier(base_score=0.5, booster=None, callbacks=None,\n",
      "              colsample_bylevel=None, colsample_bynode=None,\n",
      "              colsample_bytree=None, early_stopping_rounds=None,\n",
      "              enable_categorical=False, eval_metric=None, feature_types=None,\n",
      "              gamma=None, gpu_id=None, grow_policy=None, importance_type=None,\n",
      "              interaction_constraints=None, learning_rate=0.3, max_bin=None,\n",
      "              max_cat_threshold=None, max_cat_to_onehot=None,\n",
      "              max_delta_step=None, max_depth=None, max_leaves=None,\n",
      "              min_child_weight=None, missing=nan, monotone_constraints=None,\n",
      "              n_estimators=50, n_jobs=None, num_parallel_tree=None,\n",
      "              predictor=None, random_state=None, ...)\n"
     ]
    }
   ],
   "source": [
    "param_grid = { \n",
    "    'learning_rate': [0.3,0.4,0.5,0.6,0.7],\n",
    "    'n_estimators' : [50,100,150,200],\n",
    "    'base_score': [0.4,0.5,0.6]\n",
    "}\n",
    "\n",
    "xgb_clf = GridSearchCV(estimator=XGBClassifier(), param_grid=param_grid, cv= 5, verbose = 2)\n",
    "xgb_clf.fit(X_train, y_train)\n",
    "\n",
    "# print best parameter after tuning\n",
    "print(xgb_clf.best_params_)\n",
    " \n",
    "# print how our model looks after hyper-parameter tuning\n",
    "print(xgb_clf.best_estimator_)"
   ]
  },
  {
   "cell_type": "code",
   "execution_count": 44,
   "metadata": {},
   "outputs": [
    {
     "data": {
      "text/plain": [
       "0.8466571428571428"
      ]
     },
     "execution_count": 44,
     "metadata": {},
     "output_type": "execute_result"
    }
   ],
   "source": [
    "xgb_clf.best_score_"
   ]
  },
  {
   "cell_type": "code",
   "execution_count": null,
   "metadata": {},
   "outputs": [],
   "source": []
  },
  {
   "cell_type": "code",
   "execution_count": 45,
   "metadata": {},
   "outputs": [
    {
     "data": {
      "text/plain": [
       "array([0.05075717, 0.08417379, 0.08104861, 0.05572521, 0.08536433,\n",
       "       0.05288049, 0.05374562, 0.27242067, 0.07735417, 0.06940907,\n",
       "       0.11712087], dtype=float32)"
      ]
     },
     "execution_count": 45,
     "metadata": {},
     "output_type": "execute_result"
    }
   ],
   "source": [
    "xgb_clf.best_estimator_.feature_importances_"
   ]
  },
  {
   "cell_type": "code",
   "execution_count": 48,
   "metadata": {
    "scrolled": true
   },
   "outputs": [
    {
     "name": "stderr",
     "output_type": "stream",
     "text": [
      "C:\\Users\\ashwi\\anaconda3\\lib\\site-packages\\sklearn\\model_selection\\_validation.py:593: DataConversionWarning: A column-vector y was passed when a 1d array was expected. Please change the shape of y to (n_samples,), for example using ravel().\n",
      "  estimator.fit(X_train, y_train, **fit_params)\n",
      "C:\\Users\\ashwi\\anaconda3\\lib\\site-packages\\sklearn\\model_selection\\_validation.py:593: DataConversionWarning: A column-vector y was passed when a 1d array was expected. Please change the shape of y to (n_samples,), for example using ravel().\n",
      "  estimator.fit(X_train, y_train, **fit_params)\n",
      "C:\\Users\\ashwi\\anaconda3\\lib\\site-packages\\sklearn\\model_selection\\_validation.py:593: DataConversionWarning: A column-vector y was passed when a 1d array was expected. Please change the shape of y to (n_samples,), for example using ravel().\n",
      "  estimator.fit(X_train, y_train, **fit_params)\n",
      "C:\\Users\\ashwi\\anaconda3\\lib\\site-packages\\sklearn\\model_selection\\_validation.py:593: DataConversionWarning: A column-vector y was passed when a 1d array was expected. Please change the shape of y to (n_samples,), for example using ravel().\n",
      "  estimator.fit(X_train, y_train, **fit_params)\n",
      "C:\\Users\\ashwi\\anaconda3\\lib\\site-packages\\sklearn\\model_selection\\_validation.py:593: DataConversionWarning: A column-vector y was passed when a 1d array was expected. Please change the shape of y to (n_samples,), for example using ravel().\n",
      "  estimator.fit(X_train, y_train, **fit_params)\n",
      "C:\\Users\\ashwi\\anaconda3\\lib\\site-packages\\sklearn\\model_selection\\_validation.py:593: DataConversionWarning: A column-vector y was passed when a 1d array was expected. Please change the shape of y to (n_samples,), for example using ravel().\n",
      "  estimator.fit(X_train, y_train, **fit_params)\n",
      "C:\\Users\\ashwi\\anaconda3\\lib\\site-packages\\sklearn\\model_selection\\_validation.py:593: DataConversionWarning: A column-vector y was passed when a 1d array was expected. Please change the shape of y to (n_samples,), for example using ravel().\n",
      "  estimator.fit(X_train, y_train, **fit_params)\n",
      "C:\\Users\\ashwi\\anaconda3\\lib\\site-packages\\sklearn\\model_selection\\_validation.py:593: DataConversionWarning: A column-vector y was passed when a 1d array was expected. Please change the shape of y to (n_samples,), for example using ravel().\n",
      "  estimator.fit(X_train, y_train, **fit_params)\n",
      "C:\\Users\\ashwi\\anaconda3\\lib\\site-packages\\sklearn\\model_selection\\_validation.py:593: DataConversionWarning: A column-vector y was passed when a 1d array was expected. Please change the shape of y to (n_samples,), for example using ravel().\n",
      "  estimator.fit(X_train, y_train, **fit_params)\n",
      "C:\\Users\\ashwi\\anaconda3\\lib\\site-packages\\sklearn\\model_selection\\_validation.py:593: DataConversionWarning: A column-vector y was passed when a 1d array was expected. Please change the shape of y to (n_samples,), for example using ravel().\n",
      "  estimator.fit(X_train, y_train, **fit_params)\n"
     ]
    },
    {
     "name": "stdout",
     "output_type": "stream",
     "text": [
      "[0.84857143 0.84857143 0.84857143 0.84857143 0.84828571 0.84828571\n",
      " 0.84828571 0.84828571 0.84828571 0.84828571]\n",
      "Accuracy of Model with Cross Validation is: 84.84\n"
     ]
    }
   ],
   "source": [
    "# checking cross-val score\n",
    "from sklearn.model_selection import cross_val_score\n",
    "\n",
    "model = RandomForestClassifier(max_depth=3, n_estimators=200)\n",
    "accuracy = cross_val_score(model, X_train, y_train, scoring='accuracy', cv = 10)\n",
    "print(accuracy)\n",
    "#get the mean of each fold \n",
    "print(\"Accuracy of Model with Cross Validation is:\",accuracy.mean() * 100)"
   ]
  },
  {
   "cell_type": "code",
   "execution_count": 50,
   "metadata": {},
   "outputs": [
    {
     "name": "stderr",
     "output_type": "stream",
     "text": [
      "<ipython-input-50-abdcfd573ad3>:1: DataConversionWarning: A column-vector y was passed when a 1d array was expected. Please change the shape of y to (n_samples,), for example using ravel().\n",
      "  model.fit(X_train,y_train)\n"
     ]
    }
   ],
   "source": [
    "model.fit(X_train,y_train)\n",
    "y_predRF = model.predict(X_test)"
   ]
  },
  {
   "cell_type": "code",
   "execution_count": 51,
   "metadata": {},
   "outputs": [
    {
     "name": "stdout",
     "output_type": "stream",
     "text": [
      "              precision    recall  f1-score   support\n",
      "\n",
      "           0       0.86      1.00      0.92     12828\n",
      "           1       0.00      0.00      0.00      2172\n",
      "\n",
      "    accuracy                           0.86     15000\n",
      "   macro avg       0.43      0.50      0.46     15000\n",
      "weighted avg       0.73      0.86      0.79     15000\n",
      "\n"
     ]
    },
    {
     "name": "stderr",
     "output_type": "stream",
     "text": [
      "C:\\Users\\ashwi\\anaconda3\\lib\\site-packages\\sklearn\\metrics\\_classification.py:1245: UndefinedMetricWarning: Precision and F-score are ill-defined and being set to 0.0 in labels with no predicted samples. Use `zero_division` parameter to control this behavior.\n",
      "  _warn_prf(average, modifier, msg_start, len(result))\n",
      "C:\\Users\\ashwi\\anaconda3\\lib\\site-packages\\sklearn\\metrics\\_classification.py:1245: UndefinedMetricWarning: Precision and F-score are ill-defined and being set to 0.0 in labels with no predicted samples. Use `zero_division` parameter to control this behavior.\n",
      "  _warn_prf(average, modifier, msg_start, len(result))\n",
      "C:\\Users\\ashwi\\anaconda3\\lib\\site-packages\\sklearn\\metrics\\_classification.py:1245: UndefinedMetricWarning: Precision and F-score are ill-defined and being set to 0.0 in labels with no predicted samples. Use `zero_division` parameter to control this behavior.\n",
      "  _warn_prf(average, modifier, msg_start, len(result))\n"
     ]
    }
   ],
   "source": [
    "from sklearn.metrics import classification_report\n",
    "print(classification_report(y_test, y_predRF))"
   ]
  }
 ],
 "metadata": {
  "kernelspec": {
   "display_name": "Python 3",
   "language": "python",
   "name": "python3"
  },
  "language_info": {
   "codemirror_mode": {
    "name": "ipython",
    "version": 3
   },
   "file_extension": ".py",
   "mimetype": "text/x-python",
   "name": "python",
   "nbconvert_exporter": "python",
   "pygments_lexer": "ipython3",
   "version": "3.8.8"
  },
  "vscode": {
   "interpreter": {
    "hash": "4f7924c4c56b083e0e50eadfe7ef592a7a8ef70df33a0047f82280e6be1afe15"
   }
  }
 },
 "nbformat": 4,
 "nbformat_minor": 2
}
